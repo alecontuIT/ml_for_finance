{
 "cells": [
  {
   "cell_type": "markdown",
   "id": "fa20cf78",
   "metadata": {},
   "source": [
    "## Loan default probability\n",
    "\n",
    "Lenders provide loans to borrowers in exchange for the promise of repayment with interest. That means the lender makes a profit only if the borrower pays off the loan. Hence, the two most critical questions in the lending industry are:\n",
    "- how risky is the borrower?\n",
    "- given the borrower's risk, should we lend to them?\n",
    "\n",
    "The goal of this case study is to build a machine learning model to predict the proba‐ bility that a loan will default. In most real-life cases we are unable to work with clean, complete data. Some of the potential problems we are bound to encounter are missing values, incomplete categorical data, and irrelevant features. Data cleaning is critical for the success of machine learning applications like this one.\n",
    "\n",
    "The target variable is *charge-off*, a debt that a creditor has given up trying to collect on after a borrower has missed payments for several months. The predicted variable takes a value of 1 in case of charge-off and a value of 0 otherwise. \n",
    "\n",
    "The dataset contains data for loans from 2007 to 2020 from a peer-to-peer lending company called Lending Club. The dataset can be downloaded from [Kaggle](https://www.kaggle.com/datasets/marcusos/lending-club-clean)."
   ]
  },
  {
   "cell_type": "code",
   "execution_count": 6,
   "id": "94da58e7",
   "metadata": {},
   "outputs": [],
   "source": [
    "import pandas as pd\n",
    "#pip install pyarrow\n",
    "\n",
    "dataset = pd.read_feather('./data/loans/lending_club_clean.feather')"
   ]
  },
  {
   "cell_type": "code",
   "execution_count": 9,
   "id": "0fa0233f",
   "metadata": {},
   "outputs": [
    {
     "data": {
      "text/html": [
       "<div>\n",
       "<style scoped>\n",
       "    .dataframe tbody tr th:only-of-type {\n",
       "        vertical-align: middle;\n",
       "    }\n",
       "\n",
       "    .dataframe tbody tr th {\n",
       "        vertical-align: top;\n",
       "    }\n",
       "\n",
       "    .dataframe thead th {\n",
       "        text-align: right;\n",
       "    }\n",
       "</style>\n",
       "<table border=\"1\" class=\"dataframe\">\n",
       "  <thead>\n",
       "    <tr style=\"text-align: right;\">\n",
       "      <th></th>\n",
       "      <th>id</th>\n",
       "      <th>loan_amnt</th>\n",
       "      <th>funded_amnt</th>\n",
       "      <th>funded_amnt_inv</th>\n",
       "      <th>term</th>\n",
       "      <th>int_rate</th>\n",
       "      <th>installment</th>\n",
       "      <th>grade</th>\n",
       "      <th>sub_grade</th>\n",
       "      <th>emp_title</th>\n",
       "      <th>...</th>\n",
       "      <th>hardship_start_date</th>\n",
       "      <th>hardship_end_date</th>\n",
       "      <th>payment_plan_start_date</th>\n",
       "      <th>hardship_length</th>\n",
       "      <th>hardship_dpd</th>\n",
       "      <th>hardship_loan_status</th>\n",
       "      <th>orig_projected_additional_accrued_interest</th>\n",
       "      <th>hardship_payoff_balance_amount</th>\n",
       "      <th>hardship_last_payment_amount</th>\n",
       "      <th>debt_settlement_flag</th>\n",
       "    </tr>\n",
       "  </thead>\n",
       "  <tbody>\n",
       "    <tr>\n",
       "      <th>0</th>\n",
       "      <td>1077501</td>\n",
       "      <td>5000</td>\n",
       "      <td>5000</td>\n",
       "      <td>4975.0</td>\n",
       "      <td>36</td>\n",
       "      <td>0.1065</td>\n",
       "      <td>162.869995</td>\n",
       "      <td>B</td>\n",
       "      <td>B2</td>\n",
       "      <td>NaN</td>\n",
       "      <td>...</td>\n",
       "      <td>NaT</td>\n",
       "      <td>NaT</td>\n",
       "      <td>NaT</td>\n",
       "      <td>-1</td>\n",
       "      <td>-1</td>\n",
       "      <td>NaN</td>\n",
       "      <td>-1.0</td>\n",
       "      <td>-1.0</td>\n",
       "      <td>-1.0</td>\n",
       "      <td>N</td>\n",
       "    </tr>\n",
       "    <tr>\n",
       "      <th>1</th>\n",
       "      <td>1077430</td>\n",
       "      <td>2500</td>\n",
       "      <td>2500</td>\n",
       "      <td>2500.0</td>\n",
       "      <td>60</td>\n",
       "      <td>0.1527</td>\n",
       "      <td>59.830002</td>\n",
       "      <td>C</td>\n",
       "      <td>C4</td>\n",
       "      <td>Ryder</td>\n",
       "      <td>...</td>\n",
       "      <td>NaT</td>\n",
       "      <td>NaT</td>\n",
       "      <td>NaT</td>\n",
       "      <td>-1</td>\n",
       "      <td>-1</td>\n",
       "      <td>NaN</td>\n",
       "      <td>-1.0</td>\n",
       "      <td>-1.0</td>\n",
       "      <td>-1.0</td>\n",
       "      <td>N</td>\n",
       "    </tr>\n",
       "    <tr>\n",
       "      <th>2</th>\n",
       "      <td>1077175</td>\n",
       "      <td>2400</td>\n",
       "      <td>2400</td>\n",
       "      <td>2400.0</td>\n",
       "      <td>36</td>\n",
       "      <td>0.1596</td>\n",
       "      <td>84.330002</td>\n",
       "      <td>C</td>\n",
       "      <td>C5</td>\n",
       "      <td>NaN</td>\n",
       "      <td>...</td>\n",
       "      <td>NaT</td>\n",
       "      <td>NaT</td>\n",
       "      <td>NaT</td>\n",
       "      <td>-1</td>\n",
       "      <td>-1</td>\n",
       "      <td>NaN</td>\n",
       "      <td>-1.0</td>\n",
       "      <td>-1.0</td>\n",
       "      <td>-1.0</td>\n",
       "      <td>N</td>\n",
       "    </tr>\n",
       "    <tr>\n",
       "      <th>3</th>\n",
       "      <td>1076863</td>\n",
       "      <td>10000</td>\n",
       "      <td>10000</td>\n",
       "      <td>10000.0</td>\n",
       "      <td>36</td>\n",
       "      <td>0.1349</td>\n",
       "      <td>339.309998</td>\n",
       "      <td>C</td>\n",
       "      <td>C1</td>\n",
       "      <td>AIR RESOURCES BOARD</td>\n",
       "      <td>...</td>\n",
       "      <td>NaT</td>\n",
       "      <td>NaT</td>\n",
       "      <td>NaT</td>\n",
       "      <td>-1</td>\n",
       "      <td>-1</td>\n",
       "      <td>NaN</td>\n",
       "      <td>-1.0</td>\n",
       "      <td>-1.0</td>\n",
       "      <td>-1.0</td>\n",
       "      <td>N</td>\n",
       "    </tr>\n",
       "    <tr>\n",
       "      <th>4</th>\n",
       "      <td>1075358</td>\n",
       "      <td>3000</td>\n",
       "      <td>3000</td>\n",
       "      <td>3000.0</td>\n",
       "      <td>60</td>\n",
       "      <td>0.1269</td>\n",
       "      <td>67.790001</td>\n",
       "      <td>B</td>\n",
       "      <td>B5</td>\n",
       "      <td>University Medical Group</td>\n",
       "      <td>...</td>\n",
       "      <td>NaT</td>\n",
       "      <td>NaT</td>\n",
       "      <td>NaT</td>\n",
       "      <td>-1</td>\n",
       "      <td>-1</td>\n",
       "      <td>NaN</td>\n",
       "      <td>-1.0</td>\n",
       "      <td>-1.0</td>\n",
       "      <td>-1.0</td>\n",
       "      <td>N</td>\n",
       "    </tr>\n",
       "  </tbody>\n",
       "</table>\n",
       "<p>5 rows × 141 columns</p>\n",
       "</div>"
      ],
      "text/plain": [
       "        id  loan_amnt  funded_amnt  funded_amnt_inv  term  int_rate  \\\n",
       "0  1077501       5000         5000           4975.0    36    0.1065   \n",
       "1  1077430       2500         2500           2500.0    60    0.1527   \n",
       "2  1077175       2400         2400           2400.0    36    0.1596   \n",
       "3  1076863      10000        10000          10000.0    36    0.1349   \n",
       "4  1075358       3000         3000           3000.0    60    0.1269   \n",
       "\n",
       "   installment grade sub_grade                 emp_title  ...  \\\n",
       "0   162.869995     B        B2                       NaN  ...   \n",
       "1    59.830002     C        C4                     Ryder  ...   \n",
       "2    84.330002     C        C5                       NaN  ...   \n",
       "3   339.309998     C        C1       AIR RESOURCES BOARD  ...   \n",
       "4    67.790001     B        B5  University Medical Group  ...   \n",
       "\n",
       "  hardship_start_date hardship_end_date  payment_plan_start_date  \\\n",
       "0                 NaT               NaT                      NaT   \n",
       "1                 NaT               NaT                      NaT   \n",
       "2                 NaT               NaT                      NaT   \n",
       "3                 NaT               NaT                      NaT   \n",
       "4                 NaT               NaT                      NaT   \n",
       "\n",
       "  hardship_length hardship_dpd hardship_loan_status  \\\n",
       "0              -1           -1                  NaN   \n",
       "1              -1           -1                  NaN   \n",
       "2              -1           -1                  NaN   \n",
       "3              -1           -1                  NaN   \n",
       "4              -1           -1                  NaN   \n",
       "\n",
       "  orig_projected_additional_accrued_interest hardship_payoff_balance_amount  \\\n",
       "0                                       -1.0                           -1.0   \n",
       "1                                       -1.0                           -1.0   \n",
       "2                                       -1.0                           -1.0   \n",
       "3                                       -1.0                           -1.0   \n",
       "4                                       -1.0                           -1.0   \n",
       "\n",
       "  hardship_last_payment_amount debt_settlement_flag  \n",
       "0                         -1.0                    N  \n",
       "1                         -1.0                    N  \n",
       "2                         -1.0                    N  \n",
       "3                         -1.0                    N  \n",
       "4                         -1.0                    N  \n",
       "\n",
       "[5 rows x 141 columns]"
      ]
     },
     "execution_count": 9,
     "metadata": {},
     "output_type": "execute_result"
    }
   ],
   "source": [
    "dataset.head()"
   ]
  },
  {
   "cell_type": "markdown",
   "id": "7bde9450",
   "metadata": {},
   "source": [
    "### Data Preparation and Feature Selection"
   ]
  },
  {
   "cell_type": "code",
   "execution_count": 11,
   "id": "0e8b278c",
   "metadata": {},
   "outputs": [
    {
     "data": {
      "text/plain": [
       "loan_status\n",
       "Fully Paid                                             1497783\n",
       "Current                                                1031016\n",
       "Charged Off                                             362548\n",
       "Late (31-120 days)                                       16154\n",
       "In Grace Period                                          10028\n",
       "Late (16-30 days)                                         2719\n",
       "Issued                                                    2062\n",
       "Does not meet the credit policy. Status:Fully Paid        1988\n",
       "Does not meet the credit policy. Status:Charged Off        761\n",
       "Default                                                    433\n",
       "Name: count, dtype: int64"
      ]
     },
     "execution_count": 11,
     "metadata": {},
     "output_type": "execute_result"
    }
   ],
   "source": [
    "# We're going to try to predict the loan_status variable. What are the value counts for this variable\n",
    "dataset['loan_status'].value_counts(dropna=False) "
   ]
  },
  {
   "cell_type": "markdown",
   "id": "f9c45aaf",
   "metadata": {},
   "source": [
    "We're interested only in the two categories \"fully-paid\" and \"charged-off\" in order to have a binary classification problem."
   ]
  },
  {
   "cell_type": "code",
   "execution_count": 12,
   "id": "1397d53a",
   "metadata": {},
   "outputs": [
    {
     "data": {
      "text/plain": [
       "loan_status\n",
       "Fully Paid                                             0.805116\n",
       "Charged Off                                            0.194884\n",
       "Current                                                0.000000\n",
       "Default                                                0.000000\n",
       "Does not meet the credit policy. Status:Charged Off    0.000000\n",
       "Does not meet the credit policy. Status:Fully Paid     0.000000\n",
       "In Grace Period                                        0.000000\n",
       "Issued                                                 0.000000\n",
       "Late (16-30 days)                                      0.000000\n",
       "Late (31-120 days)                                     0.000000\n",
       "Name: proportion, dtype: float64"
      ]
     },
     "execution_count": 12,
     "metadata": {},
     "output_type": "execute_result"
    }
   ],
   "source": [
    "dataset = dataset.loc[dataset['loan_status'].isin(['Fully Paid', 'Charged Off'])]\n",
    "\n",
    "dataset['loan_status'].value_counts(dropna=False)\n",
    "\n",
    "dataset['loan_status'].value_counts(normalize=True, dropna=False)"
   ]
  },
  {
   "cell_type": "markdown",
   "id": "501c47a5",
   "metadata": {},
   "source": [
    "About 80.5% of the remainig loans have been fully paid and 19.5% have been charged off, so we have a slightly unbalanced classification problem. Now we create a binary column in the dataset, where we categorize fully-paid as 0 and charged-off as 1."
   ]
  },
  {
   "cell_type": "code",
   "execution_count": 14,
   "id": "dc19402f",
   "metadata": {},
   "outputs": [
    {
     "name": "stderr",
     "output_type": "stream",
     "text": [
      "<ipython-input-14-a89f1de5c1b9>:3: SettingWithCopyWarning: \n",
      "A value is trying to be set on a copy of a slice from a DataFrame.\n",
      "Try using .loc[row_indexer,col_indexer] = value instead\n",
      "\n",
      "See the caveats in the documentation: https://pandas.pydata.org/pandas-docs/stable/user_guide/indexing.html#returning-a-view-versus-a-copy\n",
      "  dataset['charged_off'] = (dataset['loan_status'] == 'Charged Off').apply(np.uint8)\n",
      "<ipython-input-14-a89f1de5c1b9>:4: SettingWithCopyWarning: \n",
      "A value is trying to be set on a copy of a slice from a DataFrame\n",
      "\n",
      "See the caveats in the documentation: https://pandas.pydata.org/pandas-docs/stable/user_guide/indexing.html#returning-a-view-versus-a-copy\n",
      "  dataset.drop('loan_status', axis=1, inplace=True)\n"
     ]
    }
   ],
   "source": [
    "import numpy as np\n",
    "# 'charged-off' will be our target variable\n",
    "dataset['charged_off'] = (dataset['loan_status'] == 'Charged Off').apply(np.uint8)\n",
    "dataset.drop('loan_status', axis=1, inplace=True)"
   ]
  },
  {
   "cell_type": "markdown",
   "id": "6e5bd9ac",
   "metadata": {},
   "source": [
    "#### Feature selection\n",
    "\n",
    "The full dataset has 140 features for each loan, but not all features contribute to the prediction variable. Removing features of low importance can improve accuracy and reduce both model complexity and overfitting. Training time can also be reduced for very large datasets. We’ll eliminate features in the following steps using three different approaches:\n",
    "- Eliminating features that have more than 30% missing values.\n",
    "- Eliminating features that are unintuitive based on subjective judgment.\n",
    "- Eliminating features with low correlation with the predicted variable."
   ]
  },
  {
   "cell_type": "code",
   "execution_count": 19,
   "id": "566ef722",
   "metadata": {},
   "outputs": [
    {
     "data": {
      "text/plain": [
       "next_pymnt_d                 1.000000\n",
       "hardship_loan_status         0.993182\n",
       "hardship_status              0.993176\n",
       "hardship_type                0.993176\n",
       "payment_plan_start_date      0.993176\n",
       "hardship_end_date            0.993176\n",
       "hardship_start_date          0.993176\n",
       "hardship_reason              0.993175\n",
       "sec_app_earliest_cr_line     0.968483\n",
       "verification_status_joint    0.963825\n",
       "dtype: float64"
      ]
     },
     "execution_count": 19,
     "metadata": {},
     "output_type": "execute_result"
    }
   ],
   "source": [
    "# Compute the missing-data percentage for each feature\n",
    "\n",
    "missing_fractions = dataset.isnull().mean().sort_values(ascending=False)\n",
    "\n",
    "missing_fractions.head(10)"
   ]
  },
  {
   "cell_type": "code",
   "execution_count": 22,
   "id": "d376cfa0",
   "metadata": {},
   "outputs": [
    {
     "name": "stdout",
     "output_type": "stream",
     "text": [
      "['hardship_end_date', 'hardship_loan_status', 'hardship_reason', 'hardship_start_date', 'hardship_status', 'hardship_type', 'next_pymnt_d', 'payment_plan_start_date', 'sec_app_earliest_cr_line', 'verification_status_joint']\n"
     ]
    },
    {
     "name": "stderr",
     "output_type": "stream",
     "text": [
      "<ipython-input-22-0709dd219227>:4: SettingWithCopyWarning: \n",
      "A value is trying to be set on a copy of a slice from a DataFrame\n",
      "\n",
      "See the caveats in the documentation: https://pandas.pydata.org/pandas-docs/stable/user_guide/indexing.html#returning-a-view-versus-a-copy\n",
      "  dataset.drop(labels=drop_list, axis=1, inplace=True)\n"
     ]
    }
   ],
   "source": [
    "# Drop columns that have more than 30% of missing data\n",
    "drop_list = sorted(list(missing_fractions[missing_fractions > 0.3].index))\n",
    "\n",
    "dataset.drop(labels=drop_list, axis=1, inplace=True)\n",
    "print(drop_list)"
   ]
  },
  {
   "cell_type": "markdown",
   "id": "75146ecd",
   "metadata": {},
   "source": [
    "#### Feature elimination based on intuitiveness\n",
    "\n",
    "To filter the features further we check the description in the data dictionary and keep the features that intuitively contribute to the prediction of default. We keep features that contain the relevant credit detail of the borrower, including annual income, FICO score, debt-to-income ratio, loan grade and interest rate. "
   ]
  },
  {
   "cell_type": "code",
   "execution_count": 24,
   "id": "a9a1f428",
   "metadata": {},
   "outputs": [
    {
     "name": "stderr",
     "output_type": "stream",
     "text": [
      "<ipython-input-24-38d6c4843056>:17: SettingWithCopyWarning: \n",
      "A value is trying to be set on a copy of a slice from a DataFrame\n",
      "\n",
      "See the caveats in the documentation: https://pandas.pydata.org/pandas-docs/stable/user_guide/indexing.html#returning-a-view-versus-a-copy\n",
      "  dataset.drop(labels=drop_list, axis=1, inplace=True)\n"
     ]
    },
    {
     "data": {
      "text/plain": [
       "(1860331, 39)"
      ]
     },
     "execution_count": 24,
     "metadata": {},
     "output_type": "execute_result"
    }
   ],
   "source": [
    "keep_list = ['charged_off','funded_amnt','addr_state', 'annual_inc', \\\n",
    "    'application_type','dti', 'emp_length',\\\n",
    "    'emp_title', 'fico_range_high',\\\n",
    "    'fico_range_low', 'grade', 'home_ownership', 'id', 'initial_list_status', \\\n",
    "    'installment', 'int_rate', 'loan_amnt', 'loan_status',\\\n",
    "    'mort_acc', 'open_acc', 'pub_rec', 'pub_rec_bankruptcies', \\\n",
    "    'purpose', 'revol_bal', 'revol_util', \\\n",
    "    'sub_grade', 'term', 'title', 'total_acc',\\\n",
    "    'verification_status', 'zip_code','last_pymnt_amnt',\\\n",
    "    'num_actv_rev_tl', 'mo_sin_rcnt_rev_tl_op',\\\n",
    "    'mo_sin_old_rev_tl_op',\"bc_util\",\"bc_open_to_buy\",\\\n",
    "    \"avg_cur_bal\",\"acc_open_past_24mths\" ]\n",
    "\n",
    "drop_list = [col for col in dataset.columns if col not in keep_list]\n",
    "\n",
    "# Drop all the columns that are not in the keep-list\n",
    "dataset.drop(labels=drop_list, axis=1, inplace=True)\n",
    "\n",
    "dataset.shape"
   ]
  },
  {
   "cell_type": "markdown",
   "id": "b00c2be2",
   "metadata": {},
   "source": [
    "#### Feature selection based on the correlation\n",
    "\n",
    "We check the correlation with the predicted variable and select features with a moderate-to-strong relationship with the target variable and drop those that have a correlation of less than 3% with the predicted variable.\n"
   ]
  },
  {
   "cell_type": "code",
   "execution_count": 27,
   "id": "bce65c19",
   "metadata": {},
   "outputs": [
    {
     "data": {
      "text/plain": [
       "charged_off              1.000000\n",
       "last_pymnt_amnt          0.329065\n",
       "int_rate                 0.253294\n",
       "term                     0.168494\n",
       "fico_range_low           0.120516\n",
       "fico_range_high          0.120515\n",
       "acc_open_past_24mths     0.095231\n",
       "funded_amnt              0.071946\n",
       "loan_amnt                0.071915\n",
       "bc_open_to_buy           0.070527\n",
       "avg_cur_bal              0.068673\n",
       "mort_acc                 0.066987\n",
       "num_actv_rev_tl          0.066615\n",
       "dti                      0.063828\n",
       "installment              0.059915\n",
       "bc_util                  0.056019\n",
       "revol_util               0.049437\n",
       "mo_sin_rcnt_rev_tl_op    0.047360\n",
       "id                       0.043718\n",
       "mo_sin_old_rev_tl_op     0.041890\n",
       "pub_rec_bankruptcies     0.027651\n",
       "pub_rec                  0.023995\n",
       "annual_inc               0.022470\n",
       "revol_bal                0.022170\n",
       "open_acc                 0.021118\n",
       "total_acc                0.015674\n",
       "Name: charged_off, dtype: float64"
      ]
     },
     "execution_count": 27,
     "metadata": {},
     "output_type": "execute_result"
    }
   ],
   "source": [
    "correlation = dataset.corr(numeric_only=True)\n",
    "correlation_chargeOff = abs(correlation['charged_off'])\n",
    "\n",
    "correlation_chargeOff.sort_values(ascending=False)"
   ]
  },
  {
   "cell_type": "code",
   "execution_count": 28,
   "id": "d9f0dca8",
   "metadata": {},
   "outputs": [
    {
     "name": "stdout",
     "output_type": "stream",
     "text": [
      "['annual_inc', 'open_acc', 'pub_rec', 'pub_rec_bankruptcies', 'revol_bal', 'total_acc']\n"
     ]
    }
   ],
   "source": [
    "drop_list_corr = sorted(list(correlation_chargeOff[correlation_chargeOff < 0.03].index))\n",
    "print(drop_list_corr)"
   ]
  },
  {
   "cell_type": "code",
   "execution_count": 29,
   "id": "b7f056eb",
   "metadata": {},
   "outputs": [
    {
     "name": "stderr",
     "output_type": "stream",
     "text": [
      "<ipython-input-29-611e146d1556>:1: SettingWithCopyWarning: \n",
      "A value is trying to be set on a copy of a slice from a DataFrame\n",
      "\n",
      "See the caveats in the documentation: https://pandas.pydata.org/pandas-docs/stable/user_guide/indexing.html#returning-a-view-versus-a-copy\n",
      "  dataset.drop(labels=drop_list_corr, axis=1, inplace=True)\n"
     ]
    },
    {
     "data": {
      "text/plain": [
       "(1860331, 33)"
      ]
     },
     "execution_count": 29,
     "metadata": {},
     "output_type": "execute_result"
    }
   ],
   "source": [
    "dataset.drop(labels=drop_list_corr, axis=1, inplace=True)\n",
    "dataset.shape"
   ]
  },
  {
   "cell_type": "markdown",
   "id": "d6e8595d",
   "metadata": {},
   "source": [
    "### Feature Engineering and Exploratory Analysis\n",
    "#### Analyzing the categorical features\n",
    "IDs are all unique and irrelevant for modeling. Occupation and job title may provide some information for default modeling; however, we assume much of this information is embedded in the verified income of the customer. Additional cleaning steps on these features, such as standardizing or grouping the titles, would be necessary to extract any marginal information. This work is outside the scope of this case study but could be explored in subsequent iterations of the model. Geography could play a role in credit determination, and zip codes provide a granu‐ lar view of this dimension. Again, additional work would be necessary to prepare this feature for modeling and was deemed outside the scope of this case study."
   ]
  },
  {
   "cell_type": "code",
   "execution_count": 30,
   "id": "cab90e74",
   "metadata": {},
   "outputs": [
    {
     "name": "stderr",
     "output_type": "stream",
     "text": [
      "<ipython-input-30-dd5686e50453>:3: SettingWithCopyWarning: \n",
      "A value is trying to be set on a copy of a slice from a DataFrame\n",
      "\n",
      "See the caveats in the documentation: https://pandas.pydata.org/pandas-docs/stable/user_guide/indexing.html#returning-a-view-versus-a-copy\n",
      "  dataset.drop(['id','emp_title','title','zip_code'], axis=1, inplace=True)\n"
     ]
    }
   ],
   "source": [
    "#Ids are all unique and there are too many job titles and titles and zipcode, \n",
    "#these column is dropped The ID is not useful for modeling.\n",
    "dataset.drop(['id','emp_title','title','zip_code'], axis=1, inplace=True)"
   ]
  },
  {
   "cell_type": "markdown",
   "id": "850015e1",
   "metadata": {},
   "source": [
    "*Term* refers to the number of payments on the loan. Values are in months and can be either 36 or 60. The 60-month loans are more likely to charge off. Loans with five-year periods are more than twice as likely to charge-off as loans with three-year periods. This feature seems to be important for the prediction."
   ]
  },
  {
   "cell_type": "code",
   "execution_count": 33,
   "id": "e358711e",
   "metadata": {},
   "outputs": [
    {
     "data": {
      "text/plain": [
       "term\n",
       "36    0.156242\n",
       "60    0.310163\n",
       "Name: proportion, dtype: float64"
      ]
     },
     "execution_count": 33,
     "metadata": {},
     "output_type": "execute_result"
    }
   ],
   "source": [
    "# Percentage of charged-off for the two different temporal loans.\n",
    "dataset.groupby('term')['charged_off'].value_counts(normalize=True).loc[:,1]"
   ]
  },
  {
   "cell_type": "markdown",
   "id": "2a1b6405",
   "metadata": {},
   "source": [
    "Let's check the employment length feature:"
   ]
  },
  {
   "cell_type": "code",
   "execution_count": 36,
   "id": "6d6f074a",
   "metadata": {},
   "outputs": [
    {
     "name": "stderr",
     "output_type": "stream",
     "text": [
      "<ipython-input-36-0752f6a78803>:3: SettingWithCopyWarning: \n",
      "A value is trying to be set on a copy of a slice from a DataFrame\n",
      "\n",
      "See the caveats in the documentation: https://pandas.pydata.org/pandas-docs/stable/user_guide/indexing.html#returning-a-view-versus-a-copy\n",
      "  dataset['emp_length'].replace(to_replace='10+ years', value='10 years', inplace=True)\n",
      "<ipython-input-36-0752f6a78803>:5: SettingWithCopyWarning: \n",
      "A value is trying to be set on a copy of a slice from a DataFrame\n",
      "\n",
      "See the caveats in the documentation: https://pandas.pydata.org/pandas-docs/stable/user_guide/indexing.html#returning-a-view-versus-a-copy\n",
      "  dataset['emp_length'].replace('< 1 year', '0 years', inplace=True)\n",
      "<ipython-input-36-0752f6a78803>:13: SettingWithCopyWarning: \n",
      "A value is trying to be set on a copy of a slice from a DataFrame.\n",
      "Try using .loc[row_indexer,col_indexer] = value instead\n",
      "\n",
      "See the caveats in the documentation: https://pandas.pydata.org/pandas-docs/stable/user_guide/indexing.html#returning-a-view-versus-a-copy\n",
      "  dataset['emp_length'] = dataset['emp_length'].apply(emp_length_to_int)\n"
     ]
    },
    {
     "data": {
      "text/plain": [
       "<Axes: xlabel='emp_length'>"
      ]
     },
     "execution_count": 36,
     "metadata": {},
     "output_type": "execute_result"
    },
    {
     "data": {
      "image/png": "[encoded data removed]",
      "text/plain": [
       "<Figure size 432x288 with 1 Axes>"
      ]
     },
     "metadata": {
      "needs_background": "light"
     },
     "output_type": "display_data"
    }
   ],
   "source": [
    "import seaborn as sns\n",
    "\n",
    "dataset['emp_length'].replace(to_replace='10+ years', value='10 years', inplace=True)\n",
    "\n",
    "dataset['emp_length'].replace('< 1 year', '0 years', inplace=True)\n",
    "\n",
    "def emp_length_to_int(s):\n",
    "    if pd.isnull(s):\n",
    "        return s\n",
    "    else:\n",
    "        return np.int8(str(s).split()[0])\n",
    "    \n",
    "dataset['emp_length'] = dataset['emp_length'].apply(emp_length_to_int)\n",
    "\n",
    "\n",
    "charge_off_rates = dataset.groupby('emp_length')['charged_off'].value_counts(normalize=True).loc[:,1]\n",
    "sns.barplot(x=charge_off_rates.index, y=charge_off_rates.values, color='#5975A4', saturation=1)"
   ]
  },
  {
   "cell_type": "markdown",
   "id": "fc3e9174",
   "metadata": {},
   "source": [
    "Loan status does not appear to vary much with *employment length* (on average); hence this feature is dropped."
   ]
  },
  {
   "cell_type": "code",
   "execution_count": 37,
   "id": "59504327",
   "metadata": {},
   "outputs": [
    {
     "name": "stderr",
     "output_type": "stream",
     "text": [
      "<ipython-input-37-5cd6b947b435>:1: SettingWithCopyWarning: \n",
      "A value is trying to be set on a copy of a slice from a DataFrame\n",
      "\n",
      "See the caveats in the documentation: https://pandas.pydata.org/pandas-docs/stable/user_guide/indexing.html#returning-a-view-versus-a-copy\n",
      "  dataset.drop(['emp_length'], axis=1, inplace=True)\n"
     ]
    }
   ],
   "source": [
    "dataset.drop(['emp_length'], axis=1, inplace=True)"
   ]
  },
  {
   "cell_type": "markdown",
   "id": "fb92047f",
   "metadata": {},
   "source": [
    "Let's check the feature *sub-grade*"
   ]
  },
  {
   "cell_type": "code",
   "execution_count": 38,
   "id": "11f7bdde",
   "metadata": {},
   "outputs": [
    {
     "data": {
      "text/plain": [
       "<Axes: xlabel='sub_grade'>"
      ]
     },
     "execution_count": 38,
     "metadata": {},
     "output_type": "execute_result"
    },
    {
     "data": {
      "image/png": "[encoded data removed]",
      "text/plain": [
       "<Figure size 864x360 with 1 Axes>"
      ]
     },
     "metadata": {},
     "output_type": "display_data"
    }
   ],
   "source": [
    "charge_off_rates = dataset.groupby('sub_grade')['charged_off'].value_counts(normalize=True).loc[:,1]\n",
    "sns.set(rc={'figure.figsize':(12,5)})\n",
    "sns.barplot(x=charge_off_rates.index, y=charge_off_rates.values, color='#5975A4', saturation=1)"
   ]
  },
  {
   "cell_type": "markdown",
   "id": "eef5e89e",
   "metadata": {},
   "source": [
    "There's a clear trend of higher probability of charge-off as the subgrade worsens. For this reason this feature is considered a key-feature.\n",
    "\n",
    "#### Analyzing continuous features\n",
    "\n",
    "Let's check FICO score. Given that the correlation between fico low and high is 1 it is preferred to keep only one feature which is average of FICO Scores."
   ]
  },
  {
   "cell_type": "code",
   "execution_count": 44,
   "id": "62356ece",
   "metadata": {},
   "outputs": [
    {
     "data": {
      "text/html": [
       "<div>\n",
       "<style scoped>\n",
       "    .dataframe tbody tr th:only-of-type {\n",
       "        vertical-align: middle;\n",
       "    }\n",
       "\n",
       "    .dataframe tbody tr th {\n",
       "        vertical-align: top;\n",
       "    }\n",
       "\n",
       "    .dataframe thead th {\n",
       "        text-align: right;\n",
       "    }\n",
       "</style>\n",
       "<table border=\"1\" class=\"dataframe\">\n",
       "  <thead>\n",
       "    <tr style=\"text-align: right;\">\n",
       "      <th></th>\n",
       "      <th>fico_range_low</th>\n",
       "      <th>fico_range_high</th>\n",
       "    </tr>\n",
       "  </thead>\n",
       "  <tbody>\n",
       "    <tr>\n",
       "      <th>fico_range_low</th>\n",
       "      <td>1.0</td>\n",
       "      <td>1.0</td>\n",
       "    </tr>\n",
       "    <tr>\n",
       "      <th>fico_range_high</th>\n",
       "      <td>1.0</td>\n",
       "      <td>1.0</td>\n",
       "    </tr>\n",
       "  </tbody>\n",
       "</table>\n",
       "</div>"
      ],
      "text/plain": [
       "                 fico_range_low  fico_range_high\n",
       "fico_range_low              1.0              1.0\n",
       "fico_range_high             1.0              1.0"
      ]
     },
     "execution_count": 44,
     "metadata": {},
     "output_type": "execute_result"
    }
   ],
   "source": [
    "dataset[['fico_range_low','fico_range_high']].corr()"
   ]
  },
  {
   "cell_type": "code",
   "execution_count": 45,
   "id": "26f5a578",
   "metadata": {},
   "outputs": [
    {
     "name": "stderr",
     "output_type": "stream",
     "text": [
      "<ipython-input-45-8b3df8342ff7>:1: SettingWithCopyWarning: \n",
      "A value is trying to be set on a copy of a slice from a DataFrame.\n",
      "Try using .loc[row_indexer,col_indexer] = value instead\n",
      "\n",
      "See the caveats in the documentation: https://pandas.pydata.org/pandas-docs/stable/user_guide/indexing.html#returning-a-view-versus-a-copy\n",
      "  dataset['fico_score'] = 0.5*dataset['fico_range_low'] + 0.5*dataset['fico_range_high']\n",
      "<ipython-input-45-8b3df8342ff7>:3: SettingWithCopyWarning: \n",
      "A value is trying to be set on a copy of a slice from a DataFrame\n",
      "\n",
      "See the caveats in the documentation: https://pandas.pydata.org/pandas-docs/stable/user_guide/indexing.html#returning-a-view-versus-a-copy\n",
      "  dataset.drop(['fico_range_high', 'fico_range_low'], axis=1, inplace=True)\n"
     ]
    }
   ],
   "source": [
    "dataset['fico_score'] = 0.5*dataset['fico_range_low'] + 0.5*dataset['fico_range_high']\n",
    "\n",
    "dataset.drop(['fico_range_high', 'fico_range_low'], axis=1, inplace=True)"
   ]
  },
  {
   "cell_type": "markdown",
   "id": "088e91f2",
   "metadata": {},
   "source": [
    "#### Encoding categorical data\n",
    "\n",
    "In order to use a feature in the classification models, we need to convert the categorical data (i.e., text features) to its numeric representation. For this case study we will use a label encoder, which encodes labels with a value between 0 and n, where n is the number of distinct labels."
   ]
  },
  {
   "cell_type": "code",
   "execution_count": 53,
   "id": "e6b3d375",
   "metadata": {},
   "outputs": [
    {
     "name": "stdout",
     "output_type": "stream",
     "text": [
      "['grade', 'sub_grade', 'home_ownership', 'verification_status', 'purpose', 'addr_state', 'initial_list_status', 'application_type']\n"
     ]
    }
   ],
   "source": [
    "from sklearn.preprocessing import LabelEncoder\n",
    "\n",
    "# Categorical boolean mask\n",
    "#categorical_feature_mask = dataset.dtypes==object\n",
    "categorical_feature_mask = dataset.dtypes=='category'\n",
    "# filter categorical columns using mask and turn it into a list\n",
    "categorical_cols = dataset.columns[categorical_feature_mask].tolist()\n",
    "print(categorical_cols)"
   ]
  },
  {
   "cell_type": "code",
   "execution_count": 54,
   "id": "60bbcd33",
   "metadata": {},
   "outputs": [
    {
     "name": "stderr",
     "output_type": "stream",
     "text": [
      "<ipython-input-54-5989ec303482>:3: SettingWithCopyWarning: \n",
      "A value is trying to be set on a copy of a slice from a DataFrame.\n",
      "Try using .loc[row_indexer,col_indexer] = value instead\n",
      "\n",
      "See the caveats in the documentation: https://pandas.pydata.org/pandas-docs/stable/user_guide/indexing.html#returning-a-view-versus-a-copy\n",
      "  dataset[categorical_cols] = dataset[categorical_cols].apply(lambda col: le.fit_transform(col))\n"
     ]
    }
   ],
   "source": [
    "le = LabelEncoder()\n",
    "# apply the label encoder on categorical feature columns\n",
    "dataset[categorical_cols] = dataset[categorical_cols].apply(lambda col: le.fit_transform(col))"
   ]
  },
  {
   "cell_type": "markdown",
   "id": "880406da",
   "metadata": {},
   "source": [
    "#### Sampling data\n",
    "We see that the target variable is **unbalanced**. For this reason we decide to **sample the data** in order to have an equal number of charge-off and no charge-off observation. Sampling leads to a more bal‐ anced dataset and avoids overfitting but it may exclude some data that might not be homogeneous to the data that is taken. This affects the level of accuracy in the results. Also, selection of the proper size of samples is a difficult job. Hence, sampling should be performed with caution and should generally be avoided in the case of a relatively balanced dataset.\n"
   ]
  },
  {
   "cell_type": "code",
   "execution_count": 55,
   "id": "f55f733e",
   "metadata": {},
   "outputs": [
    {
     "data": {
      "text/plain": [
       "charged_off\n",
       "0    1497783\n",
       "1     362548\n",
       "Name: count, dtype: int64"
      ]
     },
     "execution_count": 55,
     "metadata": {},
     "output_type": "execute_result"
    }
   ],
   "source": [
    "dataset['charged_off'].value_counts()"
   ]
  },
  {
   "cell_type": "code",
   "execution_count": 56,
   "id": "9d985792",
   "metadata": {},
   "outputs": [
    {
     "name": "stdout",
     "output_type": "stream",
     "text": [
      "Current shape of dataset : (11000, 27)\n"
     ]
    }
   ],
   "source": [
    "loanstatus_0 = dataset[dataset[\"charged_off\"]==0]\n",
    "loanstatus_1 = dataset[dataset[\"charged_off\"]==1]\n",
    "subset_of_loanstatus_0 = loanstatus_0.sample(n=5500)\n",
    "subset_of_loanstatus_1 = loanstatus_1.sample(n=5500)\n",
    "dataset = pd.concat([subset_of_loanstatus_1, subset_of_loanstatus_0])\n",
    "dataset = dataset.sample(frac=1).reset_index(drop=True)\n",
    "print(\"Current shape of dataset :\",dataset.shape)"
   ]
  },
  {
   "cell_type": "code",
   "execution_count": 59,
   "id": "e537046e",
   "metadata": {},
   "outputs": [],
   "source": [
    "#Filling the NAs with the mean of the column.\n",
    "dataset.fillna(dataset.mean(),inplace = True)"
   ]
  },
  {
   "cell_type": "markdown",
   "id": "9958a0eb",
   "metadata": {},
   "source": [
    "### Evaluate Algorithms and Models"
   ]
  },
  {
   "cell_type": "code",
   "execution_count": 73,
   "id": "199307b9",
   "metadata": {},
   "outputs": [],
   "source": [
    "from sklearn.model_selection import train_test_split\n",
    "# Train-test split\n",
    "Y= dataset[\"charged_off\"]\n",
    "X = dataset.loc[:, dataset.columns != 'charged_off']\n",
    "validation_size = 0.2\n",
    "seed = 7\n",
    "X_train, X_validation, Y_train, Y_validation = train_test_split(X, Y, test_size=validation_size, random_state=seed)"
   ]
  },
  {
   "cell_type": "code",
   "execution_count": 74,
   "id": "ac20eba7",
   "metadata": {},
   "outputs": [],
   "source": [
    "from sklearn.linear_model import LogisticRegression\n",
    "from sklearn.tree import DecisionTreeClassifier\n",
    "from sklearn.neighbors import KNeighborsClassifier\n",
    "from sklearn.discriminant_analysis import LinearDiscriminantAnalysis\n",
    "from sklearn.naive_bayes import GaussianNB\n",
    "from sklearn.neural_network import MLPClassifier\n",
    "from sklearn.ensemble import AdaBoostClassifier, GradientBoostingClassifier, RandomForestClassifier, ExtraTreesClassifier\n",
    "\n",
    "# spot check the algorithms\n",
    "models = []\n",
    "models.append(('LR', LogisticRegression()))\n",
    "models.append(('LDA', LinearDiscriminantAnalysis()))\n",
    "models.append(('KNN', KNeighborsClassifier()))\n",
    "models.append(('CART', DecisionTreeClassifier()))\n",
    "models.append(('NB', GaussianNB()))\n",
    "#Neural Network\n",
    "models.append(('NN', MLPClassifier()))\n",
    "#Ensable Models \n",
    "# Boosting methods\n",
    "models.append(('AB', AdaBoostClassifier()))\n",
    "models.append(('GBM', GradientBoostingClassifier()))\n",
    "# Bagging methods\n",
    "models.append(('RF', RandomForestClassifier()))\n",
    "models.append(('ET', ExtraTreesClassifier()))"
   ]
  },
  {
   "cell_type": "code",
   "execution_count": 75,
   "id": "b730f7c8",
   "metadata": {},
   "outputs": [],
   "source": [
    "# k-fold\n",
    "num_folds = 10\n",
    "# test options for classification\n",
    "#scoring = 'accuracy'\n",
    "#scoring ='precision'\n",
    "#scoring ='recall'\n",
    "scoring = 'roc_auc'"
   ]
  },
  {
   "cell_type": "code",
   "execution_count": 76,
   "id": "0a5111d8",
   "metadata": {},
   "outputs": [
    {
     "data": {
      "text/html": [
       "<div>\n",
       "<style scoped>\n",
       "    .dataframe tbody tr th:only-of-type {\n",
       "        vertical-align: middle;\n",
       "    }\n",
       "\n",
       "    .dataframe tbody tr th {\n",
       "        vertical-align: top;\n",
       "    }\n",
       "\n",
       "    .dataframe thead th {\n",
       "        text-align: right;\n",
       "    }\n",
       "</style>\n",
       "<table border=\"1\" class=\"dataframe\">\n",
       "  <thead>\n",
       "    <tr style=\"text-align: right;\">\n",
       "      <th></th>\n",
       "      <th>loan_amnt</th>\n",
       "      <th>funded_amnt</th>\n",
       "      <th>term</th>\n",
       "      <th>int_rate</th>\n",
       "      <th>installment</th>\n",
       "      <th>grade</th>\n",
       "      <th>sub_grade</th>\n",
       "      <th>home_ownership</th>\n",
       "      <th>verification_status</th>\n",
       "      <th>purpose</th>\n",
       "      <th>...</th>\n",
       "      <th>application_type</th>\n",
       "      <th>acc_open_past_24mths</th>\n",
       "      <th>avg_cur_bal</th>\n",
       "      <th>bc_open_to_buy</th>\n",
       "      <th>bc_util</th>\n",
       "      <th>mo_sin_old_rev_tl_op</th>\n",
       "      <th>mo_sin_rcnt_rev_tl_op</th>\n",
       "      <th>mort_acc</th>\n",
       "      <th>num_actv_rev_tl</th>\n",
       "      <th>fico_score</th>\n",
       "    </tr>\n",
       "  </thead>\n",
       "  <tbody>\n",
       "    <tr>\n",
       "      <th>7798</th>\n",
       "      <td>25000</td>\n",
       "      <td>25000</td>\n",
       "      <td>36</td>\n",
       "      <td>0.0532</td>\n",
       "      <td>752.869995</td>\n",
       "      <td>0</td>\n",
       "      <td>0</td>\n",
       "      <td>1</td>\n",
       "      <td>0</td>\n",
       "      <td>2</td>\n",
       "      <td>...</td>\n",
       "      <td>0</td>\n",
       "      <td>6</td>\n",
       "      <td>11993</td>\n",
       "      <td>27793</td>\n",
       "      <td>58.000000</td>\n",
       "      <td>173</td>\n",
       "      <td>3</td>\n",
       "      <td>1</td>\n",
       "      <td>12</td>\n",
       "      <td>712.0</td>\n",
       "    </tr>\n",
       "    <tr>\n",
       "      <th>3841</th>\n",
       "      <td>10500</td>\n",
       "      <td>10500</td>\n",
       "      <td>60</td>\n",
       "      <td>0.1398</td>\n",
       "      <td>244.210007</td>\n",
       "      <td>2</td>\n",
       "      <td>12</td>\n",
       "      <td>4</td>\n",
       "      <td>2</td>\n",
       "      <td>2</td>\n",
       "      <td>...</td>\n",
       "      <td>0</td>\n",
       "      <td>5</td>\n",
       "      <td>11440</td>\n",
       "      <td>10820</td>\n",
       "      <td>88.300003</td>\n",
       "      <td>278</td>\n",
       "      <td>1</td>\n",
       "      <td>2</td>\n",
       "      <td>15</td>\n",
       "      <td>682.0</td>\n",
       "    </tr>\n",
       "    <tr>\n",
       "      <th>522</th>\n",
       "      <td>24000</td>\n",
       "      <td>24000</td>\n",
       "      <td>36</td>\n",
       "      <td>0.0839</td>\n",
       "      <td>756.400024</td>\n",
       "      <td>1</td>\n",
       "      <td>5</td>\n",
       "      <td>1</td>\n",
       "      <td>2</td>\n",
       "      <td>2</td>\n",
       "      <td>...</td>\n",
       "      <td>1</td>\n",
       "      <td>5</td>\n",
       "      <td>56834</td>\n",
       "      <td>18550</td>\n",
       "      <td>42.900002</td>\n",
       "      <td>158</td>\n",
       "      <td>1</td>\n",
       "      <td>3</td>\n",
       "      <td>7</td>\n",
       "      <td>667.0</td>\n",
       "    </tr>\n",
       "    <tr>\n",
       "      <th>242</th>\n",
       "      <td>14000</td>\n",
       "      <td>14000</td>\n",
       "      <td>36</td>\n",
       "      <td>0.1199</td>\n",
       "      <td>464.940002</td>\n",
       "      <td>1</td>\n",
       "      <td>7</td>\n",
       "      <td>1</td>\n",
       "      <td>1</td>\n",
       "      <td>2</td>\n",
       "      <td>...</td>\n",
       "      <td>0</td>\n",
       "      <td>6</td>\n",
       "      <td>17569</td>\n",
       "      <td>3790</td>\n",
       "      <td>59.700001</td>\n",
       "      <td>100</td>\n",
       "      <td>2</td>\n",
       "      <td>1</td>\n",
       "      <td>6</td>\n",
       "      <td>707.0</td>\n",
       "    </tr>\n",
       "    <tr>\n",
       "      <th>8384</th>\n",
       "      <td>5000</td>\n",
       "      <td>5000</td>\n",
       "      <td>36</td>\n",
       "      <td>0.1894</td>\n",
       "      <td>183.130005</td>\n",
       "      <td>3</td>\n",
       "      <td>16</td>\n",
       "      <td>4</td>\n",
       "      <td>0</td>\n",
       "      <td>2</td>\n",
       "      <td>...</td>\n",
       "      <td>0</td>\n",
       "      <td>7</td>\n",
       "      <td>3840</td>\n",
       "      <td>6119</td>\n",
       "      <td>23.500000</td>\n",
       "      <td>62</td>\n",
       "      <td>16</td>\n",
       "      <td>0</td>\n",
       "      <td>5</td>\n",
       "      <td>677.0</td>\n",
       "    </tr>\n",
       "    <tr>\n",
       "      <th>...</th>\n",
       "      <td>...</td>\n",
       "      <td>...</td>\n",
       "      <td>...</td>\n",
       "      <td>...</td>\n",
       "      <td>...</td>\n",
       "      <td>...</td>\n",
       "      <td>...</td>\n",
       "      <td>...</td>\n",
       "      <td>...</td>\n",
       "      <td>...</td>\n",
       "      <td>...</td>\n",
       "      <td>...</td>\n",
       "      <td>...</td>\n",
       "      <td>...</td>\n",
       "      <td>...</td>\n",
       "      <td>...</td>\n",
       "      <td>...</td>\n",
       "      <td>...</td>\n",
       "      <td>...</td>\n",
       "      <td>...</td>\n",
       "      <td>...</td>\n",
       "    </tr>\n",
       "    <tr>\n",
       "      <th>4307</th>\n",
       "      <td>25000</td>\n",
       "      <td>25000</td>\n",
       "      <td>36</td>\n",
       "      <td>0.1299</td>\n",
       "      <td>842.229980</td>\n",
       "      <td>1</td>\n",
       "      <td>8</td>\n",
       "      <td>5</td>\n",
       "      <td>2</td>\n",
       "      <td>2</td>\n",
       "      <td>...</td>\n",
       "      <td>0</td>\n",
       "      <td>5</td>\n",
       "      <td>3433</td>\n",
       "      <td>12324</td>\n",
       "      <td>57.200001</td>\n",
       "      <td>278</td>\n",
       "      <td>0</td>\n",
       "      <td>2</td>\n",
       "      <td>6</td>\n",
       "      <td>722.0</td>\n",
       "    </tr>\n",
       "    <tr>\n",
       "      <th>5699</th>\n",
       "      <td>4000</td>\n",
       "      <td>4000</td>\n",
       "      <td>36</td>\n",
       "      <td>0.1099</td>\n",
       "      <td>130.940002</td>\n",
       "      <td>1</td>\n",
       "      <td>7</td>\n",
       "      <td>1</td>\n",
       "      <td>0</td>\n",
       "      <td>1</td>\n",
       "      <td>...</td>\n",
       "      <td>0</td>\n",
       "      <td>3</td>\n",
       "      <td>40618</td>\n",
       "      <td>9598</td>\n",
       "      <td>24.400000</td>\n",
       "      <td>113</td>\n",
       "      <td>24</td>\n",
       "      <td>2</td>\n",
       "      <td>3</td>\n",
       "      <td>712.0</td>\n",
       "    </tr>\n",
       "    <tr>\n",
       "      <th>10742</th>\n",
       "      <td>10750</td>\n",
       "      <td>10750</td>\n",
       "      <td>36</td>\n",
       "      <td>0.1649</td>\n",
       "      <td>380.549988</td>\n",
       "      <td>3</td>\n",
       "      <td>17</td>\n",
       "      <td>1</td>\n",
       "      <td>0</td>\n",
       "      <td>2</td>\n",
       "      <td>...</td>\n",
       "      <td>0</td>\n",
       "      <td>5</td>\n",
       "      <td>1420</td>\n",
       "      <td>184</td>\n",
       "      <td>94.099998</td>\n",
       "      <td>66</td>\n",
       "      <td>7</td>\n",
       "      <td>0</td>\n",
       "      <td>8</td>\n",
       "      <td>662.0</td>\n",
       "    </tr>\n",
       "    <tr>\n",
       "      <th>537</th>\n",
       "      <td>16000</td>\n",
       "      <td>16000</td>\n",
       "      <td>36</td>\n",
       "      <td>0.1797</td>\n",
       "      <td>578.200012</td>\n",
       "      <td>3</td>\n",
       "      <td>15</td>\n",
       "      <td>5</td>\n",
       "      <td>0</td>\n",
       "      <td>2</td>\n",
       "      <td>...</td>\n",
       "      <td>0</td>\n",
       "      <td>5</td>\n",
       "      <td>10265</td>\n",
       "      <td>419</td>\n",
       "      <td>97.800003</td>\n",
       "      <td>86</td>\n",
       "      <td>13</td>\n",
       "      <td>0</td>\n",
       "      <td>6</td>\n",
       "      <td>662.0</td>\n",
       "    </tr>\n",
       "    <tr>\n",
       "      <th>9412</th>\n",
       "      <td>18000</td>\n",
       "      <td>18000</td>\n",
       "      <td>36</td>\n",
       "      <td>0.1008</td>\n",
       "      <td>581.489990</td>\n",
       "      <td>1</td>\n",
       "      <td>5</td>\n",
       "      <td>5</td>\n",
       "      <td>0</td>\n",
       "      <td>11</td>\n",
       "      <td>...</td>\n",
       "      <td>0</td>\n",
       "      <td>5</td>\n",
       "      <td>8543</td>\n",
       "      <td>8489</td>\n",
       "      <td>0.100000</td>\n",
       "      <td>143</td>\n",
       "      <td>17</td>\n",
       "      <td>0</td>\n",
       "      <td>1</td>\n",
       "      <td>662.0</td>\n",
       "    </tr>\n",
       "  </tbody>\n",
       "</table>\n",
       "<p>8800 rows × 25 columns</p>\n",
       "</div>"
      ],
      "text/plain": [
       "       loan_amnt  funded_amnt  term  int_rate  installment  grade  sub_grade  \\\n",
       "7798       25000        25000    36    0.0532   752.869995      0          0   \n",
       "3841       10500        10500    60    0.1398   244.210007      2         12   \n",
       "522        24000        24000    36    0.0839   756.400024      1          5   \n",
       "242        14000        14000    36    0.1199   464.940002      1          7   \n",
       "8384        5000         5000    36    0.1894   183.130005      3         16   \n",
       "...          ...          ...   ...       ...          ...    ...        ...   \n",
       "4307       25000        25000    36    0.1299   842.229980      1          8   \n",
       "5699        4000         4000    36    0.1099   130.940002      1          7   \n",
       "10742      10750        10750    36    0.1649   380.549988      3         17   \n",
       "537        16000        16000    36    0.1797   578.200012      3         15   \n",
       "9412       18000        18000    36    0.1008   581.489990      1          5   \n",
       "\n",
       "       home_ownership  verification_status  purpose  ...  application_type  \\\n",
       "7798                1                    0        2  ...                 0   \n",
       "3841                4                    2        2  ...                 0   \n",
       "522                 1                    2        2  ...                 1   \n",
       "242                 1                    1        2  ...                 0   \n",
       "8384                4                    0        2  ...                 0   \n",
       "...               ...                  ...      ...  ...               ...   \n",
       "4307                5                    2        2  ...                 0   \n",
       "5699                1                    0        1  ...                 0   \n",
       "10742               1                    0        2  ...                 0   \n",
       "537                 5                    0        2  ...                 0   \n",
       "9412                5                    0       11  ...                 0   \n",
       "\n",
       "       acc_open_past_24mths  avg_cur_bal  bc_open_to_buy    bc_util  \\\n",
       "7798                      6        11993           27793  58.000000   \n",
       "3841                      5        11440           10820  88.300003   \n",
       "522                       5        56834           18550  42.900002   \n",
       "242                       6        17569            3790  59.700001   \n",
       "8384                      7         3840            6119  23.500000   \n",
       "...                     ...          ...             ...        ...   \n",
       "4307                      5         3433           12324  57.200001   \n",
       "5699                      3        40618            9598  24.400000   \n",
       "10742                     5         1420             184  94.099998   \n",
       "537                       5        10265             419  97.800003   \n",
       "9412                      5         8543            8489   0.100000   \n",
       "\n",
       "       mo_sin_old_rev_tl_op  mo_sin_rcnt_rev_tl_op  mort_acc  num_actv_rev_tl  \\\n",
       "7798                    173                      3         1               12   \n",
       "3841                    278                      1         2               15   \n",
       "522                     158                      1         3                7   \n",
       "242                     100                      2         1                6   \n",
       "8384                     62                     16         0                5   \n",
       "...                     ...                    ...       ...              ...   \n",
       "4307                    278                      0         2                6   \n",
       "5699                    113                     24         2                3   \n",
       "10742                    66                      7         0                8   \n",
       "537                      86                     13         0                6   \n",
       "9412                    143                     17         0                1   \n",
       "\n",
       "       fico_score  \n",
       "7798        712.0  \n",
       "3841        682.0  \n",
       "522         667.0  \n",
       "242         707.0  \n",
       "8384        677.0  \n",
       "...           ...  \n",
       "4307        722.0  \n",
       "5699        712.0  \n",
       "10742       662.0  \n",
       "537         662.0  \n",
       "9412        662.0  \n",
       "\n",
       "[8800 rows x 25 columns]"
      ]
     },
     "execution_count": 76,
     "metadata": {},
     "output_type": "execute_result"
    }
   ],
   "source": [
    "X_train"
   ]
  },
  {
   "cell_type": "code",
   "execution_count": 78,
   "id": "2c459e7f",
   "metadata": {},
   "outputs": [
    {
     "name": "stdout",
     "output_type": "stream",
     "text": [
      "LR: 0.878978 (0.007717)\n",
      "LDA: 0.888243 (0.009071)\n",
      "KNN: nan (nan)\n",
      "CART: 0.804523 (0.006905)\n",
      "NB: 0.897680 (0.009630)\n",
      "NN: 0.866557 (0.022019)\n",
      "AB: 0.926464 (0.005531)\n",
      "GBM: 0.937575 (0.004772)\n",
      "RF: 0.928652 (0.005963)\n",
      "ET: 0.916220 (0.007959)\n"
     ]
    }
   ],
   "source": [
    "from sklearn.model_selection import KFold, cross_val_score\n",
    "#Diable the warnings\n",
    "import warnings\n",
    "warnings.filterwarnings('ignore')\n",
    "\n",
    "results = []\n",
    "names = []\n",
    "for name, model in models:\n",
    "    kfold = KFold(n_splits=num_folds)\n",
    "    cv_results = cross_val_score(model, X_train, Y_train, cv=kfold, scoring=scoring)\n",
    "    results.append(cv_results)\n",
    "    names.append(name)\n",
    "    msg = \"%s: %f (%f)\" % (name, cv_results.mean(), cv_results.std())\n",
    "    print(msg)"
   ]
  },
  {
   "cell_type": "code",
   "execution_count": 80,
   "id": "c1afb287",
   "metadata": {},
   "outputs": [
    {
     "data": {
      "image/png": "[encoded data removed]",
      "text/plain": [
       "<Figure size 1080x576 with 1 Axes>"
      ]
     },
     "metadata": {},
     "output_type": "display_data"
    }
   ],
   "source": [
    "import matplotlib.pyplot as plt\n",
    "# compare algorithms\n",
    "fig = plt.figure()\n",
    "fig.suptitle('Algorithm Comparison')\n",
    "ax = fig.add_subplot(111)\n",
    "plt.boxplot(results)\n",
    "ax.set_xticklabels(names)\n",
    "fig.set_size_inches(15,8)\n",
    "plt.show()"
   ]
  },
  {
   "cell_type": "markdown",
   "id": "a7add5d3",
   "metadata": {},
   "source": [
    "### Moodel tuning and grid search\n",
    "Given that the GBM is the best model, Grid Search is performed on GBM in this step."
   ]
  },
  {
   "cell_type": "code",
   "execution_count": 83,
   "id": "c2f9ddeb",
   "metadata": {},
   "outputs": [
    {
     "name": "stdout",
     "output_type": "stream",
     "text": [
      "Best: 0.939140 using {'max_depth': 3, 'n_estimators': 180}\n",
      "#4 0.925210 (0.006371) with: {'max_depth': 3, 'n_estimators': 20}\n",
      "#1 0.939140 (0.004611) with: {'max_depth': 3, 'n_estimators': 180}\n",
      "#3 0.932152 (0.004292) with: {'max_depth': 5, 'n_estimators': 20}\n",
      "#2 0.938764 (0.004362) with: {'max_depth': 5, 'n_estimators': 180}\n"
     ]
    }
   ],
   "source": [
    "from sklearn.model_selection import GridSearchCV\n",
    "# Grid Search: GradientBoosting Tuning\n",
    "'''\n",
    "n_estimators : int (default=100)\n",
    "    The number of boosting stages to perform. \n",
    "    Gradient boosting is fairly robust to over-fitting so a large number usually results in better performance.\n",
    "max_depth : integer, optional (default=3)\n",
    "    maximum depth of the individual regression estimators. \n",
    "    The maximum depth limits the number of nodes in the tree. \n",
    "    Tune this parameter for best performance; the best value depends on the interaction of the input variables.\n",
    "\n",
    "''' \n",
    "n_estimators = [20,180]\n",
    "max_depth= [3,5]\n",
    "param_grid = dict(n_estimators=n_estimators, max_depth=max_depth)\n",
    "model = GradientBoostingClassifier()\n",
    "kfold = KFold(n_splits=num_folds)\n",
    "grid = GridSearchCV(estimator=model, param_grid=param_grid, scoring=scoring, cv=kfold)\n",
    "grid_result = grid.fit(X_train, Y_train)\n",
    "\n",
    "#Print Results\n",
    "print(\"Best: %f using %s\" % (grid_result.best_score_, grid_result.best_params_))\n",
    "means = grid_result.cv_results_['mean_test_score']\n",
    "stds = grid_result.cv_results_['std_test_score']\n",
    "params = grid_result.cv_results_['params']\n",
    "ranks = grid_result.cv_results_['rank_test_score']\n",
    "for mean, stdev, param, rank in zip(means, stds, params, ranks):\n",
    "    print(\"#%d %f (%f) with: %r\" % (rank, mean, stdev, param))"
   ]
  },
  {
   "cell_type": "markdown",
   "id": "0dc56fe1",
   "metadata": {},
   "source": [
    "### Finalize the model"
   ]
  },
  {
   "cell_type": "code",
   "execution_count": 87,
   "id": "2918b7c5",
   "metadata": {},
   "outputs": [
    {
     "name": "stdout",
     "output_type": "stream",
     "text": [
      "0.8668181818181818\n",
      "[[ 842  226]\n",
      " [  67 1065]]\n",
      "              precision    recall  f1-score   support\n",
      "\n",
      "           0       0.93      0.79      0.85      1068\n",
      "           1       0.82      0.94      0.88      1132\n",
      "\n",
      "    accuracy                           0.87      2200\n",
      "   macro avg       0.88      0.86      0.87      2200\n",
      "weighted avg       0.87      0.87      0.87      2200\n",
      "\n"
     ]
    }
   ],
   "source": [
    "from sklearn.metrics import classification_report, confusion_matrix, accuracy_score\n",
    "# Results on the test dataset\n",
    "model = GradientBoostingClassifier(max_depth= 3, n_estimators= 180)\n",
    "model.fit(X_train, Y_train)\n",
    "\n",
    "# estimate accuracy on validation set\n",
    "predictions = model.predict(X_validation)\n",
    "print(accuracy_score(Y_validation, predictions))\n",
    "print(confusion_matrix(Y_validation, predictions))\n",
    "print(classification_report(Y_validation, predictions))"
   ]
  },
  {
   "cell_type": "markdown",
   "id": "70f4ff15",
   "metadata": {},
   "source": [
    "Accuracy of 88% on the test set is reasonable."
   ]
  },
  {
   "cell_type": "code",
   "execution_count": 89,
   "id": "564af5d4",
   "metadata": {},
   "outputs": [
    {
     "data": {
      "text/plain": [
       "<Axes: xlabel='Predicted', ylabel='Actual'>"
      ]
     },
     "execution_count": 89,
     "metadata": {},
     "output_type": "execute_result"
    },
    {
     "data": {
      "image/png": "[encoded data removed]",
      "text/plain": [
       "<Figure size 864x360 with 2 Axes>"
      ]
     },
     "metadata": {},
     "output_type": "display_data"
    }
   ],
   "source": [
    "df_cm = pd.DataFrame(confusion_matrix(Y_validation, predictions), columns=np.unique(Y_validation), index = np.unique(Y_validation))\n",
    "df_cm.index.name = 'Actual'\n",
    "df_cm.columns.name = 'Predicted'\n",
    "sns.heatmap(df_cm, cmap=\"Blues\", annot=True,annot_kws={\"size\": 16})# font sizes"
   ]
  },
  {
   "cell_type": "markdown",
   "id": "0f671081",
   "metadata": {},
   "source": [
    "#### Feature importance\n",
    "Looking at the details above GBM might be worthy of further study. Let us look into the Feature Importance of the GBM model"
   ]
  },
  {
   "cell_type": "code",
   "execution_count": 90,
   "id": "18571317",
   "metadata": {},
   "outputs": [
    {
     "name": "stdout",
     "output_type": "stream",
     "text": [
      "[4.44566751e-03 4.03771455e-03 4.41314450e-02 3.75900287e-02\n",
      " 4.69021393e-02 1.96027342e-04 2.93779918e-02 8.08915446e-04\n",
      " 2.97498491e-04 1.50821486e-03 1.25671667e-03 3.40524131e-03\n",
      " 4.03174325e-03 1.74766583e-03 7.84223700e-01 8.31333906e-04\n",
      " 1.19413472e-02 3.88632409e-03 3.50180316e-03 3.06197947e-03\n",
      " 6.57836917e-03 1.12705292e-03 9.25764846e-04 2.23728929e-03\n",
      " 1.94802591e-03]\n"
     ]
    },
    {
     "data": {
      "image/png": "[encoded data removed]",
      "text/plain": [
       "<Figure size 864x360 with 1 Axes>"
      ]
     },
     "metadata": {},
     "output_type": "display_data"
    }
   ],
   "source": [
    "print(model.feature_importances_) #use inbuilt class feature_importances of tree based classifiers\n",
    "#plot graph of feature importances for better visualization\n",
    "feat_importances = pd.Series(model.feature_importances_, index=X.columns)\n",
    "feat_importances.nlargest(10).plot(kind='barh')\n",
    "plt.show()"
   ]
  },
  {
   "cell_type": "markdown",
   "id": "63a2549e",
   "metadata": {},
   "source": [
    "The last payment amount seems to be the most important feature, followed by installment, loan term, interest rate and sub-grade."
   ]
  }
 ],
 "metadata": {
  "kernelspec": {
   "display_name": "Python 3",
   "language": "python",
   "name": "python3"
  },
  "language_info": {
   "codemirror_mode": {
    "name": "ipython",
    "version": 3
   },
   "file_extension": ".py",
   "mimetype": "text/x-python",
   "name": "python",
   "nbconvert_exporter": "python",
   "pygments_lexer": "ipython3",
   "version": "3.8.17"
  }
 },
 "nbformat": 4,
 "nbformat_minor": 5
}
