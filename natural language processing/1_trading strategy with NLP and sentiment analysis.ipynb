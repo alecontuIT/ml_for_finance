{
 "cells": [
  {
   "cell_type": "markdown",
   "metadata": {},
   "source": [
    "## NLP and Sentiment Analysis based Trading Strategy\n",
    "\n",
    "The problem statement is to build a trading strategy that uses NLP to extracts the information inside the news headlines, assigns a sentiment to that and use the sentiments and the information inside the news headlines for a trading strategy.\n",
    "\n",
    "The data used for this case study will be from three sources:\n",
    "* **News headlines data compiled from RSS feeds of several news websites**: This news headlines data is complied by different news website and contains the most financially relevant news filtered by human editors. For the purpose of this study, we will only look at the headline, not the details in the story. Another important characteristic of this dataset is that the relevant tickers in the story are extracted. Our dataset contains 82,643 headlines from to 2011-05-02 to 2018-12-28\n",
    "* **Yahoo finance website for the stock return:** (The return data can be obtained from other website such as yahoo finance)a\n",
    "* **kaggle**: labelled data of of news sentiments obtained for a classification based sentiment analysis model. This data may not be authentic and is used only for demonstration purpose in this case study. \n",
    "* Stock market lexicon created based on stock market conversations in microblogging services. The source of this lexicon is *Oliveira, Nuno, Paulo Cortez, and Nelson Areal. \"Stock market sentiment lexicon acquisition using microblogging data and statistical measures.\" Decision Support Systems 85 (2016): 62-73.*\n",
    "\n"
   ]
  },
  {
   "cell_type": "markdown",
   "metadata": {},
   "source": [
    "### Loading the python packages\n",
    "\n",
    "As a first step we check if the additional packages needed are present, if not install them. These are checked separately as they aren't included in requirement.txt as they aren't used for all case studies."
   ]
  },
  {
   "cell_type": "code",
   "execution_count": null,
   "metadata": {},
   "outputs": [],
   "source": [
    "import pkg_resources\n",
    "import pip\n",
    "installedPackages = {pkg.key for pkg in pkg_resources.working_set}\n",
    "required = {'nltk', 'spacy', 'textblob', 'backtrader'}\n",
    "missing = required - installedPackages\n",
    "if missing:\n",
    "    !pip install nltk==3.4\n",
    "    !pip install textblob==0.15.3\n",
    "    !pip install -U spacy==2.3.9\n",
    "    !python -m spacy download en_core_web_lg\n",
    "    !pip install backtrader==1.9.74.123    "
   ]
  },
  {
   "cell_type": "code",
   "execution_count": 2,
   "metadata": {
    "_cell_guid": "5d8fee34-f454-2642-8b06-ed719f0317e1"
   },
   "outputs": [
    {
     "name": "stderr",
     "output_type": "stream",
     "text": [
      "[nltk_data] Downloading package vader_lexicon to\n",
      "[nltk_data]     C:\\Users\\tatsa\\AppData\\Roaming\\nltk_data...\n",
      "[nltk_data]   Package vader_lexicon is already up-to-date!\n",
      "Using TensorFlow backend.\n"
     ]
    }
   ],
   "source": [
    "#NLP libraries\n",
    "from textblob import TextBlob\n",
    "import spacy\n",
    "import nltk\n",
    "import warnings\n",
    "from nltk.sentiment.vader import SentimentIntensityAnalyzer\n",
    "nltk.download('vader_lexicon')\n",
    "import csv\n",
    "import pandas as pd\n",
    "\n",
    "#Run the command python -m spacy download en_core_web_sm to download this\n",
    "#https://spacy.io/models\n",
    "import en_core_web_lg\n",
    "nlp = en_core_web_lg.load()\n",
    "\n",
    "#Libraries for processing the news headlines\n",
    "from lxml import etree\n",
    "import json\n",
    "from io import StringIO\n",
    "from os import listdir\n",
    "from os.path import isfile, join\n",
    "from pandas.tseries.offsets import BDay\n",
    "from scipy.stats.mstats import winsorize\n",
    "from copy import copy\n",
    "\n",
    "# Libraries for Classification for modeling the sentiments\n",
    "from sklearn.neural_network import MLPClassifier\n",
    "from sklearn.ensemble import RandomForestClassifier\n",
    "from sklearn.linear_model import LogisticRegression\n",
    "from sklearn.tree import DecisionTreeClassifier\n",
    "from sklearn.neighbors import KNeighborsClassifier\n",
    "from sklearn.svm import SVC\n",
    "from sklearn.metrics import classification_report, confusion_matrix, accuracy_score\n",
    "\n",
    "# Keras package for the deep learning model for the sentiment prediction. \n",
    "from keras.preprocessing.text import Tokenizer\n",
    "from keras.preprocessing.sequence import pad_sequences\n",
    "from keras.models import Sequential\n",
    "from keras.layers import Dense, Flatten, LSTM, Dropout, Activation\n",
    "from keras.layers.embeddings import Embedding\n",
    "\n",
    "# Load libraries\n",
    "import statsmodels.api as sm\n",
    "import seaborn as sns\n",
    "import pandas as pd\n",
    "import numpy as np\n",
    "import datetime\n",
    "from datetime import date\n",
    "import matplotlib.pyplot as plt\n",
    "import yfinance as yf\n",
    "\n",
    "#Additional Libraries \n",
    "import json  \n",
    "import zipfile\n",
    "import os.path\n",
    "import sys\n"
   ]
  },
  {
   "cell_type": "markdown",
   "metadata": {},
   "source": [
    "<a id='2.2'></a>\n",
    "## 2.2. Loading the stock price data\n",
    "\n",
    "The stock price data is loaded in this step from Yahoo Finance in this step. The loaded data is saved in csv for further use."
   ]
  },
  {
   "cell_type": "code",
   "execution_count": 12,
   "metadata": {},
   "outputs": [
    {
     "name": "stderr",
     "output_type": "stream",
     "text": [
      "FB: No timezone found, symbol may be delisted\n"
     ]
    }
   ],
   "source": [
    "from datetime import datetime\n",
    "import yfinance as yf\n",
    "import pandas as pd\n",
    "\n",
    "tickers = ['AAPL','MSFT','AMZN','GOOG','FB','WMT','JPM','TSLA','NFLX','ADBE']\n",
    "start = datetime(2010,1,1) #'2010-01-01'\n",
    "end = datetime(2018,12,31) #'2018-12-31'\n",
    "df_ticker_return = pd.DataFrame()\n",
    "for ticker in tickers:    \n",
    "    ticker_yf = yf.Ticker(ticker)\n",
    "    if df_ticker_return.empty:\n",
    "        df_ticker_return = ticker_yf.history(start = start, end = end)\n",
    "        df_ticker_return['ticker']= ticker \n",
    "    else:\n",
    "        data_temp = ticker_yf.history(start = start, end = end)\n",
    "        data_temp['ticker']= ticker \n",
    "        df_ticker_return = pd.concat([df_ticker_return,data_temp])\n",
    "#df_ticker_return.to_csv(r'./data/trading/ReturnData.csv')"
   ]
  },
  {
   "cell_type": "code",
   "execution_count": 13,
   "metadata": {},
   "outputs": [
    {
     "data": {
      "text/html": [
       "<div>\n",
       "<style scoped>\n",
       "    .dataframe tbody tr th:only-of-type {\n",
       "        vertical-align: middle;\n",
       "    }\n",
       "\n",
       "    .dataframe tbody tr th {\n",
       "        vertical-align: top;\n",
       "    }\n",
       "\n",
       "    .dataframe thead th {\n",
       "        text-align: right;\n",
       "    }\n",
       "</style>\n",
       "<table border=\"1\" class=\"dataframe\">\n",
       "  <thead>\n",
       "    <tr style=\"text-align: right;\">\n",
       "      <th></th>\n",
       "      <th>Open</th>\n",
       "      <th>High</th>\n",
       "      <th>Low</th>\n",
       "      <th>Close</th>\n",
       "      <th>Volume</th>\n",
       "      <th>Dividends</th>\n",
       "      <th>Stock Splits</th>\n",
       "      <th>ticker</th>\n",
       "      <th>Adj Close</th>\n",
       "    </tr>\n",
       "    <tr>\n",
       "      <th>Date</th>\n",
       "      <th></th>\n",
       "      <th></th>\n",
       "      <th></th>\n",
       "      <th></th>\n",
       "      <th></th>\n",
       "      <th></th>\n",
       "      <th></th>\n",
       "      <th></th>\n",
       "      <th></th>\n",
       "    </tr>\n",
       "  </thead>\n",
       "  <tbody>\n",
       "    <tr>\n",
       "      <th>2010-01-04 00:00:00-05:00</th>\n",
       "      <td>6.453205</td>\n",
       "      <td>6.485557</td>\n",
       "      <td>6.421457</td>\n",
       "      <td>6.470741</td>\n",
       "      <td>493729600.0</td>\n",
       "      <td>0.0</td>\n",
       "      <td>0.0</td>\n",
       "      <td>AAPL</td>\n",
       "      <td>NaN</td>\n",
       "    </tr>\n",
       "    <tr>\n",
       "      <th>2010-01-05 00:00:00-05:00</th>\n",
       "      <td>6.488580</td>\n",
       "      <td>6.518513</td>\n",
       "      <td>6.447761</td>\n",
       "      <td>6.481928</td>\n",
       "      <td>601904800.0</td>\n",
       "      <td>0.0</td>\n",
       "      <td>0.0</td>\n",
       "      <td>AAPL</td>\n",
       "      <td>NaN</td>\n",
       "    </tr>\n",
       "    <tr>\n",
       "      <th>2010-01-06 00:00:00-05:00</th>\n",
       "      <td>6.481929</td>\n",
       "      <td>6.507630</td>\n",
       "      <td>6.372174</td>\n",
       "      <td>6.378826</td>\n",
       "      <td>552160000.0</td>\n",
       "      <td>0.0</td>\n",
       "      <td>0.0</td>\n",
       "      <td>AAPL</td>\n",
       "      <td>NaN</td>\n",
       "    </tr>\n",
       "    <tr>\n",
       "      <th>2010-01-07 00:00:00-05:00</th>\n",
       "      <td>6.402408</td>\n",
       "      <td>6.409967</td>\n",
       "      <td>6.320771</td>\n",
       "      <td>6.367032</td>\n",
       "      <td>477131200.0</td>\n",
       "      <td>0.0</td>\n",
       "      <td>0.0</td>\n",
       "      <td>AAPL</td>\n",
       "      <td>NaN</td>\n",
       "    </tr>\n",
       "    <tr>\n",
       "      <th>2010-01-08 00:00:00-05:00</th>\n",
       "      <td>6.358566</td>\n",
       "      <td>6.409967</td>\n",
       "      <td>6.321075</td>\n",
       "      <td>6.409362</td>\n",
       "      <td>447610800.0</td>\n",
       "      <td>0.0</td>\n",
       "      <td>0.0</td>\n",
       "      <td>AAPL</td>\n",
       "      <td>NaN</td>\n",
       "    </tr>\n",
       "    <tr>\n",
       "      <th>...</th>\n",
       "      <td>...</td>\n",
       "      <td>...</td>\n",
       "      <td>...</td>\n",
       "      <td>...</td>\n",
       "      <td>...</td>\n",
       "      <td>...</td>\n",
       "      <td>...</td>\n",
       "      <td>...</td>\n",
       "      <td>...</td>\n",
       "    </tr>\n",
       "    <tr>\n",
       "      <th>2018-12-21 00:00:00-05:00</th>\n",
       "      <td>219.550003</td>\n",
       "      <td>222.259995</td>\n",
       "      <td>207.369995</td>\n",
       "      <td>208.800003</td>\n",
       "      <td>8828100.0</td>\n",
       "      <td>0.0</td>\n",
       "      <td>0.0</td>\n",
       "      <td>ADBE</td>\n",
       "      <td>NaN</td>\n",
       "    </tr>\n",
       "    <tr>\n",
       "      <th>2018-12-24 00:00:00-05:00</th>\n",
       "      <td>206.899994</td>\n",
       "      <td>212.580002</td>\n",
       "      <td>204.949997</td>\n",
       "      <td>205.160004</td>\n",
       "      <td>2940500.0</td>\n",
       "      <td>0.0</td>\n",
       "      <td>0.0</td>\n",
       "      <td>ADBE</td>\n",
       "      <td>NaN</td>\n",
       "    </tr>\n",
       "    <tr>\n",
       "      <th>2018-12-26 00:00:00-05:00</th>\n",
       "      <td>206.529999</td>\n",
       "      <td>222.960007</td>\n",
       "      <td>206.250000</td>\n",
       "      <td>222.949997</td>\n",
       "      <td>5897900.0</td>\n",
       "      <td>0.0</td>\n",
       "      <td>0.0</td>\n",
       "      <td>ADBE</td>\n",
       "      <td>NaN</td>\n",
       "    </tr>\n",
       "    <tr>\n",
       "      <th>2018-12-27 00:00:00-05:00</th>\n",
       "      <td>219.990005</td>\n",
       "      <td>225.169998</td>\n",
       "      <td>214.160004</td>\n",
       "      <td>225.139999</td>\n",
       "      <td>3931100.0</td>\n",
       "      <td>0.0</td>\n",
       "      <td>0.0</td>\n",
       "      <td>ADBE</td>\n",
       "      <td>NaN</td>\n",
       "    </tr>\n",
       "    <tr>\n",
       "      <th>2018-12-28 00:00:00-05:00</th>\n",
       "      <td>227.580002</td>\n",
       "      <td>228.110001</td>\n",
       "      <td>220.869995</td>\n",
       "      <td>223.130005</td>\n",
       "      <td>3160200.0</td>\n",
       "      <td>0.0</td>\n",
       "      <td>0.0</td>\n",
       "      <td>ADBE</td>\n",
       "      <td>NaN</td>\n",
       "    </tr>\n",
       "  </tbody>\n",
       "</table>\n",
       "<p>20245 rows × 9 columns</p>\n",
       "</div>"
      ],
      "text/plain": [
       "                                 Open        High         Low       Close  \\\n",
       "Date                                                                        \n",
       "2010-01-04 00:00:00-05:00    6.453205    6.485557    6.421457    6.470741   \n",
       "2010-01-05 00:00:00-05:00    6.488580    6.518513    6.447761    6.481928   \n",
       "2010-01-06 00:00:00-05:00    6.481929    6.507630    6.372174    6.378826   \n",
       "2010-01-07 00:00:00-05:00    6.402408    6.409967    6.320771    6.367032   \n",
       "2010-01-08 00:00:00-05:00    6.358566    6.409967    6.321075    6.409362   \n",
       "...                               ...         ...         ...         ...   \n",
       "2018-12-21 00:00:00-05:00  219.550003  222.259995  207.369995  208.800003   \n",
       "2018-12-24 00:00:00-05:00  206.899994  212.580002  204.949997  205.160004   \n",
       "2018-12-26 00:00:00-05:00  206.529999  222.960007  206.250000  222.949997   \n",
       "2018-12-27 00:00:00-05:00  219.990005  225.169998  214.160004  225.139999   \n",
       "2018-12-28 00:00:00-05:00  227.580002  228.110001  220.869995  223.130005   \n",
       "\n",
       "                                Volume  Dividends  Stock Splits ticker  \\\n",
       "Date                                                                     \n",
       "2010-01-04 00:00:00-05:00  493729600.0        0.0           0.0   AAPL   \n",
       "2010-01-05 00:00:00-05:00  601904800.0        0.0           0.0   AAPL   \n",
       "2010-01-06 00:00:00-05:00  552160000.0        0.0           0.0   AAPL   \n",
       "2010-01-07 00:00:00-05:00  477131200.0        0.0           0.0   AAPL   \n",
       "2010-01-08 00:00:00-05:00  447610800.0        0.0           0.0   AAPL   \n",
       "...                                ...        ...           ...    ...   \n",
       "2018-12-21 00:00:00-05:00    8828100.0        0.0           0.0   ADBE   \n",
       "2018-12-24 00:00:00-05:00    2940500.0        0.0           0.0   ADBE   \n",
       "2018-12-26 00:00:00-05:00    5897900.0        0.0           0.0   ADBE   \n",
       "2018-12-27 00:00:00-05:00    3931100.0        0.0           0.0   ADBE   \n",
       "2018-12-28 00:00:00-05:00    3160200.0        0.0           0.0   ADBE   \n",
       "\n",
       "                           Adj Close  \n",
       "Date                                  \n",
       "2010-01-04 00:00:00-05:00        NaN  \n",
       "2010-01-05 00:00:00-05:00        NaN  \n",
       "2010-01-06 00:00:00-05:00        NaN  \n",
       "2010-01-07 00:00:00-05:00        NaN  \n",
       "2010-01-08 00:00:00-05:00        NaN  \n",
       "...                              ...  \n",
       "2018-12-21 00:00:00-05:00        NaN  \n",
       "2018-12-24 00:00:00-05:00        NaN  \n",
       "2018-12-26 00:00:00-05:00        NaN  \n",
       "2018-12-27 00:00:00-05:00        NaN  \n",
       "2018-12-28 00:00:00-05:00        NaN  \n",
       "\n",
       "[20245 rows x 9 columns]"
      ]
     },
     "execution_count": 13,
     "metadata": {},
     "output_type": "execute_result"
    }
   ],
   "source": [
    "df_ticker_return"
   ]
  },
  {
   "cell_type": "markdown",
   "metadata": {},
   "source": [
    "The data contains the tickers and their return. In this next step, we clean the data make sure that the starting point is 2010 and the NAs in the data are dropped. Let us look at the news data now."
   ]
  },
  {
   "cell_type": "markdown",
   "metadata": {},
   "source": [
    "<a id='3'></a>\n",
    "# 3. Data Preparation"
   ]
  },
  {
   "cell_type": "markdown",
   "metadata": {},
   "source": [
    "We divide the data preparation into couple of steps as follows:\n",
    "* Loading and preprocessing the news data\n",
    "* Preparing the combined data\n",
    "\n",
    "\n",
    "#### <font color='red'>Note : Step 3.1 to 3.2 might be time consuming. Skip to step 3.3 and load the preprocessed data directly in case you want to avoid these steps. You can also start directly with step 4.4 in case you want to skip the model training and used the sentiments directly for the trading strategy.</font> "
   ]
  },
  {
   "cell_type": "markdown",
   "metadata": {},
   "source": [
    "<a id='3.1'></a>\n",
    "## 3.1 Loading and preprocessing News Data"
   ]
  },
  {
   "cell_type": "markdown",
   "metadata": {},
   "source": [
    "The news data is downloaded from the News RSS feed and the file is downloaded in the json format and the json files for different dates are kept under a zipped folder. "
   ]
  },
  {
   "cell_type": "markdown",
   "metadata": {},
   "source": [
    "Let us see the content of the json file"
   ]
  },
  {
   "cell_type": "code",
   "execution_count": 15,
   "metadata": {},
   "outputs": [
    {
     "data": {
      "text/plain": [
       "'li class=\"n-box-item date-title\" data-end=\"1305172799\" data-start=\"1305086400\" data-txt=\"Tuesday, December 17, 2019\">Wednesday, May 11, 2011</li><li class=\"n-box-item sa-box-item\" data-id=\"76179\" data-ts=\"1305149244\"><div class=\"media media-overflow-fix\"><div class=\"media-left\"><a class=\"box-ticker\" href=\"/symbol/CSCO\" target=\"_blank\">CSCO</a></div><div class=\"media-body\"><h4 class=\"media-heading\"><a href=\"/news/76179\" sasource=\"on_the_move_news_fidelity\" target=\"_blank\">Cisco (NASDAQ:CSCO): Pr'"
      ]
     },
     "execution_count": 15,
     "metadata": {},
     "output_type": "execute_result"
    }
   ],
   "source": [
    "import zipfile\n",
    "import json\n",
    "z = zipfile.ZipFile(\"./data/trading/Raw Headline Data.zip\", \"r\")\n",
    "testFile=z.namelist()[10]\n",
    "fileData= z.open(testFile).read() \n",
    "fileDataSample = json.loads(fileData)['content'][1:500]  \n",
    "fileDataSample"
   ]
  },
  {
   "cell_type": "markdown",
   "metadata": {},
   "source": [
    "As we can see that the json format is not suitable for the algorithm. We need to get the news from the jsons and the following function is used for it. Regex becomes the vital part of this step. Regex can find a pattern in the raw, messy text and perform actions accordingly."
   ]
  },
  {
   "cell_type": "code",
   "execution_count": 18,
   "metadata": {},
   "outputs": [],
   "source": [
    "#Libraries for processing the news headlines\n",
    "from lxml import etree\n",
    "from io import StringIO\n",
    "\n",
    "\n",
    "#This function performs the json parsing given the \n",
    "def jsonParser(json_data): \n",
    "    xml_data = json_data['content']\n",
    "            \n",
    "    tree = etree.parse(StringIO(xml_data), parser=etree.HTMLParser())\n",
    "\n",
    "    headlines = tree.xpath(\"//h4[contains(@class, 'media-heading')]/a/text()\")\n",
    "    assert len(headlines) == json_data['count']\n",
    "\n",
    "    main_tickers = list(map(lambda x: x.replace('/symbol/', ''), tree.xpath(\"//div[contains(@class, 'media-left')]//a/@href\")))\n",
    "    assert len(main_tickers) == json_data['count']\n",
    "    final_headlines = [''.join(f.xpath('.//text()')) for f in tree.xpath(\"//div[contains(@class, 'media-body')]/ul/li[1]\")]\n",
    "    if len(final_headlines) == 0:\n",
    "        final_headlines = [''.join(f.xpath('.//text()')) for f in tree.xpath(\"//div[contains(@class, 'media-body')]\")]\n",
    "        final_headlines = [f.replace(h, '').split('\\xa0')[0].strip() for f,h in zip (final_headlines, headlines)]\n",
    "    return main_tickers, final_headlines"
   ]
  },
  {
   "cell_type": "code",
   "execution_count": 19,
   "metadata": {},
   "outputs": [
    {
     "data": {
      "text/plain": [
       "'Cisco Systems (NASDAQ:CSCO) falls further into the red on FQ4 guidance of $0.37-0.39 vs. $0.42 Street consensus. Sales seen flat to +2% vs. 8% Street view. CSCO recently -2.1%.'"
      ]
     },
     "execution_count": 19,
     "metadata": {},
     "output_type": "execute_result"
    }
   ],
   "source": [
    "jsonParser(json.loads(fileData))[1][1]"
   ]
  },
  {
   "cell_type": "markdown",
   "metadata": {},
   "source": [
    "As we can see that using the json parser the news headlines are extracted from the complex html format. This format is good enough to be used for further analysis."
   ]
  },
  {
   "cell_type": "markdown",
   "metadata": {},
   "source": [
    "Now, we extract the ticker and the headlines from all the json files and put it in a dataframe. "
   ]
  },
  {
   "cell_type": "code",
   "execution_count": 37,
   "metadata": {},
   "outputs": [],
   "source": [
    "from datetime import date\n",
    "\n",
    "data = None \n",
    "data_df_news = []\n",
    "ret = []\n",
    "ret_f = []\n",
    "with zipfile.ZipFile(\"data/trading/Raw Headline Data.zip\", \"r\") as z:\n",
    "    for filename in z.namelist(): \n",
    "        #print(filename)\n",
    "        try:               \n",
    "            #print('Running {}'.format(filename))\n",
    "            with z.open(filename) as f:  \n",
    "                data = f.read()  \n",
    "                json_data = json.loads(data)      \n",
    "            if json_data.get('count', 0)> 10:\n",
    "                #Step 1: Parse the News Jsons \n",
    "                main_tickers, final_headlines = jsonParser(json_data) \n",
    "                if len(final_headlines) != json_data['count']:\n",
    "                    continue\n",
    "                #Step 2: Prepare Future and Event Return and assign Future and Event return for each ticker. \n",
    "                file_date = filename.split('/')[-1].replace('.json', '')\n",
    "                file_date = date(int(file_date[:4]), int(file_date[5:7]), int(file_date[8:]))\n",
    "               #Step 3: Merge all the data in a data frame\n",
    "                df_dict = {'ticker': main_tickers,\n",
    "                           'headline': final_headlines,            \n",
    "                           'date': [file_date] * len(main_tickers)\n",
    "                           }\n",
    "                df_f = pd.DataFrame(df_dict)            \n",
    "                data_df_news.append(df_f)            \n",
    "        except:\n",
    "            pass  "
   ]
  },
  {
   "cell_type": "markdown",
   "metadata": {},
   "source": [
    "Let us look at the content of the data"
   ]
  },
  {
   "cell_type": "code",
   "execution_count": 41,
   "metadata": {},
   "outputs": [
    {
     "data": {
      "text/html": [
       "<div>\n",
       "<style scoped>\n",
       "    .dataframe tbody tr th:only-of-type {\n",
       "        vertical-align: middle;\n",
       "    }\n",
       "\n",
       "    .dataframe tbody tr th {\n",
       "        vertical-align: top;\n",
       "    }\n",
       "\n",
       "    .dataframe thead th {\n",
       "        text-align: right;\n",
       "    }\n",
       "</style>\n",
       "<table border=\"1\" class=\"dataframe\">\n",
       "  <thead>\n",
       "    <tr style=\"text-align: right;\">\n",
       "      <th></th>\n",
       "      <th>ticker</th>\n",
       "      <th>headline</th>\n",
       "      <th>date</th>\n",
       "    </tr>\n",
       "  </thead>\n",
       "  <tbody>\n",
       "    <tr>\n",
       "      <th>0</th>\n",
       "      <td>DVA</td>\n",
       "      <td>Davita (NYSE:DVA): EPS of $0.96 beats by $0.01...</td>\n",
       "      <td>2011-05-02</td>\n",
       "    </tr>\n",
       "    <tr>\n",
       "      <th>1</th>\n",
       "      <td>CGNX</td>\n",
       "      <td>Cognex (NASDAQ:CGNX): EPS of $0.32 beats by $0...</td>\n",
       "      <td>2011-05-02</td>\n",
       "    </tr>\n",
       "    <tr>\n",
       "      <th>2</th>\n",
       "      <td>AEIS</td>\n",
       "      <td>Advanced Energy Industries (NASDAQ:AEIS):</td>\n",
       "      <td>2011-05-02</td>\n",
       "    </tr>\n",
       "    <tr>\n",
       "      <th>3</th>\n",
       "      <td>LOCM</td>\n",
       "      <td>Local.com (NASDAQ:LOCM):</td>\n",
       "      <td>2011-05-02</td>\n",
       "    </tr>\n",
       "    <tr>\n",
       "      <th>4</th>\n",
       "      <td>CYDEQ</td>\n",
       "      <td>CyberDefender (CYDE):</td>\n",
       "      <td>2011-05-02</td>\n",
       "    </tr>\n",
       "  </tbody>\n",
       "</table>\n",
       "</div>"
      ],
      "text/plain": [
       "  ticker                                           headline        date\n",
       "0    DVA  Davita (NYSE:DVA): EPS of $0.96 beats by $0.01...  2011-05-02\n",
       "1   CGNX  Cognex (NASDAQ:CGNX): EPS of $0.32 beats by $0...  2011-05-02\n",
       "2   AEIS          Advanced Energy Industries (NASDAQ:AEIS):  2011-05-02\n",
       "3   LOCM                           Local.com (NASDAQ:LOCM):  2011-05-02\n",
       "4  CYDEQ                              CyberDefender (CYDE):  2011-05-02"
      ]
     },
     "execution_count": 41,
     "metadata": {},
     "output_type": "execute_result"
    }
   ],
   "source": [
    "data_df_news=pd.concat(data_df_news)\n",
    "data_df_news.head(5)"
   ]
  },
  {
   "cell_type": "markdown",
   "metadata": {},
   "source": [
    "As we can see the data has the ticker, headlines and the date which will be used in the next step for combining with the return."
   ]
  },
  {
   "cell_type": "markdown",
   "metadata": {},
   "source": [
    "<a id='3.2'></a>\n",
    "## 3.2 Preparing the combined data"
   ]
  },
  {
   "cell_type": "markdown",
   "metadata": {},
   "source": [
    "In this step we extract the event return, which is the return that corresponds to\n",
    "the event. We do this because at times the news is reported late and at other times it is\n",
    "reported after market close. Having a slightly wider window ensures that we capture\n",
    "the essence of the event. Event return in defined as follows:\n",
    "$ R_{t-1} + R_t + R_{t+1} $\n",
    "\n",
    "Where, $ R_{t-1} $, $ R_{t+1} $ are the return before and after the news data and $ R_{t} $ is the return on\n",
    "the day of the news (i.e. time t)"
   ]
  },
  {
   "cell_type": "code",
   "execution_count": 42,
   "metadata": {},
   "outputs": [],
   "source": [
    "#Computing the return\n",
    "df_ticker_return['ret_curr'] = df_ticker_return['Close'].pct_change()\n",
    "#Computing the event return\n",
    "df_ticker_return['eventRet'] = df_ticker_return['ret_curr'] + df_ticker_return['ret_curr'].shift(-1) + df_ticker_return['ret_curr'].shift(1)\n",
    "df_ticker_return.reset_index(level=0, inplace=True)\n",
    "df_ticker_return['date'] = pd.to_datetime(df_ticker_return['Date']).apply(lambda x: x.date())"
   ]
  },
  {
   "cell_type": "markdown",
   "metadata": {},
   "source": [
    "Now we have all the data in place we will prepare a combined dataframe which will have the news headlines mapped to the date, event Return and stock ticker. This dataframe will be used for further analysis for sentiment analysis model and for building the trading strategy."
   ]
  },
  {
   "cell_type": "code",
   "execution_count": 43,
   "metadata": {},
   "outputs": [],
   "source": [
    "combinedDataFrame = pd.merge(data_df_news, df_ticker_return, how='left', left_on=['date','ticker'], right_on=['date','ticker'])\n",
    "combinedDataFrame = combinedDataFrame[combinedDataFrame['ticker'].isin(tickers)]\n",
    "data_df = combinedDataFrame[['ticker','headline','date','eventRet','Close']]\n",
    "data_df = data_df.dropna()"
   ]
  },
  {
   "cell_type": "code",
   "execution_count": 44,
   "metadata": {},
   "outputs": [
    {
     "data": {
      "text/html": [
       "<div>\n",
       "<style scoped>\n",
       "    .dataframe tbody tr th:only-of-type {\n",
       "        vertical-align: middle;\n",
       "    }\n",
       "\n",
       "    .dataframe tbody tr th {\n",
       "        vertical-align: top;\n",
       "    }\n",
       "\n",
       "    .dataframe thead th {\n",
       "        text-align: right;\n",
       "    }\n",
       "</style>\n",
       "<table border=\"1\" class=\"dataframe\">\n",
       "  <thead>\n",
       "    <tr style=\"text-align: right;\">\n",
       "      <th></th>\n",
       "      <th>ticker</th>\n",
       "      <th>headline</th>\n",
       "      <th>date</th>\n",
       "      <th>eventRet</th>\n",
       "      <th>Close</th>\n",
       "    </tr>\n",
       "  </thead>\n",
       "  <tbody>\n",
       "    <tr>\n",
       "      <th>5</th>\n",
       "      <td>AMZN</td>\n",
       "      <td>Whole Foods (WFMI) -5.2% following a downgrade...</td>\n",
       "      <td>2011-05-02</td>\n",
       "      <td>0.017650</td>\n",
       "      <td>10.059500</td>\n",
       "    </tr>\n",
       "    <tr>\n",
       "      <th>11</th>\n",
       "      <td>NFLX</td>\n",
       "      <td>Netflix (NFLX +1.1%) shares post early gains a...</td>\n",
       "      <td>2011-05-02</td>\n",
       "      <td>-0.012912</td>\n",
       "      <td>33.884285</td>\n",
       "    </tr>\n",
       "  </tbody>\n",
       "</table>\n",
       "</div>"
      ],
      "text/plain": [
       "   ticker                                           headline        date  \\\n",
       "5    AMZN  Whole Foods (WFMI) -5.2% following a downgrade...  2011-05-02   \n",
       "11   NFLX  Netflix (NFLX +1.1%) shares post early gains a...  2011-05-02   \n",
       "\n",
       "    eventRet      Close  \n",
       "5   0.017650  10.059500  \n",
       "11 -0.012912  33.884285  "
      ]
     },
     "execution_count": 44,
     "metadata": {},
     "output_type": "execute_result"
    }
   ],
   "source": [
    "data_df.head(2)"
   ]
  },
  {
   "cell_type": "markdown",
   "metadata": {},
   "source": [
    "Let us save the data in a csv file to be used later, so that the data processing step can be skipped everytime we are looking into analysis. "
   ]
  },
  {
   "cell_type": "code",
   "execution_count": 45,
   "metadata": {},
   "outputs": [],
   "source": [
    "data_df.dropna().to_csv(r'Data\\Step3_NewsAndReturnData.csv', sep='|', index=False)"
   ]
  },
  {
   "cell_type": "markdown",
   "metadata": {},
   "source": [
    "<a id='3.3'></a>\n",
    "## 3.3 Loading the preprocessed data\n",
    "#### Start from this step in case you dont want to run the previous preprocessing steps"
   ]
  },
  {
   "cell_type": "code",
   "execution_count": 46,
   "metadata": {},
   "outputs": [],
   "source": [
    "data_df = pd.read_csv(r'Data\\Step3_NewsAndReturnData.csv', sep='|')\n",
    "data_df = data_df.dropna()"
   ]
  },
  {
   "cell_type": "code",
   "execution_count": 47,
   "metadata": {},
   "outputs": [
    {
     "name": "stdout",
     "output_type": "stream",
     "text": [
      "(2454, 5) (9,)\n"
     ]
    }
   ],
   "source": [
    "print(data_df.shape, data_df.ticker.unique().shape)"
   ]
  },
  {
   "cell_type": "markdown",
   "metadata": {},
   "source": [
    "In this step, we prepared a clean dataframe that has ticker, headline, event return, return for a given day and future return for 10 unique stock tickers with total 2759 rows of data."
   ]
  },
  {
   "cell_type": "markdown",
   "metadata": {},
   "source": [
    "<a id='4'></a>\n",
    "# 4 Evaluate Models for Sentiment Analysis"
   ]
  },
  {
   "cell_type": "markdown",
   "metadata": {},
   "source": [
    "In this section we will go through following three different approaches of getting the sentiments for the news which we will use for building the trading strategy.\n",
    "\n",
    "* Predefined model-TextBlob package\n",
    "* Tuned Model-Classification algorithms and LSTM\n",
    "* Model based on financial lexicon\n",
    "\n",
    "We will also explore the difference between different ways of performing the sentiment analysis. Let us go through the steps. \n",
    "\n",
    "\n",
    "#### <font color='red'>Note : The steps 4.1-4.3 are time consuming steps. Skip to step 4.5 to load the pretrained sentiments and use them for further analysis and building trading strategy.</font> "
   ]
  },
  {
   "cell_type": "markdown",
   "metadata": {},
   "source": [
    "<a id='4.1'></a>\n",
    "## 4.1 - Predefined model-TextBlob package"
   ]
  },
  {
   "cell_type": "markdown",
   "metadata": {},
   "source": [
    "The texblob sentiment function is pretrained model based on Naïve-Bayes classification algorithm to convert a sentence to a numerical value of sentiment between -1 to +1 and map adjectives frequently found in movie reviews(source code: https://textblob.readthedocs.io/en/dev/_modules/textblob/en/sentiments.html) to sentiment polarity scores, ranging from -1 to +1 (negative ↔ positive) and a similar subjectivity score (objective ↔ subjective). We apply this on all headline articles. Let us compute the sentiment for all the headlines in the data"
   ]
  },
  {
   "cell_type": "code",
   "execution_count": 48,
   "metadata": {},
   "outputs": [],
   "source": [
    "text1 = \"Bayer (OTCPK:BAYRY) started the week up 3.5% to €74/share in Frankfurt, touching their \\\n",
    "highest level in 14 months, after the U.S. government said a $25M glyphosate decision against the \\\n",
    "company should be reversed.\""
   ]
  },
  {
   "cell_type": "code",
   "execution_count": 50,
   "metadata": {},
   "outputs": [
    {
     "data": {
      "text/plain": [
       "0.5"
      ]
     },
     "execution_count": 50,
     "metadata": {},
     "output_type": "execute_result"
    }
   ],
   "source": [
    "from textblob import TextBlobextBlob\n",
    "\n",
    "TextBlob(text1).sentiment.polarity"
   ]
  },
  {
   "cell_type": "markdown",
   "metadata": {},
   "source": [
    "The sentiment polarity is a number between -1 (Very Negative) and +1 (Very Positive). We apply this on all headline we have in the data processed in the previous step. Let us compute the sentiment for all the headlines in the data"
   ]
  },
  {
   "cell_type": "code",
   "execution_count": 51,
   "metadata": {},
   "outputs": [],
   "source": [
    "data_df['sentiment_textblob'] = [TextBlob(s).sentiment.polarity for s in data_df['headline']] "
   ]
  },
  {
   "cell_type": "markdown",
   "metadata": {},
   "source": [
    "Let us analyse the scatterplot of the sentiments and the return."
   ]
  },
  {
   "cell_type": "code",
   "execution_count": 53,
   "metadata": {},
   "outputs": [
    {
     "data": {
      "image/png": "[encoded data removed]",
      "text/plain": [
       "<Figure size 432x288 with 1 Axes>"
      ]
     },
     "metadata": {
      "needs_background": "light"
     },
     "output_type": "display_data"
    }
   ],
   "source": [
    "import matplotlib.pyplot as plt\n",
    "\n",
    "plt.scatter(data_df['sentiment_textblob'],data_df['eventRet'], alpha=0.5)\n",
    "plt.title('Scatter Between Event return and sentiments-all data')\n",
    "plt.ylabel('Event Return')\n",
    "plt.xlabel('Sentiments')\n",
    "plt.show()"
   ]
  },
  {
   "cell_type": "code",
   "execution_count": 54,
   "metadata": {},
   "outputs": [
    {
     "name": "stdout",
     "output_type": "stream",
     "text": [
      "0.06646049294727231\n"
     ]
    }
   ],
   "source": [
    "corrlation = data_df['eventRet'].corr(data_df['sentiment_textblob'])\n",
    "print(corrlation)"
   ]
  },
  {
   "cell_type": "markdown",
   "metadata": {},
   "source": [
    "The correlation is positive, which means that news with positive sentiments lead to positive return and is expected. However,the correlation isn't very high.  "
   ]
  },
  {
   "cell_type": "code",
   "execution_count": 55,
   "metadata": {},
   "outputs": [
    {
     "data": {
      "image/png": "[encoded data removed]",
      "text/plain": [
       "<Figure size 432x288 with 1 Axes>"
      ]
     },
     "metadata": {
      "needs_background": "light"
     },
     "output_type": "display_data"
    }
   ],
   "source": [
    "data_df_stock  = data_df[data_df['ticker'] == 'AAPL']\n",
    "plt.scatter(data_df_stock['sentiment_textblob'],data_df_stock['eventRet'], alpha=0.5)\n",
    "plt.title('Scatter Between Event return and sentiments-AAPL')\n",
    "plt.ylabel('Event Return')\n",
    "plt.xlabel('Sentiments')\n",
    "plt.show()"
   ]
  },
  {
   "cell_type": "markdown",
   "metadata": {},
   "source": [
    "Overall, from the results we can see that there isn't a strong correlation between the news and the sentiments. Also, there are a lot of sentiments centred around 0. "
   ]
  },
  {
   "cell_type": "code",
   "execution_count": 56,
   "metadata": {},
   "outputs": [
    {
     "data": {
      "text/plain": [
       "Sentiment(polarity=0.5, subjectivity=0.5, assessments=[(['touching'], 0.5, 0.5, None)])"
      ]
     },
     "execution_count": 56,
     "metadata": {},
     "output_type": "execute_result"
    }
   ],
   "source": [
    "text = \"Bayer (OTCPK:BAYRY) started the week up 3.5% to €74/share in Frankfurt, touching their highest level in 14 months, after the U.S. government said a $25M glyphosate decision against the company should be reversed.\"\n",
    "TextBlob(text).sentiment_assessments"
   ]
  },
  {
   "cell_type": "markdown",
   "metadata": {},
   "source": [
    "We see that the statement has a positive sentiment of .5 but looking at the words that give rise to the sentiments, the word \"touching\" and not \"high\" causes positive sentiment. "
   ]
  },
  {
   "cell_type": "markdown",
   "metadata": {},
   "source": [
    "<a id='4.2'></a>\n",
    "## 4.2 - Supervised Learning-Classification algorithms and LSTM"
   ]
  },
  {
   "cell_type": "markdown",
   "metadata": {},
   "source": [
    "In this step, we develop customised model for sentiment analysis, based on available labelled data. The label data for this is obtained from kaggle website. Let us look at the data."
   ]
  },
  {
   "cell_type": "code",
   "execution_count": 57,
   "metadata": {},
   "outputs": [],
   "source": [
    "sentiments_data = pd.read_csv(r'data/trading/LabelledNewsData.csv',encoding = \"ISO-8859-1\")"
   ]
  },
  {
   "cell_type": "code",
   "execution_count": 58,
   "metadata": {},
   "outputs": [
    {
     "data": {
      "text/html": [
       "<div>\n",
       "<style scoped>\n",
       "    .dataframe tbody tr th:only-of-type {\n",
       "        vertical-align: middle;\n",
       "    }\n",
       "\n",
       "    .dataframe tbody tr th {\n",
       "        vertical-align: top;\n",
       "    }\n",
       "\n",
       "    .dataframe thead th {\n",
       "        text-align: right;\n",
       "    }\n",
       "</style>\n",
       "<table border=\"1\" class=\"dataframe\">\n",
       "  <thead>\n",
       "    <tr style=\"text-align: right;\">\n",
       "      <th></th>\n",
       "      <th>datetime</th>\n",
       "      <th>headline</th>\n",
       "      <th>ticker</th>\n",
       "      <th>sentiment</th>\n",
       "    </tr>\n",
       "  </thead>\n",
       "  <tbody>\n",
       "    <tr>\n",
       "      <th>0</th>\n",
       "      <td>1/16/2020 5:25</td>\n",
       "      <td>$MMM fell on hard times but could be set to re...</td>\n",
       "      <td>MMM</td>\n",
       "      <td>0</td>\n",
       "    </tr>\n",
       "  </tbody>\n",
       "</table>\n",
       "</div>"
      ],
      "text/plain": [
       "         datetime                                           headline ticker  \\\n",
       "0  1/16/2020 5:25  $MMM fell on hard times but could be set to re...    MMM   \n",
       "\n",
       "   sentiment  \n",
       "0          0  "
      ]
     },
     "execution_count": 58,
     "metadata": {},
     "output_type": "execute_result"
    }
   ],
   "source": [
    "sentiments_data.head(1)"
   ]
  },
  {
   "cell_type": "code",
   "execution_count": 59,
   "metadata": {},
   "outputs": [
    {
     "name": "stdout",
     "output_type": "stream",
     "text": [
      "9470 , 30\n"
     ]
    }
   ],
   "source": [
    "print(sentiments_data.shape[0],',', sentiments_data.ticker.unique().shape[0])"
   ]
  },
  {
   "cell_type": "markdown",
   "metadata": {},
   "source": [
    "The data has headlines for the news across 30 different stocks, with total 9470 rows, and has sentiments lacelled 0 and 1. The headlines are already in almost cleaned. We perform the classification steps that we discussed in chapter 6, using the classification model development python template discussed in that chapter. \n",
    "\n",
    "In order to run a supervised learning model, we first need to convert the news headlines into feature representation. "
   ]
  },
  {
   "cell_type": "code",
   "execution_count": 68,
   "metadata": {},
   "outputs": [],
   "source": [
    "import numpy as np\n",
    "import en_core_web_lg\n",
    "nlp = en_core_web_lg.load()\n",
    "\n",
    "#word-embedding\n",
    "all_vectors = np.array([np.array([token.vector for token in nlp(s) ]).mean(axis=0)*np.ones((300)) \\\n",
    "                           for s in sentiments_data['headline']])"
   ]
  },
  {
   "cell_type": "markdown",
   "metadata": {},
   "source": [
    "Now that we have prepared the independent variable we train the classification model in a similar manner as discussed in chapter 6. We first divide the data into training set and test set and futher run the key classification models. "
   ]
  },
  {
   "cell_type": "code",
   "execution_count": 69,
   "metadata": {},
   "outputs": [],
   "source": [
    "from sklearn.model_selection import train_test_split#, KFold, cross_val_score, GridSearchCV\n",
    "# Libraries for Classification for modeling the sentiments\n",
    "from sklearn.neural_network import MLPClassifier\n",
    "from sklearn.ensemble import RandomForestClassifier\n",
    "from sklearn.linear_model import LogisticRegression\n",
    "from sklearn.tree import DecisionTreeClassifier\n",
    "from sklearn.neighbors import KNeighborsClassifier\n",
    "from sklearn.svm import SVC\n",
    "\n",
    "# split out validation dataset for the end\n",
    "Y= sentiments_data[\"sentiment\"]\n",
    "X = all_vectors\n",
    "\n",
    "validation_size = 0.3\n",
    "seed = 7\n",
    "X_train, X_test, Y_train, Y_test = train_test_split(X, Y, test_size=validation_size, random_state=seed)\n",
    "\n",
    "# test options for classification\n",
    "num_folds = 10\n",
    "seed = 7\n",
    "scoring = 'accuracy'\n",
    "\n",
    "# spot check the algorithms\n",
    "models = []\n",
    "models.append(('LR', LogisticRegression()))\n",
    "models.append(('KNN', KNeighborsClassifier()))\n",
    "models.append(('CART', DecisionTreeClassifier()))\n",
    "models.append(('SVM', SVC()))\n",
    "#Neural Network\n",
    "models.append(('NN', MLPClassifier()))\n",
    "#Ensable Models \n",
    "models.append(('RF', RandomForestClassifier()))"
   ]
  },
  {
   "cell_type": "markdown",
   "metadata": {},
   "source": [
    "Running all the classification models"
   ]
  },
  {
   "cell_type": "code",
   "execution_count": 76,
   "metadata": {},
   "outputs": [
    {
     "name": "stderr",
     "output_type": "stream",
     "text": [
      "/Users/alessandrocontu/anaconda3/envs/finance/lib/python3.8/site-packages/sklearn/linear_model/_logistic.py:460: ConvergenceWarning: lbfgs failed to converge (status=1):\n",
      "STOP: TOTAL NO. of ITERATIONS REACHED LIMIT.\n",
      "\n",
      "Increase the number of iterations (max_iter) or scale the data as shown in:\n",
      "    https://scikit-learn.org/stable/modules/preprocessing.html\n",
      "Please also refer to the documentation for alternative solver options:\n",
      "    https://scikit-learn.org/stable/modules/linear_model.html#logistic-regression\n",
      "  n_iter_i = _check_optimize_result(\n",
      "/Users/alessandrocontu/anaconda3/envs/finance/lib/python3.8/site-packages/sklearn/linear_model/_logistic.py:460: ConvergenceWarning: lbfgs failed to converge (status=1):\n",
      "STOP: TOTAL NO. of ITERATIONS REACHED LIMIT.\n",
      "\n",
      "Increase the number of iterations (max_iter) or scale the data as shown in:\n",
      "    https://scikit-learn.org/stable/modules/preprocessing.html\n",
      "Please also refer to the documentation for alternative solver options:\n",
      "    https://scikit-learn.org/stable/modules/linear_model.html#logistic-regression\n",
      "  n_iter_i = _check_optimize_result(\n",
      "/Users/alessandrocontu/anaconda3/envs/finance/lib/python3.8/site-packages/sklearn/linear_model/_logistic.py:460: ConvergenceWarning: lbfgs failed to converge (status=1):\n",
      "STOP: TOTAL NO. of ITERATIONS REACHED LIMIT.\n",
      "\n",
      "Increase the number of iterations (max_iter) or scale the data as shown in:\n",
      "    https://scikit-learn.org/stable/modules/preprocessing.html\n",
      "Please also refer to the documentation for alternative solver options:\n",
      "    https://scikit-learn.org/stable/modules/linear_model.html#logistic-regression\n",
      "  n_iter_i = _check_optimize_result(\n",
      "/Users/alessandrocontu/anaconda3/envs/finance/lib/python3.8/site-packages/sklearn/linear_model/_logistic.py:460: ConvergenceWarning: lbfgs failed to converge (status=1):\n",
      "STOP: TOTAL NO. of ITERATIONS REACHED LIMIT.\n",
      "\n",
      "Increase the number of iterations (max_iter) or scale the data as shown in:\n",
      "    https://scikit-learn.org/stable/modules/preprocessing.html\n",
      "Please also refer to the documentation for alternative solver options:\n",
      "    https://scikit-learn.org/stable/modules/linear_model.html#logistic-regression\n",
      "  n_iter_i = _check_optimize_result(\n",
      "/Users/alessandrocontu/anaconda3/envs/finance/lib/python3.8/site-packages/sklearn/linear_model/_logistic.py:460: ConvergenceWarning: lbfgs failed to converge (status=1):\n",
      "STOP: TOTAL NO. of ITERATIONS REACHED LIMIT.\n",
      "\n",
      "Increase the number of iterations (max_iter) or scale the data as shown in:\n",
      "    https://scikit-learn.org/stable/modules/preprocessing.html\n",
      "Please also refer to the documentation for alternative solver options:\n",
      "    https://scikit-learn.org/stable/modules/linear_model.html#logistic-regression\n",
      "  n_iter_i = _check_optimize_result(\n",
      "/Users/alessandrocontu/anaconda3/envs/finance/lib/python3.8/site-packages/sklearn/linear_model/_logistic.py:460: ConvergenceWarning: lbfgs failed to converge (status=1):\n",
      "STOP: TOTAL NO. of ITERATIONS REACHED LIMIT.\n",
      "\n",
      "Increase the number of iterations (max_iter) or scale the data as shown in:\n",
      "    https://scikit-learn.org/stable/modules/preprocessing.html\n",
      "Please also refer to the documentation for alternative solver options:\n",
      "    https://scikit-learn.org/stable/modules/linear_model.html#logistic-regression\n",
      "  n_iter_i = _check_optimize_result(\n",
      "/Users/alessandrocontu/anaconda3/envs/finance/lib/python3.8/site-packages/sklearn/linear_model/_logistic.py:460: ConvergenceWarning: lbfgs failed to converge (status=1):\n",
      "STOP: TOTAL NO. of ITERATIONS REACHED LIMIT.\n",
      "\n",
      "Increase the number of iterations (max_iter) or scale the data as shown in:\n",
      "    https://scikit-learn.org/stable/modules/preprocessing.html\n",
      "Please also refer to the documentation for alternative solver options:\n",
      "    https://scikit-learn.org/stable/modules/linear_model.html#logistic-regression\n",
      "  n_iter_i = _check_optimize_result(\n"
     ]
    },
    {
     "name": "stdout",
     "output_type": "stream",
     "text": [
      "LR: 0.881731 (0.008520) 0.896666 0.874340\n",
      "[[1043  166]\n",
      " [ 191 1441]]\n",
      "KNN: 0.786395 (0.025171) 0.868608 0.787751\n",
      "[[ 935  304]\n",
      " [ 299 1303]]\n",
      "CART: 0.690601 (0.017504) 0.999698 0.680394\n",
      "[[ 775  449]\n",
      " [ 459 1158]]\n",
      "SVM: 0.895004 (0.011195) 0.920803 0.897923\n",
      "[[1088  144]\n",
      " [ 146 1463]]\n"
     ]
    },
    {
     "name": "stderr",
     "output_type": "stream",
     "text": [
      "/Users/alessandrocontu/anaconda3/envs/finance/lib/python3.8/site-packages/sklearn/neural_network/_multilayer_perceptron.py:691: ConvergenceWarning: Stochastic Optimizer: Maximum iterations (200) reached and the optimization hasn't converged yet.\n",
      "  warnings.warn(\n",
      "/Users/alessandrocontu/anaconda3/envs/finance/lib/python3.8/site-packages/sklearn/neural_network/_multilayer_perceptron.py:691: ConvergenceWarning: Stochastic Optimizer: Maximum iterations (200) reached and the optimization hasn't converged yet.\n",
      "  warnings.warn(\n",
      "/Users/alessandrocontu/anaconda3/envs/finance/lib/python3.8/site-packages/sklearn/neural_network/_multilayer_perceptron.py:691: ConvergenceWarning: Stochastic Optimizer: Maximum iterations (200) reached and the optimization hasn't converged yet.\n",
      "  warnings.warn(\n",
      "/Users/alessandrocontu/anaconda3/envs/finance/lib/python3.8/site-packages/sklearn/neural_network/_multilayer_perceptron.py:691: ConvergenceWarning: Stochastic Optimizer: Maximum iterations (200) reached and the optimization hasn't converged yet.\n",
      "  warnings.warn(\n",
      "/Users/alessandrocontu/anaconda3/envs/finance/lib/python3.8/site-packages/sklearn/neural_network/_multilayer_perceptron.py:691: ConvergenceWarning: Stochastic Optimizer: Maximum iterations (200) reached and the optimization hasn't converged yet.\n",
      "  warnings.warn(\n",
      "/Users/alessandrocontu/anaconda3/envs/finance/lib/python3.8/site-packages/sklearn/neural_network/_multilayer_perceptron.py:691: ConvergenceWarning: Stochastic Optimizer: Maximum iterations (200) reached and the optimization hasn't converged yet.\n",
      "  warnings.warn(\n",
      "/Users/alessandrocontu/anaconda3/envs/finance/lib/python3.8/site-packages/sklearn/neural_network/_multilayer_perceptron.py:691: ConvergenceWarning: Stochastic Optimizer: Maximum iterations (200) reached and the optimization hasn't converged yet.\n",
      "  warnings.warn(\n",
      "/Users/alessandrocontu/anaconda3/envs/finance/lib/python3.8/site-packages/sklearn/neural_network/_multilayer_perceptron.py:691: ConvergenceWarning: Stochastic Optimizer: Maximum iterations (200) reached and the optimization hasn't converged yet.\n",
      "  warnings.warn(\n",
      "/Users/alessandrocontu/anaconda3/envs/finance/lib/python3.8/site-packages/sklearn/neural_network/_multilayer_perceptron.py:691: ConvergenceWarning: Stochastic Optimizer: Maximum iterations (200) reached and the optimization hasn't converged yet.\n",
      "  warnings.warn(\n",
      "/Users/alessandrocontu/anaconda3/envs/finance/lib/python3.8/site-packages/sklearn/neural_network/_multilayer_perceptron.py:691: ConvergenceWarning: Stochastic Optimizer: Maximum iterations (200) reached and the optimization hasn't converged yet.\n",
      "  warnings.warn(\n",
      "/Users/alessandrocontu/anaconda3/envs/finance/lib/python3.8/site-packages/sklearn/neural_network/_multilayer_perceptron.py:691: ConvergenceWarning: Stochastic Optimizer: Maximum iterations (200) reached and the optimization hasn't converged yet.\n",
      "  warnings.warn(\n"
     ]
    },
    {
     "name": "stdout",
     "output_type": "stream",
     "text": [
      "NN: 0.923819 (0.008776) 0.999698 0.934530\n",
      "[[1147   99]\n",
      " [  87 1508]]\n",
      "RF: 0.818828 (0.011711) 0.999698 0.818022\n",
      "[[ 853  136]\n",
      " [ 381 1471]]\n"
     ]
    }
   ],
   "source": [
    "from sklearn.model_selection import KFold, cross_val_score, GridSearchCV\n",
    "from sklearn.metrics import accuracy_score, confusion_matrix\n",
    "\n",
    "results = []\n",
    "names = []\n",
    "kfold_results = []\n",
    "test_results = []\n",
    "train_results = []\n",
    "\n",
    "for name, model in models:\n",
    "    kfold = KFold(n_splits=num_folds)\n",
    "    cv_results = cross_val_score(model, X_train, Y_train, cv=kfold, scoring=scoring)\n",
    "    results.append(cv_results)\n",
    "    names.append(name)\n",
    "    #msg = \"%s: %f (%f)\" % (name, cv_results.mean(), cv_results.std())\n",
    "    #print(msg)\n",
    "   # Full Training period\n",
    "    res = model.fit(X_train, Y_train)\n",
    "    train_result = accuracy_score(res.predict(X_train), Y_train)\n",
    "    train_results.append(train_result)\n",
    "    \n",
    "    # Test results\n",
    "    test_result = accuracy_score(res.predict(X_test), Y_test)\n",
    "    test_results.append(test_result)    \n",
    "    \n",
    "    msg = \"%s: %f (%f) %f %f\" % (name, cv_results.mean(), cv_results.std(), train_result, test_result)\n",
    "    print(msg)\n",
    "    print(confusion_matrix(res.predict(X_test), Y_test))\n",
    "    #print(classification_report(res.predict(X_test), Y_test))"
   ]
  },
  {
   "cell_type": "code",
   "execution_count": 77,
   "metadata": {},
   "outputs": [
    {
     "data": {
      "image/png": "[encoded data removed]",
      "text/plain": [
       "<Figure size 1080x576 with 1 Axes>"
      ]
     },
     "metadata": {
      "needs_background": "light"
     },
     "output_type": "display_data"
    }
   ],
   "source": [
    "# compare algorithms\n",
    "from matplotlib import pyplot\n",
    "fig = pyplot.figure()\n",
    "ind = np.arange(len(names))  # the x locations for the groups\n",
    "width = 0.35  # the width of the bars\n",
    "fig.suptitle('Algorithm Comparison')\n",
    "ax = fig.add_subplot(111)\n",
    "pyplot.bar(ind - width/2, train_results,  width=width, label='Train Error')\n",
    "pyplot.bar(ind + width/2, test_results, width=width, label='Test Error')\n",
    "fig.set_size_inches(15,8)\n",
    "pyplot.legend()\n",
    "ax.set_xticks(ind)\n",
    "ax.set_xticklabels(names)\n",
    "pyplot.show()"
   ]
  },
  {
   "cell_type": "markdown",
   "metadata": {},
   "source": [
    "As we can see the NN model is the best performer with the a training accuracy of 99% and test accuracy of 93%. The performance of Random forest, SVM and Logistic regression are good as well. CART and KNN don't perform as good as other models. CART has higher overfitting as well. "
   ]
  },
  {
   "cell_type": "markdown",
   "metadata": {},
   "source": [
    "### LSTM based model"
   ]
  },
  {
   "cell_type": "markdown",
   "metadata": {},
   "source": [
    "In the above code snippet, we used the some of the model function which look at the individual works in the sentence for training. However, for NLP, RNN based model are preferred over other machine learning models as RNN stores the information for current feature as well neighboring features for prediction. "
   ]
  },
  {
   "cell_type": "code",
   "execution_count": 80,
   "metadata": {},
   "outputs": [],
   "source": [
    "from keras.preprocessing.sequence import pad_sequences\n",
    "from keras.preprocessing.text import Tokenizer\n",
    "\n",
    "### Create sequence\n",
    "vocabulary_size = 20000\n",
    "tokenizer = Tokenizer(num_words= vocabulary_size)\n",
    "tokenizer.fit_on_texts(sentiments_data['headline'])\n",
    "sequences = tokenizer.texts_to_sequences(sentiments_data['headline'])\n",
    "X_LSTM = pad_sequences(sequences, maxlen=50)"
   ]
  },
  {
   "cell_type": "markdown",
   "metadata": {},
   "source": [
    "Dividing the data into the training and test set. "
   ]
  },
  {
   "cell_type": "code",
   "execution_count": 81,
   "metadata": {},
   "outputs": [],
   "source": [
    "Y_LSTM = sentiments_data[\"sentiment\"]\n",
    "X_train_LSTM, X_test_LSTM, Y_train_LSTM, Y_test_LSTM = train_test_split(X_LSTM, \\\n",
    "                       Y_LSTM, test_size=validation_size, random_state=seed)"
   ]
  },
  {
   "cell_type": "markdown",
   "metadata": {},
   "source": [
    "In the following code snippet, we used Keras library to build a neural network classifier."
   ]
  },
  {
   "cell_type": "code",
   "execution_count": 84,
   "metadata": {},
   "outputs": [
    {
     "name": "stderr",
     "output_type": "stream",
     "text": [
      "/Users/alessandrocontu/anaconda3/envs/finance/lib/python3.8/site-packages/scikeras/wrappers.py:915: UserWarning: ``build_fn`` will be renamed to ``model`` in a future release, at which point use of ``build_fn`` will raise an Error instead.\n",
      "  X, y = self._initialize(X, y)\n"
     ]
    },
    {
     "name": "stdout",
     "output_type": "stream",
     "text": [
      "WARNING:tensorflow:Layer lstm will not use cuDNN kernels since it doesn't meet the criteria. It will use a generic GPU kernel as fallback when running on GPU.\n",
      "Epoch 1/3\n",
      "125/125 [==============================] - 718s 6s/step - loss: 0.3834 - accuracy: 0.8205 - val_loss: 0.1131 - val_accuracy: 0.9555\n",
      "Epoch 2/3\n",
      "125/125 [==============================] - 805s 6s/step - loss: 0.0551 - accuracy: 0.9847 - val_loss: 0.0822 - val_accuracy: 0.9721\n",
      "Epoch 3/3\n",
      "125/125 [==============================] - 743s 6s/step - loss: 0.0198 - accuracy: 0.9952 - val_loss: 0.0806 - val_accuracy: 0.9721\n"
     ]
    },
    {
     "data": {
      "text/html": [
       "<style>#sk-container-id-1 {color: black;}#sk-container-id-1 pre{padding: 0;}#sk-container-id-1 div.sk-toggleable {background-color: white;}#sk-container-id-1 label.sk-toggleable__label {cursor: pointer;display: block;width: 100%;margin-bottom: 0;padding: 0.3em;box-sizing: border-box;text-align: center;}#sk-container-id-1 label.sk-toggleable__label-arrow:before {content: \"▸\";float: left;margin-right: 0.25em;color: #696969;}#sk-container-id-1 label.sk-toggleable__label-arrow:hover:before {color: black;}#sk-container-id-1 div.sk-estimator:hover label.sk-toggleable__label-arrow:before {color: black;}#sk-container-id-1 div.sk-toggleable__content {max-height: 0;max-width: 0;overflow: hidden;text-align: left;background-color: #f0f8ff;}#sk-container-id-1 div.sk-toggleable__content pre {margin: 0.2em;color: black;border-radius: 0.25em;background-color: #f0f8ff;}#sk-container-id-1 input.sk-toggleable__control:checked~div.sk-toggleable__content {max-height: 200px;max-width: 100%;overflow: auto;}#sk-container-id-1 input.sk-toggleable__control:checked~label.sk-toggleable__label-arrow:before {content: \"▾\";}#sk-container-id-1 div.sk-estimator input.sk-toggleable__control:checked~label.sk-toggleable__label {background-color: #d4ebff;}#sk-container-id-1 div.sk-label input.sk-toggleable__control:checked~label.sk-toggleable__label {background-color: #d4ebff;}#sk-container-id-1 input.sk-hidden--visually {border: 0;clip: rect(1px 1px 1px 1px);clip: rect(1px, 1px, 1px, 1px);height: 1px;margin: -1px;overflow: hidden;padding: 0;position: absolute;width: 1px;}#sk-container-id-1 div.sk-estimator {font-family: monospace;background-color: #f0f8ff;border: 1px dotted black;border-radius: 0.25em;box-sizing: border-box;margin-bottom: 0.5em;}#sk-container-id-1 div.sk-estimator:hover {background-color: #d4ebff;}#sk-container-id-1 div.sk-parallel-item::after {content: \"\";width: 100%;border-bottom: 1px solid gray;flex-grow: 1;}#sk-container-id-1 div.sk-label:hover label.sk-toggleable__label {background-color: #d4ebff;}#sk-container-id-1 div.sk-serial::before {content: \"\";position: absolute;border-left: 1px solid gray;box-sizing: border-box;top: 0;bottom: 0;left: 50%;z-index: 0;}#sk-container-id-1 div.sk-serial {display: flex;flex-direction: column;align-items: center;background-color: white;padding-right: 0.2em;padding-left: 0.2em;position: relative;}#sk-container-id-1 div.sk-item {position: relative;z-index: 1;}#sk-container-id-1 div.sk-parallel {display: flex;align-items: stretch;justify-content: center;background-color: white;position: relative;}#sk-container-id-1 div.sk-item::before, #sk-container-id-1 div.sk-parallel-item::before {content: \"\";position: absolute;border-left: 1px solid gray;box-sizing: border-box;top: 0;bottom: 0;left: 50%;z-index: -1;}#sk-container-id-1 div.sk-parallel-item {display: flex;flex-direction: column;z-index: 1;position: relative;background-color: white;}#sk-container-id-1 div.sk-parallel-item:first-child::after {align-self: flex-end;width: 50%;}#sk-container-id-1 div.sk-parallel-item:last-child::after {align-self: flex-start;width: 50%;}#sk-container-id-1 div.sk-parallel-item:only-child::after {width: 0;}#sk-container-id-1 div.sk-dashed-wrapped {border: 1px dashed gray;margin: 0 0.4em 0.5em 0.4em;box-sizing: border-box;padding-bottom: 0.4em;background-color: white;}#sk-container-id-1 div.sk-label label {font-family: monospace;font-weight: bold;display: inline-block;line-height: 1.2em;}#sk-container-id-1 div.sk-label-container {text-align: center;}#sk-container-id-1 div.sk-container {/* jupyter's `normalize.less` sets `[hidden] { display: none; }` but bootstrap.min.css set `[hidden] { display: none !important; }` so we also need the `!important` here to be able to override the default hidden behavior on the sphinx rendered scikit-learn.org. See: https://github.com/scikit-learn/scikit-learn/issues/21755 */display: inline-block !important;position: relative;}#sk-container-id-1 div.sk-text-repr-fallback {display: none;}</style><div id=\"sk-container-id-1\" class=\"sk-top-container\"><div class=\"sk-text-repr-fallback\"><pre>KerasClassifier(\n",
       "\tmodel=None\n",
       "\tbuild_fn=&lt;function create_model at 0x2fa92c0d0&gt;\n",
       "\twarm_start=False\n",
       "\trandom_state=None\n",
       "\toptimizer=rmsprop\n",
       "\tloss=None\n",
       "\tmetrics=None\n",
       "\tbatch_size=None\n",
       "\tvalidation_batch_size=None\n",
       "\tverbose=1\n",
       "\tcallbacks=None\n",
       "\tvalidation_split=0.4\n",
       "\tshuffle=True\n",
       "\trun_eagerly=False\n",
       "\tepochs=3\n",
       "\tclass_weight=None\n",
       ")</pre><b>In a Jupyter environment, please rerun this cell to show the HTML representation or trust the notebook. <br />On GitHub, the HTML representation is unable to render, please try loading this page with nbviewer.org.</b></div><div class=\"sk-container\" hidden><div class=\"sk-item\"><div class=\"sk-estimator sk-toggleable\"><input class=\"sk-toggleable__control sk-hidden--visually\" id=\"sk-estimator-id-1\" type=\"checkbox\" checked><label for=\"sk-estimator-id-1\" class=\"sk-toggleable__label sk-toggleable__label-arrow\">KerasClassifier</label><div class=\"sk-toggleable__content\"><pre>KerasClassifier(\n",
       "\tmodel=None\n",
       "\tbuild_fn=&lt;function create_model at 0x2fa92c0d0&gt;\n",
       "\twarm_start=False\n",
       "\trandom_state=None\n",
       "\toptimizer=rmsprop\n",
       "\tloss=None\n",
       "\tmetrics=None\n",
       "\tbatch_size=None\n",
       "\tvalidation_batch_size=None\n",
       "\tverbose=1\n",
       "\tcallbacks=None\n",
       "\tvalidation_split=0.4\n",
       "\tshuffle=True\n",
       "\trun_eagerly=False\n",
       "\tepochs=3\n",
       "\tclass_weight=None\n",
       ")</pre></div></div></div></div></div>"
      ],
      "text/plain": [
       "KerasClassifier(\n",
       "\tmodel=None\n",
       "\tbuild_fn=<function create_model at 0x2fa92c0d0>\n",
       "\twarm_start=False\n",
       "\trandom_state=None\n",
       "\toptimizer=rmsprop\n",
       "\tloss=None\n",
       "\tmetrics=None\n",
       "\tbatch_size=None\n",
       "\tvalidation_batch_size=None\n",
       "\tverbose=1\n",
       "\tcallbacks=None\n",
       "\tvalidation_split=0.4\n",
       "\tshuffle=True\n",
       "\trun_eagerly=False\n",
       "\tepochs=3\n",
       "\tclass_weight=None\n",
       ")"
      ]
     },
     "execution_count": 84,
     "metadata": {},
     "output_type": "execute_result"
    }
   ],
   "source": [
    "from keras.models import Sequential\n",
    "from keras.layers import Dense, LSTM\n",
    "from keras.layers import Embedding\n",
    "from scikeras.wrappers import KerasClassifier\n",
    "\n",
    "def create_model(input_length=50):\n",
    "    model = Sequential()\n",
    "    model.add(Embedding(20000, 300, input_length=50))\n",
    "    model.add(LSTM(100, dropout=0.2, recurrent_dropout=0.2))\n",
    "    model.add(Dense(1, activation='sigmoid'))\n",
    "    model.compile(loss='binary_crossentropy', optimizer='adam', metrics=['accuracy'])    \n",
    "    return model    \n",
    "model_LSTM = KerasClassifier(build_fn=create_model, epochs=3, verbose=1, validation_split=0.4)\n",
    "model_LSTM.fit(X_train_LSTM, Y_train_LSTM)"
   ]
  },
  {
   "cell_type": "code",
   "execution_count": 85,
   "metadata": {},
   "outputs": [
    {
     "name": "stdout",
     "output_type": "stream",
     "text": [
      "208/208 [==============================] - 34s 159ms/step\n",
      "89/89 [==============================] - 15s 165ms/step\n"
     ]
    }
   ],
   "source": [
    "# Train results\n",
    "train_result_LSTM = accuracy_score(model_LSTM.predict(X_train_LSTM), Y_train_LSTM)\n",
    "# Test results\n",
    "test_result_LSTM = accuracy_score(model_LSTM.predict(X_test_LSTM), Y_test_LSTM)"
   ]
  },
  {
   "cell_type": "markdown",
   "metadata": {},
   "source": [
    "Computing the accuracy and confusion metrics. "
   ]
  },
  {
   "cell_type": "code",
   "execution_count": 86,
   "metadata": {},
   "outputs": [
    {
     "name": "stdout",
     "output_type": "stream",
     "text": [
      "0.9879318147533565 0.9648011263639563\n"
     ]
    }
   ],
   "source": [
    "print(train_result_LSTM,test_result_LSTM)"
   ]
  },
  {
   "cell_type": "code",
   "execution_count": 88,
   "metadata": {},
   "outputs": [
    {
     "name": "stdout",
     "output_type": "stream",
     "text": [
      "89/89 [==============================] - 14s 160ms/step\n"
     ]
    },
    {
     "data": {
      "text/plain": [
       "array([[1199,   65],\n",
       "       [  35, 1542]])"
      ]
     },
     "execution_count": 88,
     "metadata": {},
     "output_type": "execute_result"
    }
   ],
   "source": [
    "#confusion_matrix(model_LSTM.predict(X_test_LSTM), Y_test_LSTM)"
   ]
  },
  {
   "cell_type": "code",
   "execution_count": 89,
   "metadata": {},
   "outputs": [],
   "source": [
    "train_results.append(train_result_LSTM);test_results.append(test_result_LSTM)"
   ]
  },
  {
   "cell_type": "code",
   "execution_count": 90,
   "metadata": {},
   "outputs": [],
   "source": [
    "names.append(\"LSTM\")"
   ]
  },
  {
   "cell_type": "code",
   "execution_count": 91,
   "metadata": {},
   "outputs": [
    {
     "data": {
      "image/png": "[encoded data removed]",
      "text/plain": [
       "<Figure size 1080x576 with 1 Axes>"
      ]
     },
     "metadata": {
      "needs_background": "light"
     },
     "output_type": "display_data"
    }
   ],
   "source": [
    "# compare algorithms\n",
    "from matplotlib import pyplot\n",
    "fig = pyplot.figure()\n",
    "ind = np.arange(len(names))  # the x locations for the groups\n",
    "width = 0.35  # the width of the bars\n",
    "fig.suptitle('Algorithm Comparison')\n",
    "ax = fig.add_subplot(111)\n",
    "pyplot.bar(ind - width/2, train_results,  width=width, label='Train Error')\n",
    "pyplot.bar(ind + width/2, test_results, width=width, label='Test Error')\n",
    "fig.set_size_inches(15,8)\n",
    "pyplot.legend()\n",
    "ax.set_xticks(ind)\n",
    "ax.set_xticklabels(names)\n",
    "pyplot.show()"
   ]
  },
  {
   "cell_type": "markdown",
   "metadata": {},
   "source": [
    "As expected, the LSTM model has the best performance in the test set as compared to all other models that we saw before. Let us use LSTM model for the computation of the sentiments in the data. "
   ]
  },
  {
   "cell_type": "code",
   "execution_count": 92,
   "metadata": {},
   "outputs": [],
   "source": [
    "sequences_LSTM = tokenizer.texts_to_sequences(data_df['headline'])\n",
    "X_LSTM = pad_sequences(sequences_LSTM, maxlen=50)"
   ]
  },
  {
   "cell_type": "code",
   "execution_count": 93,
   "metadata": {},
   "outputs": [
    {
     "name": "stdout",
     "output_type": "stream",
     "text": [
      "77/77 [==============================] - 12s 158ms/step\n"
     ]
    }
   ],
   "source": [
    "Y_LSTM = model_LSTM.predict(X_LSTM)"
   ]
  },
  {
   "cell_type": "code",
   "execution_count": 94,
   "metadata": {},
   "outputs": [],
   "source": [
    "data_df['sentiment_LSTM'] = Y_LSTM "
   ]
  },
  {
   "cell_type": "code",
   "execution_count": 95,
   "metadata": {},
   "outputs": [
    {
     "name": "stdout",
     "output_type": "stream",
     "text": [
      "0.13748449071602425\n"
     ]
    }
   ],
   "source": [
    "corrlation = data_df['eventRet'].corr(data_df['sentiment_LSTM'])\n",
    "print(corrlation)"
   ]
  },
  {
   "cell_type": "code",
   "execution_count": 97,
   "metadata": {},
   "outputs": [
    {
     "data": {
      "text/html": [
       "<div>\n",
       "<style scoped>\n",
       "    .dataframe tbody tr th:only-of-type {\n",
       "        vertical-align: middle;\n",
       "    }\n",
       "\n",
       "    .dataframe tbody tr th {\n",
       "        vertical-align: top;\n",
       "    }\n",
       "\n",
       "    .dataframe thead th {\n",
       "        text-align: right;\n",
       "    }\n",
       "</style>\n",
       "<table border=\"1\" class=\"dataframe\">\n",
       "  <thead>\n",
       "    <tr style=\"text-align: right;\">\n",
       "      <th></th>\n",
       "      <th>ticker</th>\n",
       "      <th>headline</th>\n",
       "      <th>date</th>\n",
       "      <th>eventRet</th>\n",
       "      <th>Close</th>\n",
       "      <th>sentiment_textblob</th>\n",
       "      <th>sentiment_LSTM</th>\n",
       "    </tr>\n",
       "  </thead>\n",
       "  <tbody>\n",
       "    <tr>\n",
       "      <th>0</th>\n",
       "      <td>AMZN</td>\n",
       "      <td>Whole Foods (WFMI) -5.2% following a downgrade...</td>\n",
       "      <td>2011-05-02</td>\n",
       "      <td>0.017650</td>\n",
       "      <td>10.059500</td>\n",
       "      <td>0.262500</td>\n",
       "      <td>0</td>\n",
       "    </tr>\n",
       "    <tr>\n",
       "      <th>1</th>\n",
       "      <td>NFLX</td>\n",
       "      <td>Netflix (NFLX +1.1%) shares post early gains a...</td>\n",
       "      <td>2011-05-02</td>\n",
       "      <td>-0.012912</td>\n",
       "      <td>33.884285</td>\n",
       "      <td>-0.043750</td>\n",
       "      <td>1</td>\n",
       "    </tr>\n",
       "    <tr>\n",
       "      <th>2</th>\n",
       "      <td>MSFT</td>\n",
       "      <td>The likely winners in Microsoft's (MSFT -1.4%)...</td>\n",
       "      <td>2011-05-10</td>\n",
       "      <td>-0.019817</td>\n",
       "      <td>19.956234</td>\n",
       "      <td>0.166667</td>\n",
       "      <td>1</td>\n",
       "    </tr>\n",
       "    <tr>\n",
       "      <th>3</th>\n",
       "      <td>MSFT</td>\n",
       "      <td>Microsoft (MSFT -1.2%) and Skype signed their ...</td>\n",
       "      <td>2011-05-10</td>\n",
       "      <td>-0.019817</td>\n",
       "      <td>19.956234</td>\n",
       "      <td>-0.030556</td>\n",
       "      <td>1</td>\n",
       "    </tr>\n",
       "    <tr>\n",
       "      <th>5</th>\n",
       "      <td>AMZN</td>\n",
       "      <td>Amazon.com (AMZN -1.7%) shares slip as comment...</td>\n",
       "      <td>2011-05-12</td>\n",
       "      <td>-0.006607</td>\n",
       "      <td>10.303500</td>\n",
       "      <td>0.000000</td>\n",
       "      <td>0</td>\n",
       "    </tr>\n",
       "  </tbody>\n",
       "</table>\n",
       "</div>"
      ],
      "text/plain": [
       "  ticker                                           headline        date  \\\n",
       "0   AMZN  Whole Foods (WFMI) -5.2% following a downgrade...  2011-05-02   \n",
       "1   NFLX  Netflix (NFLX +1.1%) shares post early gains a...  2011-05-02   \n",
       "2   MSFT  The likely winners in Microsoft's (MSFT -1.4%)...  2011-05-10   \n",
       "3   MSFT  Microsoft (MSFT -1.2%) and Skype signed their ...  2011-05-10   \n",
       "5   AMZN  Amazon.com (AMZN -1.7%) shares slip as comment...  2011-05-12   \n",
       "\n",
       "   eventRet      Close  sentiment_textblob  sentiment_LSTM  \n",
       "0  0.017650  10.059500            0.262500               0  \n",
       "1 -0.012912  33.884285           -0.043750               1  \n",
       "2 -0.019817  19.956234            0.166667               1  \n",
       "3 -0.019817  19.956234           -0.030556               1  \n",
       "5 -0.006607  10.303500            0.000000               0  "
      ]
     },
     "execution_count": 97,
     "metadata": {},
     "output_type": "execute_result"
    }
   ],
   "source": [
    "data_df.head(5)"
   ]
  },
  {
   "cell_type": "markdown",
   "metadata": {},
   "source": [
    "<a id='4.3'></a>\n",
    "## 4.3 - Unsupervised - Model based on financial lexicon"
   ]
  },
  {
   "cell_type": "markdown",
   "metadata": {},
   "source": [
    "Lexicons are special dictionaries or vocabularies that have been created for analyzing sentiments.\n",
    "VADER (Valence Aware Dictionary for Entiment Reasoning) is a pre-built sentiment analysis model included in the NLTK package. "
   ]
  },
  {
   "cell_type": "code",
   "execution_count": 101,
   "metadata": {},
   "outputs": [
    {
     "name": "stderr",
     "output_type": "stream",
     "text": [
      "[nltk_data] Downloading package vader_lexicon to\n",
      "[nltk_data]     /Users/alessandrocontu/nltk_data...\n",
      "[nltk_data]   Package vader_lexicon is already up-to-date!\n"
     ]
    }
   ],
   "source": [
    "from nltk.sentiment.vader import SentimentIntensityAnalyzer\n",
    "nltk.download('vader_lexicon')\n",
    "\n",
    "# stock market lexicon\n",
    "sia = SentimentIntensityAnalyzer()\n",
    "stock_lex = pd.read_csv('./data/trading/LexiconData.csv')\n",
    "stock_lex['sentiment'] = (stock_lex['Aff_Score'] + stock_lex['Neg_Score'])/2\n",
    "stock_lex = dict(zip(stock_lex.Item, stock_lex.sentiment))\n",
    "stock_lex = {k:v for k,v in stock_lex.items() if len(k.split(' '))==1}\n",
    "stock_lex_scaled = {}\n",
    "for k, v in stock_lex.items():\n",
    "    if v > 0:\n",
    "        stock_lex_scaled[k] = v / max(stock_lex.values()) * 4\n",
    "    else:\n",
    "        stock_lex_scaled[k] = v / min(stock_lex.values()) * -4\n",
    "\n",
    "final_lex = {}\n",
    "final_lex.update(stock_lex_scaled)\n",
    "final_lex.update(sia.lexicon)\n",
    "sia.lexicon = final_lex"
   ]
  },
  {
   "cell_type": "markdown",
   "metadata": {},
   "source": [
    "Example of extracting sentiment score for a sentence:"
   ]
  },
  {
   "cell_type": "code",
   "execution_count": 102,
   "metadata": {},
   "outputs": [],
   "source": [
    "text = \"AAPL is trading higher after reporting its October sales rose 12.6% M/M. It has seen a 20%+ jump in orders\""
   ]
  },
  {
   "cell_type": "code",
   "execution_count": 103,
   "metadata": {},
   "outputs": [
    {
     "data": {
      "text/plain": [
       "0.4535"
      ]
     },
     "execution_count": 103,
     "metadata": {},
     "output_type": "execute_result"
    }
   ],
   "source": [
    "sia.polarity_scores(text)['compound']"
   ]
  },
  {
   "cell_type": "markdown",
   "metadata": {},
   "source": [
    "Now we extract the sentiment for the entire dataset."
   ]
  },
  {
   "cell_type": "code",
   "execution_count": 105,
   "metadata": {},
   "outputs": [
    {
     "data": {
      "text/plain": [
       "(2454,)"
      ]
     },
     "execution_count": 105,
     "metadata": {},
     "output_type": "execute_result"
    }
   ],
   "source": [
    "vader_sentiments = np.array([sia.polarity_scores(s)['compound'] for s in data_df['headline']])\n",
    "vader_sentiments.shape"
   ]
  },
  {
   "cell_type": "code",
   "execution_count": 106,
   "metadata": {},
   "outputs": [],
   "source": [
    "data_df['sentiment_lex'] = vader_sentiments"
   ]
  },
  {
   "cell_type": "code",
   "execution_count": 107,
   "metadata": {},
   "outputs": [
    {
     "name": "stdout",
     "output_type": "stream",
     "text": [
      "0.16746447145000948\n"
     ]
    }
   ],
   "source": [
    "corrlation = data_df['eventRet'].corr(data_df['sentiment_lex'])\n",
    "print(corrlation)"
   ]
  },
  {
   "cell_type": "code",
   "execution_count": 108,
   "metadata": {},
   "outputs": [
    {
     "data": {
      "image/png": "[encoded data removed]",
      "text/plain": [
       "<Figure size 432x288 with 1 Axes>"
      ]
     },
     "metadata": {
      "needs_background": "light"
     },
     "output_type": "display_data"
    }
   ],
   "source": [
    "plt.scatter(data_df['sentiment_lex'],data_df['eventRet'], alpha=0.5)\n",
    "plt.title('Scatter Between Event return and sentiments-all data')\n",
    "plt.ylabel('Event Return')\n",
    "plt.xlabel('Sentiments')\n",
    "plt.show()"
   ]
  },
  {
   "cell_type": "markdown",
   "metadata": {},
   "source": [
    "We don's see many high returns for lower sentiments, but the data may not be very clear. Let us look at the result for one of the stock tickers. "
   ]
  },
  {
   "cell_type": "code",
   "execution_count": 109,
   "metadata": {},
   "outputs": [
    {
     "data": {
      "image/png": "[encoded data removed]",
      "text/plain": [
       "<Figure size 432x288 with 1 Axes>"
      ]
     },
     "metadata": {
      "needs_background": "light"
     },
     "output_type": "display_data"
    }
   ],
   "source": [
    "data_df_stock  = data_df[data_df['ticker'] == 'AMZN']\n",
    "plt.scatter(data_df_stock['sentiment_lex'],data_df_stock['eventRet'], alpha=0.5)\n",
    "plt.title('Scatter Between Event return and sentiments-AMZN')\n",
    "plt.ylabel('Event Return')\n",
    "plt.xlabel('Sentiments')\n",
    "plt.show()"
   ]
  },
  {
   "cell_type": "markdown",
   "metadata": {},
   "source": [
    "We see a positive correlation between the event return and sentiments. We will look deeper into the comparison of different types of the sentiment analysis in the next section."
   ]
  },
  {
   "cell_type": "code",
   "execution_count": 110,
   "metadata": {},
   "outputs": [],
   "source": [
    "#data_df.to_csv(r'./data/trading/Step4_DataWithSentimentsResults.csv', sep='|', index=False)"
   ]
  },
  {
   "cell_type": "markdown",
   "metadata": {},
   "source": [
    "<a id='4.4'></a>\n",
    "## 4.4 Exploratory Data Analysis and comparison"
   ]
  },
  {
   "cell_type": "code",
   "execution_count": 112,
   "metadata": {},
   "outputs": [],
   "source": [
    "data_df = pd.read_csv(r'./data/trading/Step4_DataWithSentimentsResults.csv', sep='|')\n",
    "data_df = data_df[data_df['ticker'].isin(tickers)]"
   ]
  },
  {
   "cell_type": "markdown",
   "metadata": {},
   "source": [
    "Let us look at the sample headlines and the the sentiments from three different methodology, followed by the analysis using visualization. "
   ]
  },
  {
   "cell_type": "code",
   "execution_count": 113,
   "metadata": {},
   "outputs": [
    {
     "data": {
      "text/html": [
       "<div>\n",
       "<style scoped>\n",
       "    .dataframe tbody tr th:only-of-type {\n",
       "        vertical-align: middle;\n",
       "    }\n",
       "\n",
       "    .dataframe tbody tr th {\n",
       "        vertical-align: top;\n",
       "    }\n",
       "\n",
       "    .dataframe thead th {\n",
       "        text-align: right;\n",
       "    }\n",
       "</style>\n",
       "<table border=\"1\" class=\"dataframe\">\n",
       "  <thead>\n",
       "    <tr style=\"text-align: right;\">\n",
       "      <th></th>\n",
       "      <th>ticker</th>\n",
       "      <th>headline</th>\n",
       "      <th>sentiment_textblob</th>\n",
       "      <th>sentiment_LSTM</th>\n",
       "      <th>sentiment_lex</th>\n",
       "    </tr>\n",
       "  </thead>\n",
       "  <tbody>\n",
       "    <tr>\n",
       "      <th>1</th>\n",
       "      <td>NFLX</td>\n",
       "      <td>Netflix (NFLX +1.1%) shares post early gains after Citigroup ups its rating to Buy and lifts its price target to $300 from $245. U.S. revenue growth is sustainable, Citi says, \"with a path to 50M subscribers by 2013,\" adding that NFLX has little competition in price, selection and  convenience; mass market adoption of tablets will help, and the mass-market adoption phase is still to come.</td>\n",
       "      <td>-0.04375</td>\n",
       "      <td>1</td>\n",
       "      <td>0.8575</td>\n",
       "    </tr>\n",
       "  </tbody>\n",
       "</table>\n",
       "</div>"
      ],
      "text/plain": [
       "  ticker  \\\n",
       "1   NFLX   \n",
       "\n",
       "                                                                                                                                                                                                                                                                                                                                                                                                  headline  \\\n",
       "1  Netflix (NFLX +1.1%) shares post early gains after Citigroup ups its rating to Buy and lifts its price target to $300 from $245. U.S. revenue growth is sustainable, Citi says, \"with a path to 50M subscribers by 2013,\" adding that NFLX has little competition in price, selection and  convenience; mass market adoption of tablets will help, and the mass-market adoption phase is still to come.   \n",
       "\n",
       "   sentiment_textblob  sentiment_LSTM  sentiment_lex  \n",
       "1            -0.04375               1         0.8575  "
      ]
     },
     "metadata": {},
     "output_type": "display_data"
    }
   ],
   "source": [
    "data_new_df_stock=data_df[data_df['ticker']== 'NFLX'][['ticker','headline','sentiment_textblob','sentiment_LSTM','sentiment_lex']]\n",
    "from pandas import option_context\n",
    "\n",
    "with option_context('display.max_colwidth', 400):\n",
    "    display(data_new_df_stock.head(1))"
   ]
  },
  {
   "cell_type": "markdown",
   "metadata": {},
   "source": [
    "Looking at one of the headlines, the sentiment from this sentence is positive. "
   ]
  },
  {
   "cell_type": "code",
   "execution_count": 115,
   "metadata": {},
   "outputs": [
    {
     "data": {
      "text/plain": [
       "<Axes: title={'center': 'Correlation Matrix'}>"
      ]
     },
     "execution_count": 115,
     "metadata": {},
     "output_type": "execute_result"
    },
    {
     "data": {
      "image/png": "[encoded data removed]",
      "text/plain": [
       "<Figure size 360x360 with 2 Axes>"
      ]
     },
     "metadata": {
      "needs_background": "light"
     },
     "output_type": "display_data"
    }
   ],
   "source": [
    "import seaborn as sns\n",
    "correlation = data_df[['sentiment_textblob','sentiment_LSTM','sentiment_lex','eventRet']].dropna(axis=0).corr()\n",
    "\n",
    "plt.figure(figsize=(5,5))\n",
    "plt.title('Correlation Matrix')\n",
    "sns.heatmap(correlation[['eventRet']], vmax=1, annot=True,cmap='cubehelix')"
   ]
  },
  {
   "cell_type": "markdown",
   "metadata": {},
   "source": [
    "All the sentiments have positive relationship with the return which is intuitive and expected. "
   ]
  },
  {
   "cell_type": "code",
   "execution_count": 116,
   "metadata": {},
   "outputs": [],
   "source": [
    "corr_data = []\n",
    "for ticker in data_df['ticker'].unique():\n",
    "    data_new_df_stock=data_df[data_df['ticker']==ticker]\n",
    "    #Only look for the stocks with sufficient data\n",
    "    if data_new_df_stock.shape[0] > 40 : \n",
    "        corr_textblob= data_new_df_stock['eventRet'].corr(data_new_df_stock['sentiment_textblob'])    \n",
    "        corr_LSTM = data_new_df_stock['eventRet'].corr(data_new_df_stock['sentiment_LSTM'])\n",
    "        corr_lex = data_new_df_stock['eventRet'].corr(data_new_df_stock['sentiment_lex'])\n",
    "        corr_data.append([ticker,corr_textblob, corr_LSTM, corr_lex])\n",
    "        #print(ticker,corr_vader, corr_LSTM, corr_textblob)\n",
    "    else:\n",
    "        continue"
   ]
  },
  {
   "cell_type": "code",
   "execution_count": 117,
   "metadata": {},
   "outputs": [
    {
     "data": {
      "text/html": [
       "<div>\n",
       "<style scoped>\n",
       "    .dataframe tbody tr th:only-of-type {\n",
       "        vertical-align: middle;\n",
       "    }\n",
       "\n",
       "    .dataframe tbody tr th {\n",
       "        vertical-align: top;\n",
       "    }\n",
       "\n",
       "    .dataframe thead th {\n",
       "        text-align: right;\n",
       "    }\n",
       "</style>\n",
       "<table border=\"1\" class=\"dataframe\">\n",
       "  <thead>\n",
       "    <tr style=\"text-align: right;\">\n",
       "      <th></th>\n",
       "      <th>corr_textblob</th>\n",
       "      <th>corr_LSTM</th>\n",
       "      <th>corr_lex</th>\n",
       "    </tr>\n",
       "    <tr>\n",
       "      <th>ticker</th>\n",
       "      <th></th>\n",
       "      <th></th>\n",
       "      <th></th>\n",
       "    </tr>\n",
       "  </thead>\n",
       "  <tbody>\n",
       "    <tr>\n",
       "      <th>AMZN</th>\n",
       "      <td>0.01983</td>\n",
       "      <td>0.111176</td>\n",
       "      <td>0.138296</td>\n",
       "    </tr>\n",
       "  </tbody>\n",
       "</table>\n",
       "</div>"
      ],
      "text/plain": [
       "        corr_textblob  corr_LSTM  corr_lex\n",
       "ticker                                    \n",
       "AMZN          0.01983   0.111176  0.138296"
      ]
     },
     "execution_count": 117,
     "metadata": {},
     "output_type": "execute_result"
    }
   ],
   "source": [
    "corr_df = pd.DataFrame(corr_data, columns =  ['ticker','corr_textblob','corr_LSTM','corr_lex'])  \n",
    "corr_df=corr_df.set_index('ticker')\n",
    "corr_df.head(1)"
   ]
  },
  {
   "cell_type": "code",
   "execution_count": 118,
   "metadata": {},
   "outputs": [
    {
     "data": {
      "image/png": "[encoded data removed]",
      "text/plain": [
       "<Figure size 720x576 with 1 Axes>"
      ]
     },
     "metadata": {
      "needs_background": "light"
     },
     "output_type": "display_data"
    }
   ],
   "source": [
    "#corr_df.to_csv(\"correlation.csv\")     \n",
    "#tickers = ['AAPL','MSFT','AMZN','GOOG','BABA','FB','WMT','V','JPM','TSLA']\n",
    "corr_df.loc[tickers].plot.bar(figsize = (10,8))\n",
    "plt.show()"
   ]
  },
  {
   "cell_type": "markdown",
   "metadata": {},
   "source": [
    "Looking at the chart the corrlation from the lexicon methodology is highest across all the stock tickers, which corraborates the conclusion from the previous analysis."
   ]
  },
  {
   "cell_type": "code",
   "execution_count": 119,
   "metadata": {
    "scrolled": true
   },
   "outputs": [
    {
     "data": {
      "image/png": "[encoded data removed]",
      "text/plain": [
       "<Figure size 1008x288 with 2 Axes>"
      ]
     },
     "metadata": {
      "needs_background": "light"
     },
     "output_type": "display_data"
    },
    {
     "data": {
      "image/png": "[encoded data removed]",
      "text/plain": [
       "<Figure size 1008x288 with 2 Axes>"
      ]
     },
     "metadata": {
      "needs_background": "light"
     },
     "output_type": "display_data"
    }
   ],
   "source": [
    "#tickers = corr_df.nlargest(5,'corr_lex').index\n",
    "for ticker in tickers[2:4]:\n",
    "    data_df_stock  = data_df[data_df['ticker'] == ticker]\n",
    "    fig = plt.figure(figsize=(14, 4), constrained_layout=False)\n",
    "\n",
    "    plt.subplot(1, 2, 1)\n",
    "    plt.scatter(data_df_stock['sentiment_lex'],data_df_stock['eventRet'], alpha=0.5)\n",
    "    plt.title(ticker + '-Scatter Between Event return and sentiments-lexicon')\n",
    "    plt.ylabel('Event Return')\n",
    "    plt.xlabel('Sentiments-Lexicon')\n",
    "\n",
    "    \n",
    "    plt.subplot(1, 2, 2)\n",
    "    plt.scatter(data_df_stock['sentiment_textblob'],data_df_stock['eventRet'], alpha=0.5)\n",
    "    plt.title(ticker + '-Scatter Between Event return and sentiments-textblob')\n",
    "    plt.ylabel('Event Return')\n",
    "    plt.xlabel('Sentiments-Textblob')\n",
    "    plt.show()\n",
    "    "
   ]
  },
  {
   "cell_type": "markdown",
   "metadata": {},
   "source": [
    "The lexicon based sentiments on the left definitely shows a positive relationship between the sentiments and return. We use lexicon based sentiments for the trading strategy in the next step."
   ]
  },
  {
   "cell_type": "markdown",
   "metadata": {},
   "source": [
    "<a id='5'></a>\n",
    "# 5. Model Evaluation- Building a Trading Strategy"
   ]
  },
  {
   "cell_type": "markdown",
   "metadata": {},
   "source": [
    "The sentiment data can be used in different ways for the trading strategy. Sentiment scores can be used as a directional signal and ideally create a long-short portfolio, by buying the stocks with positive score and selling the stocks with negative score. The sentiments can also be used as additional features over and above other features(such as correlated stocks, technical indicators) in a supervised learning model to predict the price or come up with a trading strategy. "
   ]
  },
  {
   "cell_type": "markdown",
   "metadata": {},
   "source": [
    "In the trading strategy in this case study we buy and sell stock as per the current stock sentiments : \n",
    "* Buy a stock when the change in sentiment score (Current sentiment score - previous sentiment score) is greater than .5 and sell a stock when the change in sentiment score is less than -.5.\n",
    "* Additionally, we check for 15 days moving average while buying and selling and buy or sell in a unit of 100. \n",
    "\n",
    "Obviusly, there can be many ways to create the trading strategy based in sentiments, by varying the threshold, or changing the number of units based on the initial cash available.\n",
    "\n",
    "We use lexicon based sentiments for the trading strategy.\n"
   ]
  },
  {
   "cell_type": "markdown",
   "metadata": {},
   "source": [
    "<a id='5.1'></a>\n",
    "## 5.1. Setting up the strategy \n",
    "Here we use backtrader which is a Python based API for writing and backtesting trading strategy. . Backtrader allows you to focus on writing reusable trading strategies, indicators and analyzers instead of having to spend time building infrastructure. we have a convenient framework to backtest and write our trading strategy. We used the Quickstart code in the docs (i.e. Refer to https://www.backtrader.com/docu/quickstart/quickstart/) as a base and modified it to include the sentiment scores.\n",
    "\n",
    "We imlement a simple strategy to buy if the previous day’s sentiment score increases by 0.5 from the last day and sell if it decreases by 0.5.\n",
    "\n",
    "\n",
    "The following function contains two classes: \n",
    "* Sentiment:\n",
    "* SentimentStrat: The \"next\" function of this class implements the actual trading strategy. \n"
   ]
  },
  {
   "cell_type": "code",
   "execution_count": 142,
   "metadata": {},
   "outputs": [],
   "source": [
    "import backtrader as bt\n",
    "import backtrader.indicators as btind\n",
    "import backtrader.analyzers as btanalyzers\n",
    "\n",
    "class Sentiment(bt.Indicator):\n",
    "    lines = ('sentiment',)\n",
    "    plotinfo = dict(\n",
    "        plotymargin=0.5,\n",
    "        plothlines=[0],\n",
    "        plotyticks=[1.0, 0, -1.0])\n",
    "    \n",
    "    def next(self):\n",
    "        self.sentiment = 0.0\n",
    "        self.date = self.data.datetime\n",
    "        date = bt.num2date(self.date[0]).date()\n",
    "        prev_sentiment = self.sentiment        \n",
    "        if date in date_sentiment:\n",
    "            self.sentiment = date_sentiment[date]\n",
    "        self.lines.sentiment[0] = self.sentiment\n",
    "\n",
    "\n",
    "class SentimentStrat(bt.Strategy):\n",
    "    params = (\n",
    "        ('period', 15),\n",
    "        ('printlog', True),\n",
    "    )\n",
    "\n",
    "    def log(self, txt, dt=None, doprint=False):\n",
    "        ''' Logging function for this strategy'''\n",
    "        if self.params.printlog or doprint:\n",
    "            dt = dt or self.datas[0].datetime.date(0)\n",
    "            print('%s, %s' % (dt.isoformat(), txt))\n",
    "\n",
    "    def __init__(self):\n",
    "        # Keep a reference to the \"close\" line in the data[0] dataseries\n",
    "        self.dataclose = self.datas[0].close\n",
    "        # Keep track of pending orders\n",
    "        self.order = None\n",
    "        self.buyprice = None\n",
    "        self.buycomm = None\n",
    "        self.sma = bt.indicators.SimpleMovingAverage(\n",
    "            self.datas[0], period=self.params.period)\n",
    "        self.date = self.data.datetime\n",
    "        self.sentiment = None\n",
    "        Sentiment(self.data)\n",
    "        self.plotinfo.plot = False\n",
    "        \n",
    "        \n",
    "    def notify_order(self, order):\n",
    "        if order.status in [order.Submitted, order.Accepted]:\n",
    "            # Buy/Sell order submitted/accepted to/by broker - Nothing to do\n",
    "            return\n",
    "        \n",
    "        # Check if an order has been completed\n",
    "        # Attention: broker could reject order if not enough cash\n",
    "        if order.status in [order.Completed]:\n",
    "            if order.isbuy():\n",
    "                self.log(\n",
    "                    'BUY EXECUTED, Price: %.2f, Cost: %.2f, Comm %.2f' %\n",
    "                    (order.executed.price,\n",
    "                     order.executed.value,\n",
    "                     order.executed.comm))\n",
    "                self.buyprice = order.executed.price\n",
    "                self.buycomm = order.executed.comm\n",
    "            else:  # Sell\n",
    "                self.log('SELL EXECUTED, Price: %.2f, Cost: %.2f, Comm %.2f' %\n",
    "                         (order.executed.price,\n",
    "                          order.executed.value,\n",
    "                          order.executed.comm))\n",
    "                \n",
    "            self.bar_executed = len(self)     \n",
    "            \n",
    "        elif order.status in [order.Canceled, order.Margin, order.Rejected]:\n",
    "            self.log('Order Canceled/Margin/Rejected')\n",
    "            \n",
    "        # Write down: no pending order\n",
    "        self.order = None\n",
    "        \n",
    "    def notify_trade(self, trade):\n",
    "        if not trade.isclosed:\n",
    "            return\n",
    "\n",
    "        self.log('OPERATION PROFIT, GROSS %.2f, NET %.2f' %\n",
    "                 (trade.pnl, trade.pnlcomm))\n",
    "    \n",
    "    ### Main Strat ###\n",
    "    def next(self):        \n",
    "        date = bt.num2date(self.date[0]).date()\n",
    "        prev_sentiment = self.sentiment\n",
    "        if date in date_sentiment:\n",
    "            self.sentiment = date_sentiment[date]\n",
    "        \n",
    "        # Check if an order is pending. if yes, we cannot send a 2nd one\n",
    "        if self.order:\n",
    "            return       \n",
    "        # If not in the market and previous sentiment not none\n",
    "        if not self.position and prev_sentiment:\n",
    "            # buy if current close more than sma AND sentiment increased by >= 0.5\n",
    "            if self.dataclose[0] > self.sma[0] and self.sentiment - prev_sentiment >= 0.5:\n",
    "                self.log('Previous Sentiment %.2f, New Sentiment %.2f BUY CREATE, %.2f' % (prev_sentiment, self.sentiment, self.dataclose[0]))                \n",
    "                self.order = self.buy()\n",
    "                \n",
    "        # Already in the market and previous sentiment not none\n",
    "        elif prev_sentiment:\n",
    "            # sell if current close less than sma AND sentiment decreased by >= 0.5\n",
    "            if self.dataclose[0] < self.sma[0] and self.sentiment - prev_sentiment <= -0.5:\n",
    "                self.log('Previous Sentiment %.2f, New Sentiment %.2f SELL CREATE, %.2f' % (prev_sentiment, self.sentiment, self.dataclose[0]))                \n",
    "                self.order = self.sell()\n",
    "\n",
    "    def stop(self):\n",
    "        self.log('(MA Period %2d) Ending Value %.2f' %\n",
    "                 (self.params.period, self.broker.getvalue()), doprint=True)   \n",
    "\n"
   ]
  },
  {
   "cell_type": "markdown",
   "metadata": {},
   "source": [
    "### Function for running the trading strategy"
   ]
  },
  {
   "cell_type": "markdown",
   "metadata": {},
   "source": [
    "Now, we write a generic function to run the strategy for any stock. We specified the “ticker” stock feeds to be pulled from Yahoo Finance, set an initial amount of $100,000, a fixed size of 100 lots per trade."
   ]
  },
  {
   "cell_type": "code",
   "execution_count": 143,
   "metadata": {},
   "outputs": [],
   "source": [
    "def run_strategy(ticker, start, end):\n",
    "    print(ticker)    \n",
    "    ticker = yf.Ticker(ticker)\n",
    "    df_ticker = ticker.history(start = start, end = end)\n",
    "    \n",
    "    cerebro = bt.Cerebro()\n",
    "    # Add the data\n",
    "    cerebro.addstrategy(SentimentStrat)        \n",
    "    data = bt.feeds.PandasData(dataname=df_ticker)\n",
    "    cerebro.adddata(data)    \n",
    "    start = 100000.0\n",
    "    cerebro.broker.setcash(start)   \n",
    "    cerebro.addsizer(bt.sizers.FixedSize, stake=100)\n",
    "    print('Starting Portfolio Value: %.2f' % start)    \n",
    "    plt.rcParams['figure.figsize']=[10,6]\n",
    "    plt.rcParams[\"font.size\"]=\"12\"\n",
    "    cerebro.run() \n",
    "    cerebro.plot(volume=False, iplot=True, plotname= ticker)\n",
    "    end = cerebro.broker.getvalue()\n",
    "    print('Start Portfolio value: %.2f\\nFinal Portfolio Value: %.2f\\nProfit: %.2f\\n' \\\n",
    "          % (start, end, end - start))\n",
    "    return float(df_ticker['Close'][0]), (end - start)"
   ]
  },
  {
   "cell_type": "markdown",
   "metadata": {},
   "source": [
    "<a id='5.2'></a>\n",
    "## 5.2. Results for Individual Stocks"
   ]
  },
  {
   "cell_type": "markdown",
   "metadata": {},
   "source": [
    "First running the strategy for google"
   ]
  },
  {
   "cell_type": "code",
   "execution_count": 156,
   "metadata": {},
   "outputs": [
    {
     "name": "stdout",
     "output_type": "stream",
     "text": [
      "GOOG\n",
      "Starting Portfolio Value: 100000.00\n",
      "2012-04-12, Previous Sentiment 0.24, New Sentiment 0.80 BUY CREATE, 16.21\n",
      "2012-04-13, BUY EXECUTED, Price: 16.13, Cost: 1612.83, Comm 0.00\n",
      "2012-10-18, Previous Sentiment 0.98, New Sentiment 0.08 SELL CREATE, 17.31\n",
      "2012-10-19, SELL EXECUTED, Price: 17.57, Cost: 1612.83, Comm 0.00\n",
      "2012-10-19, OPERATION PROFIT, GROSS 144.53, NET 144.53\n",
      "2013-01-10, Previous Sentiment 0.08, New Sentiment 0.80 BUY CREATE, 18.47\n",
      "2013-01-11, BUY EXECUTED, Price: 18.48, Cost: 1848.07, Comm 0.00\n",
      "2014-07-17, Previous Sentiment 0.73, New Sentiment -0.22 SELL CREATE, 28.61\n",
      "2014-07-18, SELL EXECUTED, Price: 29.57, Cost: 1848.07, Comm 0.00\n",
      "2014-07-18, OPERATION PROFIT, GROSS 1108.81, NET 1108.81\n",
      "2014-07-18, Previous Sentiment -0.22, New Sentiment 0.77 BUY CREATE, 29.67\n",
      "2014-07-21, BUY EXECUTED, Price: 29.51, Cost: 2950.65, Comm 0.00\n",
      "2014-09-12, Previous Sentiment 0.66, New Sentiment -0.05 SELL CREATE, 28.70\n",
      "2014-09-15, SELL EXECUTED, Price: 28.57, Cost: 2950.65, Comm 0.00\n",
      "2014-09-15, OPERATION PROFIT, GROSS -93.79, NET -93.79\n",
      "2015-07-17, Previous Sentiment 0.01, New Sentiment 0.90 BUY CREATE, 33.65\n",
      "2015-07-20, BUY EXECUTED, Price: 32.96, Cost: 3296.20, Comm 0.00\n",
      "2015-08-24, Previous Sentiment 0.91, New Sentiment -0.51 SELL CREATE, 29.48\n",
      "2015-08-25, SELL EXECUTED, Price: 30.75, Cost: 3296.20, Comm 0.00\n",
      "2015-08-25, OPERATION PROFIT, GROSS -221.65, NET -221.65\n",
      "2015-10-22, Previous Sentiment -0.79, New Sentiment 0.73 BUY CREATE, 32.59\n",
      "2015-10-23, BUY EXECUTED, Price: 36.38, Cost: 3637.50, Comm 0.00\n",
      "2017-09-25, Previous Sentiment 0.69, New Sentiment 0.14 SELL CREATE, 46.05\n",
      "2017-09-26, SELL EXECUTED, Price: 46.19, Cost: 3637.50, Comm 0.00\n",
      "2017-09-26, OPERATION PROFIT, GROSS 981.10, NET 981.10\n",
      "2017-10-27, Previous Sentiment 0.01, New Sentiment 0.60 BUY CREATE, 50.96\n",
      "2017-10-30, BUY EXECUTED, Price: 50.70, Cost: 5070.00, Comm 0.00\n",
      "2018-04-09, Previous Sentiment 0.54, New Sentiment -0.45 SELL CREATE, 50.77\n",
      "2018-04-10, SELL EXECUTED, Price: 51.32, Cost: 5070.00, Comm 0.00\n",
      "2018-04-10, OPERATION PROFIT, GROSS 62.20, NET 62.20\n",
      "2018-04-23, Previous Sentiment 0.03, New Sentiment 0.87 BUY CREATE, 53.37\n",
      "2018-04-24, BUY EXECUTED, Price: 52.60, Cost: 5260.00, Comm 0.00\n",
      "2018-09-04, Previous Sentiment 0.76, New Sentiment 0.01 SELL CREATE, 59.85\n",
      "2018-09-05, SELL EXECUTED, Price: 59.69, Cost: 5260.00, Comm 0.00\n",
      "2018-09-05, OPERATION PROFIT, GROSS 709.00, NET 709.00\n",
      "2018-10-01, Previous Sentiment 0.01, New Sentiment 0.88 BUY CREATE, 59.77\n",
      "2018-10-02, BUY EXECUTED, Price: 59.55, Cost: 5954.80, Comm 0.00\n",
      "2018-10-05, Previous Sentiment 0.88, New Sentiment 0.31 SELL CREATE, 57.87\n",
      "2018-10-08, SELL EXECUTED, Price: 57.51, Cost: 5954.80, Comm 0.00\n",
      "2018-10-08, OPERATION PROFIT, GROSS -204.25, NET -204.25\n",
      "2018-12-31, (MA Period 15) Ending Value 102485.95\n",
      "Unexpected exception formatting exception. Falling back to standard exception\n"
     ]
    },
    {
     "name": "stderr",
     "output_type": "stream",
     "text": [
      "Traceback (most recent call last):\n",
      "  File \"/Users/alessandrocontu/anaconda3/envs/finance/lib/python3.8/site-packages/IPython/core/interactiveshell.py\", line 3508, in run_code\n",
      "    exec(code_obj, self.user_global_ns, self.user_ns)\n",
      "  File \"<ipython-input-156-809c5885e5b4>\", line 9, in <module>\n",
      "    run_strategy(ticker, start=start, end=end)\n",
      "  File \"<ipython-input-143-af34596c294d>\", line 18, in run_strategy\n",
      "    cerebro.plot(volume=False, iplot=True, plotname= ticker)\n",
      "  File \"/Users/alessandrocontu/anaconda3/envs/finance/lib/python3.8/site-packages/backtrader/cerebro.py\", line 989, in plot\n",
      "    rfig = plotter.plot(strat, figid=si * 100,\n",
      "  File \"/Users/alessandrocontu/anaconda3/envs/finance/lib/python3.8/site-packages/backtrader/plot/plot.py\", line 167, in plot\n",
      "    fig = self.pinf.newfig(figid, numfig, self.mpyplot)\n",
      "  File \"/Users/alessandrocontu/anaconda3/envs/finance/lib/python3.8/site-packages/backtrader/plot/plot.py\", line 72, in newfig\n",
      "    fig = mpyplot.figure(figid + numfig)\n",
      "  File \"/Users/alessandrocontu/anaconda3/envs/finance/lib/python3.8/site-packages/matplotlib/_api/deprecation.py\", line 454, in wrapper\n",
      "  File \"/Users/alessandrocontu/anaconda3/envs/finance/lib/python3.8/site-packages/matplotlib/pyplot.py\", line 840, in figure\n",
      "    axes : `~.axes.Axes` (or a subclass of `~.axes.Axes`)\n",
      "  File \"/Users/alessandrocontu/anaconda3/envs/finance/lib/python3.8/site-packages/matplotlib/pyplot.py\", line 384, in new_figure_manager\n",
      "    Notes\n",
      "  File \"/Users/alessandrocontu/anaconda3/envs/finance/lib/python3.8/site-packages/matplotlib/backend_bases.py\", line 3574, in new_figure_manager\n",
      "  File \"/Users/alessandrocontu/anaconda3/envs/finance/lib/python3.8/site-packages/matplotlib/backends/backend_nbagg.py\", line 232, in new_figure_manager_given_figure\n",
      "    manager = FigureManagerNbAgg(canvas, num)\n",
      "  File \"/Users/alessandrocontu/anaconda3/envs/finance/lib/python3.8/site-packages/matplotlib/backends/backend_nbagg.py\", line 79, in __init__\n",
      "    FigureManagerWebAgg.__init__(self, canvas, num)\n",
      "  File \"/Users/alessandrocontu/anaconda3/envs/finance/lib/python3.8/site-packages/matplotlib/backends/backend_webagg_core.py\", line 402, in __init__\n",
      "    backend_bases.FigureManagerBase.__init__(self, canvas, num)\n",
      "  File \"/Users/alessandrocontu/anaconda3/envs/finance/lib/python3.8/site-packages/matplotlib/backend_bases.py\", line 2817, in __init__\n",
      "    else:\n",
      "  File \"/Users/alessandrocontu/anaconda3/envs/finance/lib/python3.8/site-packages/matplotlib/backends/backend_webagg_core.py\", line 421, in set_window_title\n",
      "    self._send_event('figure_label', label=title)\n",
      "  File \"/Users/alessandrocontu/anaconda3/envs/finance/lib/python3.8/site-packages/matplotlib/backends/backend_webagg_core.py\", line 488, in _send_event\n",
      "    for s in self.web_sockets:\n",
      "AttributeError: 'FigureManagerNbAgg' object has no attribute 'web_sockets'\n",
      "\n",
      "During handling of the above exception, another exception occurred:\n",
      "\n",
      "Traceback (most recent call last):\n",
      "  File \"/Users/alessandrocontu/anaconda3/envs/finance/lib/python3.8/site-packages/IPython/core/interactiveshell.py\", line 2105, in showtraceback\n",
      "    stb = self.InteractiveTB.structured_traceback(\n",
      "  File \"/Users/alessandrocontu/anaconda3/envs/finance/lib/python3.8/site-packages/IPython/core/ultratb.py\", line 1396, in structured_traceback\n",
      "    return FormattedTB.structured_traceback(\n",
      "  File \"/Users/alessandrocontu/anaconda3/envs/finance/lib/python3.8/site-packages/IPython/core/ultratb.py\", line 1287, in structured_traceback\n",
      "    return VerboseTB.structured_traceback(\n",
      "  File \"/Users/alessandrocontu/anaconda3/envs/finance/lib/python3.8/site-packages/IPython/core/ultratb.py\", line 1140, in structured_traceback\n",
      "    formatted_exception = self.format_exception_as_a_whole(etype, evalue, etb, number_of_lines_of_context,\n",
      "  File \"/Users/alessandrocontu/anaconda3/envs/finance/lib/python3.8/site-packages/IPython/core/ultratb.py\", line 1055, in format_exception_as_a_whole\n",
      "    frames.append(self.format_record(record))\n",
      "  File \"/Users/alessandrocontu/anaconda3/envs/finance/lib/python3.8/site-packages/IPython/core/ultratb.py\", line 955, in format_record\n",
      "    frame_info.lines, Colors, self.has_colors, lvals\n",
      "  File \"/Users/alessandrocontu/anaconda3/envs/finance/lib/python3.8/site-packages/IPython/core/ultratb.py\", line 778, in lines\n",
      "    return self._sd.lines\n",
      "  File \"/Users/alessandrocontu/anaconda3/envs/finance/lib/python3.8/site-packages/stack_data/utils.py\", line 144, in cached_property_wrapper\n",
      "    value = obj.__dict__[self.func.__name__] = self.func(obj)\n",
      "  File \"/Users/alessandrocontu/anaconda3/envs/finance/lib/python3.8/site-packages/stack_data/core.py\", line 734, in lines\n",
      "    pieces = self.included_pieces\n",
      "  File \"/Users/alessandrocontu/anaconda3/envs/finance/lib/python3.8/site-packages/stack_data/utils.py\", line 144, in cached_property_wrapper\n",
      "    value = obj.__dict__[self.func.__name__] = self.func(obj)\n",
      "  File \"/Users/alessandrocontu/anaconda3/envs/finance/lib/python3.8/site-packages/stack_data/core.py\", line 681, in included_pieces\n",
      "    pos = scope_pieces.index(self.executing_piece)\n",
      "  File \"/Users/alessandrocontu/anaconda3/envs/finance/lib/python3.8/site-packages/stack_data/utils.py\", line 144, in cached_property_wrapper\n",
      "    value = obj.__dict__[self.func.__name__] = self.func(obj)\n",
      "  File \"/Users/alessandrocontu/anaconda3/envs/finance/lib/python3.8/site-packages/stack_data/core.py\", line 660, in executing_piece\n",
      "    return only(\n",
      "  File \"/Users/alessandrocontu/anaconda3/envs/finance/lib/python3.8/site-packages/executing/executing.py\", line 190, in only\n",
      "    raise NotOneValueFound('Expected one value, found 0')\n",
      "executing.executing.NotOneValueFound: Expected one value, found 0\n"
     ]
    }
   ],
   "source": [
    "ticker = 'GOOG'\n",
    "date_sentiment=data_df[data_df['ticker'].isin([ticker])]\n",
    "date_sentiment=date_sentiment[['date','sentiment_lex']]\n",
    "date_sentiment['date']=pd.to_datetime(date_sentiment['date'], format='%Y-%m-%d').dt.date\n",
    "date_sentiment=date_sentiment.set_index('date')['sentiment_lex']\n",
    "date_sentiment=date_sentiment.to_dict()\n",
    "start = datetime(2012,1,1)\n",
    "end = datetime(2019,12,12)\n",
    "run_strategy(ticker, start=start, end=end)"
   ]
  },
  {
   "cell_type": "markdown",
   "metadata": {},
   "source": [
    "The results show an overall profit of 49719.00. The chart is divided into three panels. \n",
    "\n",
    "* Top Panel : Top panel is the cash value observer which as the name implies keeps track of the Cash and total portolio Value (including cash) during the life of the backtesting run. As we can see that we started with 100000.00 and final value at the end is 149719.00 as shown in this panel.\n",
    "\n",
    "* Second Panel : This panel is Trade Observer which shows, at the end of a trade, the actual Profit and Loss. A trade is defined as opening a position and taking the position back to 0 (directly or crossing over from long to short or short to long). Five out of eight actions of buy and sell are profitable for the strategy. \n",
    "\n",
    "* Third Panel : This panel is Buy Sell observer which plots (on top of the prices) where buy and sell operations have taken place. In general we see that (specially around 2018) the buy action takes place when the stock price is increasing and the sell action takes place when the stock price has started declining.   \n",
    "\n",
    "* Bottom Panel : This panel shows the sentiment score. "
   ]
  },
  {
   "cell_type": "markdown",
   "metadata": {},
   "source": [
    "Now we choose one of the days on which buy was triggered and we look at the news on that data and previous day."
   ]
  },
  {
   "cell_type": "code",
   "execution_count": 145,
   "metadata": {
    "scrolled": true
   },
   "outputs": [],
   "source": [
    "#!pip install git+https://github.com/mementum/backtrader.git@0fa63ef4a35dc53cc7320813f8b15480c8f85517\n",
    "#!pip install matplotlib==3.1.1"
   ]
  },
  {
   "cell_type": "code",
   "execution_count": 146,
   "metadata": {},
   "outputs": [
    {
     "name": "stdout",
     "output_type": "stream",
     "text": [
      "Current News: [\"Axiom Securities has upgraded Google (GOOG +13.4%, GOOGL +14.8%) to Buy following the company's Q2 beat and investor-pleasing comments about spending discipline, potential capital returns, and YouTube/mobile growth. MKM has launched coverage at Buy, and plenty of other firms have hiked their targets. Google's market cap is now above $450B.\"] \n",
      "\n",
      " Previous News: [\"While Google's (GOOG, GOOGL) Q2 revenue slightly missed estimates when factoring traffic acquisitions costs (TAC), its ex-TAC revenue of $14.35B was slightly above a $14.3B consensus. The reason: TAC fell to 21% of ad revenue from Q1's 22% and Q2 2014's 23%. That also, of course, helped EPS beat estimates.\", 'Google (NASDAQ:GOOG): Q2 EPS of $6.99 beats by $0.28.']\n"
     ]
    }
   ],
   "source": [
    "GOOG_ticker= data_df[data_df['ticker'].isin([ticker])]\n",
    "New= list(GOOG_ticker[GOOG_ticker['date'] ==  '2015-07-17']['headline'])\n",
    "Old= list(GOOG_ticker[GOOG_ticker['date'] ==  '2015-07-16']['headline'])\n",
    "print(\"Current News:\",New,\"\\n\\n\",\"Previous News:\", Old)"
   ]
  },
  {
   "cell_type": "markdown",
   "metadata": {},
   "source": [
    "Clearly the News on the current day has positive sentiment as compared to the news at the previous day causing the buy to be triggered. Now, we run the strategy for Facebook."
   ]
  },
  {
   "cell_type": "code",
   "execution_count": 149,
   "metadata": {},
   "outputs": [
    {
     "name": "stdout",
     "output_type": "stream",
     "text": [
      "AAPL\n",
      "Starting Portfolio Value: 100000.00\n",
      "2013-12-13, Previous Sentiment -0.38, New Sentiment 0.86 BUY CREATE, 17.34\n",
      "2013-12-16, BUY EXECUTED, Price: 17.36, Cost: 1735.58, Comm 0.00\n",
      "2014-09-25, Previous Sentiment 0.78, New Sentiment 0.04 SELL CREATE, 21.78\n",
      "2014-09-26, SELL EXECUTED, Price: 21.93, Cost: 1735.58, Comm 0.00\n",
      "2014-09-26, OPERATION PROFIT, GROSS 457.06, NET 457.06\n",
      "2014-10-21, Previous Sentiment 0.14, New Sentiment 0.68 BUY CREATE, 22.80\n",
      "2014-10-22, BUY EXECUTED, Price: 22.89, Cost: 2288.55, Comm 0.00\n",
      "2015-06-11, Previous Sentiment 0.48, New Sentiment -0.42 SELL CREATE, 28.97\n",
      "2015-06-12, SELL EXECUTED, Price: 28.88, Cost: 2288.55, Comm 0.00\n",
      "2015-06-12, OPERATION PROFIT, GROSS 599.82, NET 599.82\n",
      "2015-09-14, Previous Sentiment 0.35, New Sentiment 0.95 BUY CREATE, 26.10\n",
      "2015-09-15, BUY EXECUTED, Price: 26.24, Cost: 2623.95, Comm 0.00\n",
      "2015-12-14, Previous Sentiment 0.24, New Sentiment -0.62 SELL CREATE, 25.57\n",
      "2015-12-15, SELL EXECUTED, Price: 25.44, Cost: 2623.95, Comm 0.00\n",
      "2015-12-15, OPERATION PROFIT, GROSS -79.46, NET -79.46\n",
      "2016-03-15, Previous Sentiment 0.09, New Sentiment 0.66 BUY CREATE, 23.90\n",
      "2016-03-16, BUY EXECUTED, Price: 23.91, Cost: 2390.77, Comm 0.00\n",
      "2016-07-26, Previous Sentiment 0.93, New Sentiment 0.14 SELL CREATE, 22.23\n",
      "2016-07-27, SELL EXECUTED, Price: 23.98, Cost: 2390.77, Comm 0.00\n",
      "2016-07-27, OPERATION PROFIT, GROSS 6.74, NET 6.74\n",
      "2016-12-13, Previous Sentiment 0.15, New Sentiment 0.74 BUY CREATE, 26.77\n",
      "2016-12-14, BUY EXECUTED, Price: 26.73, Cost: 2673.13, Comm 0.00\n",
      "2017-09-22, Previous Sentiment 0.58, New Sentiment 0.08 SELL CREATE, 35.73\n",
      "2017-09-25, SELL EXECUTED, Price: 35.29, Cost: 2673.13, Comm 0.00\n",
      "2017-09-25, OPERATION PROFIT, GROSS 855.48, NET 855.48\n",
      "2017-11-06, Previous Sentiment 0.14, New Sentiment 0.64 BUY CREATE, 40.99\n",
      "2017-11-07, BUY EXECUTED, Price: 40.91, Cost: 4091.35, Comm 0.00\n",
      "2017-12-08, Previous Sentiment 0.57, New Sentiment -0.02 SELL CREATE, 39.99\n",
      "2017-12-11, SELL EXECUTED, Price: 39.95, Cost: 4091.35, Comm 0.00\n",
      "2017-12-11, OPERATION PROFIT, GROSS -96.50, NET -96.50\n",
      "2017-12-13, Previous Sentiment -0.02, New Sentiment 0.71 BUY CREATE, 40.67\n",
      "2017-12-14, BUY EXECUTED, Price: 40.70, Cost: 4070.40, Comm 0.00\n",
      "2018-02-01, Previous Sentiment 0.66, New Sentiment 0.06 SELL CREATE, 39.61\n",
      "2018-02-02, SELL EXECUTED, Price: 39.19, Cost: 4070.40, Comm 0.00\n",
      "2018-02-02, OPERATION PROFIT, GROSS -151.11, NET -151.11\n",
      "2018-03-01, Previous Sentiment -0.07, New Sentiment 0.85 BUY CREATE, 41.49\n",
      "2018-03-02, BUY EXECUTED, Price: 40.96, Cost: 4096.48, Comm 0.00\n",
      "2018-03-28, Previous Sentiment 0.60, New Sentiment 0.09 SELL CREATE, 39.47\n",
      "2018-03-29, SELL EXECUTED, Price: 39.78, Cost: 4096.48, Comm 0.00\n",
      "2018-03-29, OPERATION PROFIT, GROSS -118.30, NET -118.30\n",
      "2018-04-11, Previous Sentiment -0.23, New Sentiment 0.66 BUY CREATE, 40.88\n",
      "2018-04-12, BUY EXECUTED, Price: 41.11, Cost: 4110.94, Comm 0.00\n",
      "2018-04-24, Previous Sentiment 0.89, New Sentiment -0.23 SELL CREATE, 38.63\n",
      "2018-04-25, SELL EXECUTED, Price: 38.55, Cost: 4110.94, Comm 0.00\n",
      "2018-04-25, OPERATION PROFIT, GROSS -255.79, NET -255.79\n",
      "2018-10-01, Previous Sentiment -0.35, New Sentiment 0.75 BUY CREATE, 54.27\n",
      "2018-10-02, BUY EXECUTED, Price: 54.27, Cost: 5427.04, Comm 0.00\n",
      "2018-10-10, Previous Sentiment 0.52, New Sentiment -0.11 SELL CREATE, 51.67\n",
      "2018-10-11, SELL EXECUTED, Price: 51.23, Cost: 5427.04, Comm 0.00\n",
      "2018-10-11, OPERATION PROFIT, GROSS -304.01, NET -304.01\n",
      "2018-12-11, (MA Period 15) Ending Value 100913.93\n",
      "Unexpected exception formatting exception. Falling back to standard exception\n"
     ]
    },
    {
     "name": "stderr",
     "output_type": "stream",
     "text": [
      "Traceback (most recent call last):\n",
      "  File \"/Users/alessandrocontu/anaconda3/envs/finance/lib/python3.8/site-packages/IPython/core/interactiveshell.py\", line 3508, in run_code\n",
      "    exec(code_obj, self.user_global_ns, self.user_ns)\n",
      "  File \"<ipython-input-149-4cdf35f9db60>\", line 7, in <module>\n",
      "    run_strategy(ticker, start = start, end = end)\n",
      "  File \"<ipython-input-143-af34596c294d>\", line 18, in run_strategy\n",
      "    cerebro.plot(volume=False, iplot=True, plotname= ticker)\n",
      "  File \"/Users/alessandrocontu/anaconda3/envs/finance/lib/python3.8/site-packages/backtrader/cerebro.py\", line 989, in plot\n",
      "    rfig = plotter.plot(strat, figid=si * 100,\n",
      "  File \"/Users/alessandrocontu/anaconda3/envs/finance/lib/python3.8/site-packages/backtrader/plot/plot.py\", line 167, in plot\n",
      "    fig = self.pinf.newfig(figid, numfig, self.mpyplot)\n",
      "  File \"/Users/alessandrocontu/anaconda3/envs/finance/lib/python3.8/site-packages/backtrader/plot/plot.py\", line 72, in newfig\n",
      "    fig = mpyplot.figure(figid + numfig)\n",
      "  File \"/Users/alessandrocontu/anaconda3/envs/finance/lib/python3.8/site-packages/matplotlib/_api/deprecation.py\", line 454, in wrapper\n",
      "  File \"/Users/alessandrocontu/anaconda3/envs/finance/lib/python3.8/site-packages/matplotlib/pyplot.py\", line 840, in figure\n",
      "    axes : `~.axes.Axes` (or a subclass of `~.axes.Axes`)\n",
      "  File \"/Users/alessandrocontu/anaconda3/envs/finance/lib/python3.8/site-packages/matplotlib/pyplot.py\", line 384, in new_figure_manager\n",
      "    Notes\n",
      "  File \"/Users/alessandrocontu/anaconda3/envs/finance/lib/python3.8/site-packages/matplotlib/backend_bases.py\", line 3574, in new_figure_manager\n",
      "  File \"/Users/alessandrocontu/anaconda3/envs/finance/lib/python3.8/site-packages/matplotlib/backends/backend_nbagg.py\", line 232, in new_figure_manager_given_figure\n",
      "    manager = FigureManagerNbAgg(canvas, num)\n",
      "  File \"/Users/alessandrocontu/anaconda3/envs/finance/lib/python3.8/site-packages/matplotlib/backends/backend_nbagg.py\", line 79, in __init__\n",
      "    FigureManagerWebAgg.__init__(self, canvas, num)\n",
      "  File \"/Users/alessandrocontu/anaconda3/envs/finance/lib/python3.8/site-packages/matplotlib/backends/backend_webagg_core.py\", line 402, in __init__\n",
      "    backend_bases.FigureManagerBase.__init__(self, canvas, num)\n",
      "  File \"/Users/alessandrocontu/anaconda3/envs/finance/lib/python3.8/site-packages/matplotlib/backend_bases.py\", line 2817, in __init__\n",
      "    else:\n",
      "  File \"/Users/alessandrocontu/anaconda3/envs/finance/lib/python3.8/site-packages/matplotlib/backends/backend_webagg_core.py\", line 421, in set_window_title\n",
      "    self._send_event('figure_label', label=title)\n",
      "  File \"/Users/alessandrocontu/anaconda3/envs/finance/lib/python3.8/site-packages/matplotlib/backends/backend_webagg_core.py\", line 488, in _send_event\n",
      "    for s in self.web_sockets:\n",
      "AttributeError: 'FigureManagerNbAgg' object has no attribute 'web_sockets'\n",
      "\n",
      "During handling of the above exception, another exception occurred:\n",
      "\n",
      "Traceback (most recent call last):\n",
      "  File \"/Users/alessandrocontu/anaconda3/envs/finance/lib/python3.8/site-packages/IPython/core/interactiveshell.py\", line 2105, in showtraceback\n",
      "    stb = self.InteractiveTB.structured_traceback(\n",
      "  File \"/Users/alessandrocontu/anaconda3/envs/finance/lib/python3.8/site-packages/IPython/core/ultratb.py\", line 1396, in structured_traceback\n",
      "    return FormattedTB.structured_traceback(\n",
      "  File \"/Users/alessandrocontu/anaconda3/envs/finance/lib/python3.8/site-packages/IPython/core/ultratb.py\", line 1287, in structured_traceback\n",
      "    return VerboseTB.structured_traceback(\n",
      "  File \"/Users/alessandrocontu/anaconda3/envs/finance/lib/python3.8/site-packages/IPython/core/ultratb.py\", line 1140, in structured_traceback\n",
      "    formatted_exception = self.format_exception_as_a_whole(etype, evalue, etb, number_of_lines_of_context,\n",
      "  File \"/Users/alessandrocontu/anaconda3/envs/finance/lib/python3.8/site-packages/IPython/core/ultratb.py\", line 1055, in format_exception_as_a_whole\n",
      "    frames.append(self.format_record(record))\n",
      "  File \"/Users/alessandrocontu/anaconda3/envs/finance/lib/python3.8/site-packages/IPython/core/ultratb.py\", line 955, in format_record\n",
      "    frame_info.lines, Colors, self.has_colors, lvals\n",
      "  File \"/Users/alessandrocontu/anaconda3/envs/finance/lib/python3.8/site-packages/IPython/core/ultratb.py\", line 778, in lines\n",
      "    return self._sd.lines\n",
      "  File \"/Users/alessandrocontu/anaconda3/envs/finance/lib/python3.8/site-packages/stack_data/utils.py\", line 144, in cached_property_wrapper\n",
      "    value = obj.__dict__[self.func.__name__] = self.func(obj)\n",
      "  File \"/Users/alessandrocontu/anaconda3/envs/finance/lib/python3.8/site-packages/stack_data/core.py\", line 734, in lines\n",
      "    pieces = self.included_pieces\n",
      "  File \"/Users/alessandrocontu/anaconda3/envs/finance/lib/python3.8/site-packages/stack_data/utils.py\", line 144, in cached_property_wrapper\n",
      "    value = obj.__dict__[self.func.__name__] = self.func(obj)\n",
      "  File \"/Users/alessandrocontu/anaconda3/envs/finance/lib/python3.8/site-packages/stack_data/core.py\", line 681, in included_pieces\n",
      "    pos = scope_pieces.index(self.executing_piece)\n",
      "  File \"/Users/alessandrocontu/anaconda3/envs/finance/lib/python3.8/site-packages/stack_data/utils.py\", line 144, in cached_property_wrapper\n",
      "    value = obj.__dict__[self.func.__name__] = self.func(obj)\n",
      "  File \"/Users/alessandrocontu/anaconda3/envs/finance/lib/python3.8/site-packages/stack_data/core.py\", line 660, in executing_piece\n",
      "    return only(\n",
      "  File \"/Users/alessandrocontu/anaconda3/envs/finance/lib/python3.8/site-packages/executing/executing.py\", line 190, in only\n",
      "    raise NotOneValueFound('Expected one value, found 0')\n",
      "executing.executing.NotOneValueFound: Expected one value, found 0\n"
     ]
    }
   ],
   "source": [
    "ticker = 'AAPL'\n",
    "date_sentiment=data_df[data_df['ticker'].isin([ticker])]\n",
    "date_sentiment=date_sentiment[['date','sentiment_lex']]\n",
    "date_sentiment['date']=pd.to_datetime(date_sentiment['date'], format='%Y-%m-%d').dt.date\n",
    "date_sentiment=date_sentiment.set_index('date')['sentiment_lex']\n",
    "date_sentiment=date_sentiment.to_dict()\n",
    "run_strategy(ticker, start = start, end = end)"
   ]
  },
  {
   "cell_type": "markdown",
   "metadata": {},
   "source": [
    "Top Panel : The CashValue shows overall profit of 8041.00.\n",
    "\n",
    "Second Panel : A Trade Observer shows that six out of 7 actions are profitable. \n",
    "\n",
    "Third Panel : A BuySell observer shows that in general the buy action takes place when the stock price is increasing and the sell action takes place when the stock price has started declining.   \n",
    "\n",
    "Forth Panel : It shows high number of positive sentiment for the FB around 2013 and 2014 period."
   ]
  },
  {
   "cell_type": "markdown",
   "metadata": {},
   "source": [
    "<a id='5.3'></a>\n",
    "## 5.3. Results for Multiple Stocks"
   ]
  },
  {
   "cell_type": "code",
   "execution_count": 150,
   "metadata": {},
   "outputs": [
    {
     "name": "stdout",
     "output_type": "stream",
     "text": [
      "AAPL\n",
      "Starting Portfolio Value: 100000.00\n",
      "2013-12-13, Previous Sentiment -0.38, New Sentiment 0.86 BUY CREATE, 17.34\n",
      "2013-12-16, BUY EXECUTED, Price: 17.36, Cost: 1735.58, Comm 0.00\n",
      "2014-09-25, Previous Sentiment 0.78, New Sentiment 0.04 SELL CREATE, 21.78\n",
      "2014-09-26, SELL EXECUTED, Price: 21.93, Cost: 1735.58, Comm 0.00\n",
      "2014-09-26, OPERATION PROFIT, GROSS 457.06, NET 457.06\n",
      "2014-10-21, Previous Sentiment 0.14, New Sentiment 0.68 BUY CREATE, 22.80\n",
      "2014-10-22, BUY EXECUTED, Price: 22.89, Cost: 2288.55, Comm 0.00\n",
      "2015-06-11, Previous Sentiment 0.48, New Sentiment -0.42 SELL CREATE, 28.97\n",
      "2015-06-12, SELL EXECUTED, Price: 28.88, Cost: 2288.55, Comm 0.00\n",
      "2015-06-12, OPERATION PROFIT, GROSS 599.82, NET 599.82\n",
      "2015-09-14, Previous Sentiment 0.35, New Sentiment 0.95 BUY CREATE, 26.10\n",
      "2015-09-15, BUY EXECUTED, Price: 26.24, Cost: 2623.95, Comm 0.00\n",
      "2015-12-14, Previous Sentiment 0.24, New Sentiment -0.62 SELL CREATE, 25.57\n",
      "2015-12-15, SELL EXECUTED, Price: 25.44, Cost: 2623.95, Comm 0.00\n",
      "2015-12-15, OPERATION PROFIT, GROSS -79.46, NET -79.46\n",
      "2016-03-15, Previous Sentiment 0.09, New Sentiment 0.66 BUY CREATE, 23.90\n",
      "2016-03-16, BUY EXECUTED, Price: 23.91, Cost: 2390.77, Comm 0.00\n",
      "2016-07-26, Previous Sentiment 0.93, New Sentiment 0.14 SELL CREATE, 22.23\n",
      "2016-07-27, SELL EXECUTED, Price: 23.98, Cost: 2390.77, Comm 0.00\n",
      "2016-07-27, OPERATION PROFIT, GROSS 6.74, NET 6.74\n",
      "2016-12-13, Previous Sentiment 0.15, New Sentiment 0.74 BUY CREATE, 26.77\n",
      "2016-12-14, BUY EXECUTED, Price: 26.73, Cost: 2673.13, Comm 0.00\n",
      "2017-09-22, Previous Sentiment 0.58, New Sentiment 0.08 SELL CREATE, 35.73\n",
      "2017-09-25, SELL EXECUTED, Price: 35.29, Cost: 2673.13, Comm 0.00\n",
      "2017-09-25, OPERATION PROFIT, GROSS 855.48, NET 855.48\n",
      "2017-11-06, Previous Sentiment 0.14, New Sentiment 0.64 BUY CREATE, 40.99\n",
      "2017-11-07, BUY EXECUTED, Price: 40.91, Cost: 4091.35, Comm 0.00\n",
      "2017-12-08, Previous Sentiment 0.57, New Sentiment -0.02 SELL CREATE, 39.99\n",
      "2017-12-11, SELL EXECUTED, Price: 39.95, Cost: 4091.35, Comm 0.00\n",
      "2017-12-11, OPERATION PROFIT, GROSS -96.50, NET -96.50\n",
      "2017-12-13, Previous Sentiment -0.02, New Sentiment 0.71 BUY CREATE, 40.67\n",
      "2017-12-14, BUY EXECUTED, Price: 40.70, Cost: 4070.40, Comm 0.00\n",
      "2018-02-01, Previous Sentiment 0.66, New Sentiment 0.06 SELL CREATE, 39.61\n",
      "2018-02-02, SELL EXECUTED, Price: 39.19, Cost: 4070.40, Comm 0.00\n",
      "2018-02-02, OPERATION PROFIT, GROSS -151.11, NET -151.11\n",
      "2018-03-01, Previous Sentiment -0.07, New Sentiment 0.85 BUY CREATE, 41.49\n",
      "2018-03-02, BUY EXECUTED, Price: 40.96, Cost: 4096.48, Comm 0.00\n",
      "2018-03-28, Previous Sentiment 0.60, New Sentiment 0.09 SELL CREATE, 39.47\n",
      "2018-03-29, SELL EXECUTED, Price: 39.78, Cost: 4096.48, Comm 0.00\n",
      "2018-03-29, OPERATION PROFIT, GROSS -118.30, NET -118.30\n",
      "2018-04-11, Previous Sentiment -0.23, New Sentiment 0.66 BUY CREATE, 40.88\n",
      "2018-04-12, BUY EXECUTED, Price: 41.11, Cost: 4110.94, Comm 0.00\n",
      "2018-04-24, Previous Sentiment 0.89, New Sentiment -0.23 SELL CREATE, 38.63\n",
      "2018-04-25, SELL EXECUTED, Price: 38.55, Cost: 4110.94, Comm 0.00\n",
      "2018-04-25, OPERATION PROFIT, GROSS -255.79, NET -255.79\n",
      "2018-10-01, Previous Sentiment -0.35, New Sentiment 0.75 BUY CREATE, 54.27\n",
      "2018-10-02, BUY EXECUTED, Price: 54.27, Cost: 5427.04, Comm 0.00\n",
      "2018-10-10, Previous Sentiment 0.52, New Sentiment -0.11 SELL CREATE, 51.67\n",
      "2018-10-11, SELL EXECUTED, Price: 51.23, Cost: 5427.04, Comm 0.00\n",
      "2018-10-11, OPERATION PROFIT, GROSS -304.01, NET -304.01\n",
      "2018-12-11, (MA Period 15) Ending Value 100913.93\n",
      "Unexpected exception formatting exception. Falling back to standard exception\n"
     ]
    },
    {
     "name": "stderr",
     "output_type": "stream",
     "text": [
      "Traceback (most recent call last):\n",
      "  File \"/Users/alessandrocontu/anaconda3/envs/finance/lib/python3.8/site-packages/IPython/core/interactiveshell.py\", line 3508, in run_code\n",
      "    exec(code_obj, self.user_global_ns, self.user_ns)\n",
      "  File \"<ipython-input-150-70058a41b498>\", line 8, in <module>\n",
      "    results_tickers[ticker] = run_strategy(ticker, start = '2012-01-01', end = '2018-12-12')\n",
      "  File \"<ipython-input-143-af34596c294d>\", line 18, in run_strategy\n",
      "    cerebro.plot(volume=False, iplot=True, plotname= ticker)\n",
      "  File \"/Users/alessandrocontu/anaconda3/envs/finance/lib/python3.8/site-packages/backtrader/cerebro.py\", line 989, in plot\n",
      "    rfig = plotter.plot(strat, figid=si * 100,\n",
      "  File \"/Users/alessandrocontu/anaconda3/envs/finance/lib/python3.8/site-packages/backtrader/plot/plot.py\", line 167, in plot\n",
      "    fig = self.pinf.newfig(figid, numfig, self.mpyplot)\n",
      "  File \"/Users/alessandrocontu/anaconda3/envs/finance/lib/python3.8/site-packages/backtrader/plot/plot.py\", line 72, in newfig\n",
      "    fig = mpyplot.figure(figid + numfig)\n",
      "  File \"/Users/alessandrocontu/anaconda3/envs/finance/lib/python3.8/site-packages/matplotlib/_api/deprecation.py\", line 454, in wrapper\n",
      "  File \"/Users/alessandrocontu/anaconda3/envs/finance/lib/python3.8/site-packages/matplotlib/pyplot.py\", line 840, in figure\n",
      "    axes : `~.axes.Axes` (or a subclass of `~.axes.Axes`)\n",
      "  File \"/Users/alessandrocontu/anaconda3/envs/finance/lib/python3.8/site-packages/matplotlib/pyplot.py\", line 384, in new_figure_manager\n",
      "    Notes\n",
      "  File \"/Users/alessandrocontu/anaconda3/envs/finance/lib/python3.8/site-packages/matplotlib/backend_bases.py\", line 3574, in new_figure_manager\n",
      "  File \"/Users/alessandrocontu/anaconda3/envs/finance/lib/python3.8/site-packages/matplotlib/backends/backend_nbagg.py\", line 232, in new_figure_manager_given_figure\n",
      "    manager = FigureManagerNbAgg(canvas, num)\n",
      "  File \"/Users/alessandrocontu/anaconda3/envs/finance/lib/python3.8/site-packages/matplotlib/backends/backend_nbagg.py\", line 79, in __init__\n",
      "    FigureManagerWebAgg.__init__(self, canvas, num)\n",
      "  File \"/Users/alessandrocontu/anaconda3/envs/finance/lib/python3.8/site-packages/matplotlib/backends/backend_webagg_core.py\", line 402, in __init__\n",
      "    backend_bases.FigureManagerBase.__init__(self, canvas, num)\n",
      "  File \"/Users/alessandrocontu/anaconda3/envs/finance/lib/python3.8/site-packages/matplotlib/backend_bases.py\", line 2817, in __init__\n",
      "    else:\n",
      "  File \"/Users/alessandrocontu/anaconda3/envs/finance/lib/python3.8/site-packages/matplotlib/backends/backend_webagg_core.py\", line 421, in set_window_title\n",
      "    self._send_event('figure_label', label=title)\n",
      "  File \"/Users/alessandrocontu/anaconda3/envs/finance/lib/python3.8/site-packages/matplotlib/backends/backend_webagg_core.py\", line 488, in _send_event\n",
      "    for s in self.web_sockets:\n",
      "AttributeError: 'FigureManagerNbAgg' object has no attribute 'web_sockets'\n",
      "\n",
      "During handling of the above exception, another exception occurred:\n",
      "\n",
      "Traceback (most recent call last):\n",
      "  File \"/Users/alessandrocontu/anaconda3/envs/finance/lib/python3.8/site-packages/IPython/core/interactiveshell.py\", line 2105, in showtraceback\n",
      "    stb = self.InteractiveTB.structured_traceback(\n",
      "  File \"/Users/alessandrocontu/anaconda3/envs/finance/lib/python3.8/site-packages/IPython/core/ultratb.py\", line 1396, in structured_traceback\n",
      "    return FormattedTB.structured_traceback(\n",
      "  File \"/Users/alessandrocontu/anaconda3/envs/finance/lib/python3.8/site-packages/IPython/core/ultratb.py\", line 1287, in structured_traceback\n",
      "    return VerboseTB.structured_traceback(\n",
      "  File \"/Users/alessandrocontu/anaconda3/envs/finance/lib/python3.8/site-packages/IPython/core/ultratb.py\", line 1140, in structured_traceback\n",
      "    formatted_exception = self.format_exception_as_a_whole(etype, evalue, etb, number_of_lines_of_context,\n",
      "  File \"/Users/alessandrocontu/anaconda3/envs/finance/lib/python3.8/site-packages/IPython/core/ultratb.py\", line 1055, in format_exception_as_a_whole\n",
      "    frames.append(self.format_record(record))\n",
      "  File \"/Users/alessandrocontu/anaconda3/envs/finance/lib/python3.8/site-packages/IPython/core/ultratb.py\", line 955, in format_record\n",
      "    frame_info.lines, Colors, self.has_colors, lvals\n",
      "  File \"/Users/alessandrocontu/anaconda3/envs/finance/lib/python3.8/site-packages/IPython/core/ultratb.py\", line 778, in lines\n",
      "    return self._sd.lines\n",
      "  File \"/Users/alessandrocontu/anaconda3/envs/finance/lib/python3.8/site-packages/stack_data/utils.py\", line 144, in cached_property_wrapper\n",
      "    value = obj.__dict__[self.func.__name__] = self.func(obj)\n",
      "  File \"/Users/alessandrocontu/anaconda3/envs/finance/lib/python3.8/site-packages/stack_data/core.py\", line 734, in lines\n",
      "    pieces = self.included_pieces\n",
      "  File \"/Users/alessandrocontu/anaconda3/envs/finance/lib/python3.8/site-packages/stack_data/utils.py\", line 144, in cached_property_wrapper\n",
      "    value = obj.__dict__[self.func.__name__] = self.func(obj)\n",
      "  File \"/Users/alessandrocontu/anaconda3/envs/finance/lib/python3.8/site-packages/stack_data/core.py\", line 681, in included_pieces\n",
      "    pos = scope_pieces.index(self.executing_piece)\n",
      "  File \"/Users/alessandrocontu/anaconda3/envs/finance/lib/python3.8/site-packages/stack_data/utils.py\", line 144, in cached_property_wrapper\n",
      "    value = obj.__dict__[self.func.__name__] = self.func(obj)\n",
      "  File \"/Users/alessandrocontu/anaconda3/envs/finance/lib/python3.8/site-packages/stack_data/core.py\", line 660, in executing_piece\n",
      "    return only(\n",
      "  File \"/Users/alessandrocontu/anaconda3/envs/finance/lib/python3.8/site-packages/executing/executing.py\", line 190, in only\n",
      "    raise NotOneValueFound('Expected one value, found 0')\n",
      "executing.executing.NotOneValueFound: Expected one value, found 0\n"
     ]
    }
   ],
   "source": [
    "results_tickers = {}\n",
    "for ticker in tickers:    \n",
    "    date_sentiment=data_df[data_df['ticker'].isin([ticker])]\n",
    "    date_sentiment=date_sentiment[['date','sentiment_lex']]\n",
    "    date_sentiment['date']=pd.to_datetime(date_sentiment['date'], format='%Y-%m-%d').dt.date\n",
    "    date_sentiment=date_sentiment.set_index('date')['sentiment_lex']\n",
    "    date_sentiment=date_sentiment.to_dict()\n",
    "    results_tickers[ticker] = run_strategy(ticker, start = '2012-01-01', end = '2018-12-12')"
   ]
  },
  {
   "cell_type": "code",
   "execution_count": 152,
   "metadata": {},
   "outputs": [],
   "source": [
    "#pd.DataFrame.from_dict(results_tickers).set_index([pd.Index([\"PerUnitStartPrice\", 'StrategyProfit'])])"
   ]
  },
  {
   "cell_type": "markdown",
   "metadata": {},
   "source": [
    "The strategy yield an overall profit be for all the stock. Now we run the strategy varying the time period."
   ]
  },
  {
   "cell_type": "markdown",
   "metadata": {},
   "source": [
    "<a id='5.4'></a>\n",
    "## 5.4. Varying the strategy time period"
   ]
  },
  {
   "cell_type": "markdown",
   "metadata": {},
   "source": [
    "In this step we run the strategy for differnt time periods and look at the results. We first run it for the time period between 2012 and 2014."
   ]
  },
  {
   "cell_type": "code",
   "execution_count": 153,
   "metadata": {},
   "outputs": [
    {
     "name": "stdout",
     "output_type": "stream",
     "text": [
      "AAPL\n",
      "Starting Portfolio Value: 100000.00\n",
      "2013-12-13, Previous Sentiment -0.38, New Sentiment 0.86 BUY CREATE, 17.34\n",
      "2013-12-16, BUY EXECUTED, Price: 17.36, Cost: 1735.58, Comm 0.00\n",
      "2014-09-25, Previous Sentiment 0.78, New Sentiment 0.04 SELL CREATE, 21.78\n",
      "2014-09-26, SELL EXECUTED, Price: 21.93, Cost: 1735.58, Comm 0.00\n",
      "2014-09-26, OPERATION PROFIT, GROSS 457.06, NET 457.06\n",
      "2014-10-21, Previous Sentiment 0.14, New Sentiment 0.68 BUY CREATE, 22.80\n",
      "2014-10-22, BUY EXECUTED, Price: 22.89, Cost: 2288.55, Comm 0.00\n",
      "2015-06-11, Previous Sentiment 0.48, New Sentiment -0.42 SELL CREATE, 28.97\n",
      "2015-06-12, SELL EXECUTED, Price: 28.88, Cost: 2288.55, Comm 0.00\n",
      "2015-06-12, OPERATION PROFIT, GROSS 599.82, NET 599.82\n",
      "2015-09-14, Previous Sentiment 0.35, New Sentiment 0.95 BUY CREATE, 26.10\n",
      "2015-09-15, BUY EXECUTED, Price: 26.24, Cost: 2623.95, Comm 0.00\n",
      "2015-12-14, Previous Sentiment 0.24, New Sentiment -0.62 SELL CREATE, 25.57\n",
      "2015-12-15, SELL EXECUTED, Price: 25.44, Cost: 2623.95, Comm 0.00\n",
      "2015-12-15, OPERATION PROFIT, GROSS -79.46, NET -79.46\n",
      "2016-03-15, Previous Sentiment 0.09, New Sentiment 0.66 BUY CREATE, 23.90\n",
      "2016-03-16, BUY EXECUTED, Price: 23.91, Cost: 2390.77, Comm 0.00\n",
      "2016-07-26, Previous Sentiment 0.93, New Sentiment 0.14 SELL CREATE, 22.23\n",
      "2016-07-27, SELL EXECUTED, Price: 23.98, Cost: 2390.77, Comm 0.00\n",
      "2016-07-27, OPERATION PROFIT, GROSS 6.74, NET 6.74\n",
      "2016-12-13, Previous Sentiment 0.15, New Sentiment 0.74 BUY CREATE, 26.77\n",
      "2016-12-14, BUY EXECUTED, Price: 26.73, Cost: 2673.13, Comm 0.00\n",
      "2017-09-22, Previous Sentiment 0.58, New Sentiment 0.08 SELL CREATE, 35.73\n",
      "2017-09-25, SELL EXECUTED, Price: 35.29, Cost: 2673.13, Comm 0.00\n",
      "2017-09-25, OPERATION PROFIT, GROSS 855.48, NET 855.48\n",
      "2017-11-06, Previous Sentiment 0.14, New Sentiment 0.64 BUY CREATE, 40.99\n",
      "2017-11-07, BUY EXECUTED, Price: 40.91, Cost: 4091.35, Comm 0.00\n",
      "2017-12-08, Previous Sentiment 0.57, New Sentiment -0.02 SELL CREATE, 39.99\n",
      "2017-12-11, SELL EXECUTED, Price: 39.95, Cost: 4091.35, Comm 0.00\n",
      "2017-12-11, OPERATION PROFIT, GROSS -96.50, NET -96.50\n",
      "2017-12-13, Previous Sentiment -0.02, New Sentiment 0.71 BUY CREATE, 40.67\n",
      "2017-12-14, BUY EXECUTED, Price: 40.70, Cost: 4070.40, Comm 0.00\n",
      "2018-02-01, Previous Sentiment 0.66, New Sentiment 0.06 SELL CREATE, 39.61\n",
      "2018-02-02, SELL EXECUTED, Price: 39.19, Cost: 4070.40, Comm 0.00\n",
      "2018-02-02, OPERATION PROFIT, GROSS -151.11, NET -151.11\n",
      "2018-03-01, Previous Sentiment -0.07, New Sentiment 0.85 BUY CREATE, 41.49\n",
      "2018-03-02, BUY EXECUTED, Price: 40.96, Cost: 4096.48, Comm 0.00\n",
      "2018-03-28, Previous Sentiment 0.60, New Sentiment 0.09 SELL CREATE, 39.47\n",
      "2018-03-29, SELL EXECUTED, Price: 39.78, Cost: 4096.48, Comm 0.00\n",
      "2018-03-29, OPERATION PROFIT, GROSS -118.30, NET -118.30\n",
      "2018-04-11, Previous Sentiment -0.23, New Sentiment 0.66 BUY CREATE, 40.88\n",
      "2018-04-12, BUY EXECUTED, Price: 41.11, Cost: 4110.94, Comm 0.00\n",
      "2018-04-24, Previous Sentiment 0.89, New Sentiment -0.23 SELL CREATE, 38.63\n",
      "2018-04-25, SELL EXECUTED, Price: 38.55, Cost: 4110.94, Comm 0.00\n",
      "2018-04-25, OPERATION PROFIT, GROSS -255.79, NET -255.79\n",
      "2018-10-01, Previous Sentiment -0.35, New Sentiment 0.75 BUY CREATE, 54.27\n",
      "2018-10-02, BUY EXECUTED, Price: 54.27, Cost: 5427.04, Comm 0.00\n",
      "2018-10-10, Previous Sentiment 0.52, New Sentiment -0.11 SELL CREATE, 51.67\n",
      "2018-10-11, SELL EXECUTED, Price: 51.23, Cost: 5427.04, Comm 0.00\n",
      "2018-10-11, OPERATION PROFIT, GROSS -304.01, NET -304.01\n",
      "2018-12-11, (MA Period 15) Ending Value 100913.94\n",
      "Unexpected exception formatting exception. Falling back to standard exception\n"
     ]
    },
    {
     "name": "stderr",
     "output_type": "stream",
     "text": [
      "Traceback (most recent call last):\n",
      "  File \"/Users/alessandrocontu/anaconda3/envs/finance/lib/python3.8/site-packages/IPython/core/interactiveshell.py\", line 3508, in run_code\n",
      "    exec(code_obj, self.user_global_ns, self.user_ns)\n",
      "  File \"<ipython-input-153-f6094a0308fc>\", line 8, in <module>\n",
      "    results_tickers[ticker] = run_strategy(ticker, start = start, end = end)\n",
      "  File \"<ipython-input-143-af34596c294d>\", line 18, in run_strategy\n",
      "    cerebro.plot(volume=False, iplot=True, plotname= ticker)\n",
      "  File \"/Users/alessandrocontu/anaconda3/envs/finance/lib/python3.8/site-packages/backtrader/cerebro.py\", line 989, in plot\n",
      "    rfig = plotter.plot(strat, figid=si * 100,\n",
      "  File \"/Users/alessandrocontu/anaconda3/envs/finance/lib/python3.8/site-packages/backtrader/plot/plot.py\", line 167, in plot\n",
      "    fig = self.pinf.newfig(figid, numfig, self.mpyplot)\n",
      "  File \"/Users/alessandrocontu/anaconda3/envs/finance/lib/python3.8/site-packages/backtrader/plot/plot.py\", line 72, in newfig\n",
      "    fig = mpyplot.figure(figid + numfig)\n",
      "  File \"/Users/alessandrocontu/anaconda3/envs/finance/lib/python3.8/site-packages/matplotlib/_api/deprecation.py\", line 454, in wrapper\n",
      "  File \"/Users/alessandrocontu/anaconda3/envs/finance/lib/python3.8/site-packages/matplotlib/pyplot.py\", line 840, in figure\n",
      "    axes : `~.axes.Axes` (or a subclass of `~.axes.Axes`)\n",
      "  File \"/Users/alessandrocontu/anaconda3/envs/finance/lib/python3.8/site-packages/matplotlib/pyplot.py\", line 384, in new_figure_manager\n",
      "    Notes\n",
      "  File \"/Users/alessandrocontu/anaconda3/envs/finance/lib/python3.8/site-packages/matplotlib/backend_bases.py\", line 3574, in new_figure_manager\n",
      "  File \"/Users/alessandrocontu/anaconda3/envs/finance/lib/python3.8/site-packages/matplotlib/backends/backend_nbagg.py\", line 232, in new_figure_manager_given_figure\n",
      "    manager = FigureManagerNbAgg(canvas, num)\n",
      "  File \"/Users/alessandrocontu/anaconda3/envs/finance/lib/python3.8/site-packages/matplotlib/backends/backend_nbagg.py\", line 79, in __init__\n",
      "    FigureManagerWebAgg.__init__(self, canvas, num)\n",
      "  File \"/Users/alessandrocontu/anaconda3/envs/finance/lib/python3.8/site-packages/matplotlib/backends/backend_webagg_core.py\", line 402, in __init__\n",
      "    backend_bases.FigureManagerBase.__init__(self, canvas, num)\n",
      "  File \"/Users/alessandrocontu/anaconda3/envs/finance/lib/python3.8/site-packages/matplotlib/backend_bases.py\", line 2817, in __init__\n",
      "    else:\n",
      "  File \"/Users/alessandrocontu/anaconda3/envs/finance/lib/python3.8/site-packages/matplotlib/backends/backend_webagg_core.py\", line 421, in set_window_title\n",
      "    self._send_event('figure_label', label=title)\n",
      "  File \"/Users/alessandrocontu/anaconda3/envs/finance/lib/python3.8/site-packages/matplotlib/backends/backend_webagg_core.py\", line 488, in _send_event\n",
      "    for s in self.web_sockets:\n",
      "AttributeError: 'FigureManagerNbAgg' object has no attribute 'web_sockets'\n",
      "\n",
      "During handling of the above exception, another exception occurred:\n",
      "\n",
      "Traceback (most recent call last):\n",
      "  File \"/Users/alessandrocontu/anaconda3/envs/finance/lib/python3.8/site-packages/IPython/core/interactiveshell.py\", line 2105, in showtraceback\n",
      "    stb = self.InteractiveTB.structured_traceback(\n",
      "  File \"/Users/alessandrocontu/anaconda3/envs/finance/lib/python3.8/site-packages/IPython/core/ultratb.py\", line 1396, in structured_traceback\n",
      "    return FormattedTB.structured_traceback(\n",
      "  File \"/Users/alessandrocontu/anaconda3/envs/finance/lib/python3.8/site-packages/IPython/core/ultratb.py\", line 1287, in structured_traceback\n",
      "    return VerboseTB.structured_traceback(\n",
      "  File \"/Users/alessandrocontu/anaconda3/envs/finance/lib/python3.8/site-packages/IPython/core/ultratb.py\", line 1140, in structured_traceback\n",
      "    formatted_exception = self.format_exception_as_a_whole(etype, evalue, etb, number_of_lines_of_context,\n",
      "  File \"/Users/alessandrocontu/anaconda3/envs/finance/lib/python3.8/site-packages/IPython/core/ultratb.py\", line 1055, in format_exception_as_a_whole\n",
      "    frames.append(self.format_record(record))\n",
      "  File \"/Users/alessandrocontu/anaconda3/envs/finance/lib/python3.8/site-packages/IPython/core/ultratb.py\", line 955, in format_record\n",
      "    frame_info.lines, Colors, self.has_colors, lvals\n",
      "  File \"/Users/alessandrocontu/anaconda3/envs/finance/lib/python3.8/site-packages/IPython/core/ultratb.py\", line 778, in lines\n",
      "    return self._sd.lines\n",
      "  File \"/Users/alessandrocontu/anaconda3/envs/finance/lib/python3.8/site-packages/stack_data/utils.py\", line 144, in cached_property_wrapper\n",
      "    value = obj.__dict__[self.func.__name__] = self.func(obj)\n",
      "  File \"/Users/alessandrocontu/anaconda3/envs/finance/lib/python3.8/site-packages/stack_data/core.py\", line 734, in lines\n",
      "    pieces = self.included_pieces\n",
      "  File \"/Users/alessandrocontu/anaconda3/envs/finance/lib/python3.8/site-packages/stack_data/utils.py\", line 144, in cached_property_wrapper\n",
      "    value = obj.__dict__[self.func.__name__] = self.func(obj)\n",
      "  File \"/Users/alessandrocontu/anaconda3/envs/finance/lib/python3.8/site-packages/stack_data/core.py\", line 681, in included_pieces\n",
      "    pos = scope_pieces.index(self.executing_piece)\n",
      "  File \"/Users/alessandrocontu/anaconda3/envs/finance/lib/python3.8/site-packages/stack_data/utils.py\", line 144, in cached_property_wrapper\n",
      "    value = obj.__dict__[self.func.__name__] = self.func(obj)\n",
      "  File \"/Users/alessandrocontu/anaconda3/envs/finance/lib/python3.8/site-packages/stack_data/core.py\", line 660, in executing_piece\n",
      "    return only(\n",
      "  File \"/Users/alessandrocontu/anaconda3/envs/finance/lib/python3.8/site-packages/executing/executing.py\", line 190, in only\n",
      "    raise NotOneValueFound('Expected one value, found 0')\n",
      "executing.executing.NotOneValueFound: Expected one value, found 0\n"
     ]
    }
   ],
   "source": [
    "results_tickers = {}\n",
    "for ticker in tickers:  \n",
    "    date_sentiment=data_df[data_df['ticker'].isin([ticker])]\n",
    "    date_sentiment=date_sentiment[['date','sentiment_lex']]\n",
    "    date_sentiment['date']=pd.to_datetime(date_sentiment['date'], format='%Y-%m-%d').dt.date\n",
    "    date_sentiment=date_sentiment.set_index('date')['sentiment_lex']\n",
    "    date_sentiment=date_sentiment.to_dict()\n",
    "    results_tickers[ticker] = run_strategy(ticker, start = start, end = end)"
   ]
  },
  {
   "cell_type": "code",
   "execution_count": 155,
   "metadata": {},
   "outputs": [],
   "source": [
    "#pd.DataFrame.from_dict(results_tickers).set_index([pd.Index([\"StockPriceBeginning\", 'StrategyProfit'])])"
   ]
  },
  {
   "cell_type": "markdown",
   "metadata": {},
   "source": [
    "The strategy yield an overall profit for all the stocks except two. Now we run the strategy between 2016 and 2018. "
   ]
  },
  {
   "cell_type": "code",
   "execution_count": 69,
   "metadata": {},
   "outputs": [
    {
     "name": "stdout",
     "output_type": "stream",
     "text": [
      "AAPL\n",
      "Starting Portfolio Value: 100000.00\n",
      "2016-03-15, Previous Sentiment 0.09, New Sentiment 0.66 BUY CREATE, 97.76\n",
      "2016-03-16, BUY EXECUTED, Price: 97.79, Cost: 9779.00, Comm 0.00\n",
      "2016-07-26, Previous Sentiment 0.93, New Sentiment 0.14 SELL CREATE, 90.92\n",
      "2016-07-27, SELL EXECUTED, Price: 98.06, Cost: 9779.00, Comm 0.00\n",
      "2016-07-27, OPERATION PROFIT, GROSS 27.00, NET 27.00\n",
      "2016-12-13, Previous Sentiment 0.15, New Sentiment 0.74 BUY CREATE, 109.48\n",
      "2016-12-14, BUY EXECUTED, Price: 109.34, Cost: 10934.00, Comm 0.00\n",
      "2017-09-22, Previous Sentiment 0.58, New Sentiment 0.08 SELL CREATE, 146.16\n",
      "2017-09-25, SELL EXECUTED, Price: 144.33, Cost: 10934.00, Comm 0.00\n",
      "2017-09-25, OPERATION PROFIT, GROSS 3499.00, NET 3499.00\n",
      "2017-11-06, Previous Sentiment 0.14, New Sentiment 0.64 BUY CREATE, 167.67\n",
      "2017-11-07, BUY EXECUTED, Price: 167.35, Cost: 16735.00, Comm 0.00\n",
      "2017-12-08, Previous Sentiment 0.57, New Sentiment -0.02 SELL CREATE, 163.56\n",
      "2017-12-11, SELL EXECUTED, Price: 163.40, Cost: 16735.00, Comm 0.00\n",
      "2017-12-11, OPERATION PROFIT, GROSS -395.00, NET -395.00\n",
      "2017-12-13, Previous Sentiment -0.02, New Sentiment 0.71 BUY CREATE, 166.36\n",
      "2017-12-14, BUY EXECUTED, Price: 166.49, Cost: 16649.00, Comm 0.00\n",
      "2018-02-01, Previous Sentiment 0.66, New Sentiment 0.06 SELL CREATE, 162.03\n",
      "2018-02-02, SELL EXECUTED, Price: 160.31, Cost: 16649.00, Comm 0.00\n",
      "2018-02-02, OPERATION PROFIT, GROSS -618.00, NET -618.00\n",
      "2018-03-01, Previous Sentiment -0.07, New Sentiment 0.85 BUY CREATE, 169.69\n",
      "2018-03-02, BUY EXECUTED, Price: 167.56, Cost: 16756.00, Comm 0.00\n",
      "2018-03-28, Previous Sentiment 0.60, New Sentiment 0.09 SELL CREATE, 161.43\n",
      "2018-03-29, SELL EXECUTED, Price: 162.72, Cost: 16756.00, Comm 0.00\n",
      "2018-03-29, OPERATION PROFIT, GROSS -484.00, NET -484.00\n",
      "2018-04-11, Previous Sentiment -0.23, New Sentiment 0.66 BUY CREATE, 167.21\n",
      "2018-04-12, BUY EXECUTED, Price: 168.15, Cost: 16815.00, Comm 0.00\n",
      "2018-04-24, Previous Sentiment 0.89, New Sentiment -0.23 SELL CREATE, 157.99\n",
      "2018-04-25, SELL EXECUTED, Price: 157.68, Cost: 16815.00, Comm 0.00\n",
      "2018-04-25, OPERATION PROFIT, GROSS -1047.00, NET -1047.00\n",
      "2018-10-01, Previous Sentiment -0.35, New Sentiment 0.75 BUY CREATE, 221.99\n",
      "2018-10-02, BUY EXECUTED, Price: 221.98, Cost: 22198.00, Comm 0.00\n",
      "2018-10-10, Previous Sentiment 0.52, New Sentiment -0.11 SELL CREATE, 211.34\n",
      "2018-10-11, SELL EXECUTED, Price: 209.54, Cost: 22198.00, Comm 0.00\n",
      "2018-10-11, OPERATION PROFIT, GROSS -1244.00, NET -1244.00\n",
      "2018-12-28, (MA Period 15) Ending Value 99738.00\n"
     ]
    },
    {
     "data": {
      "application/javascript": [
       "/* Put everything inside the global mpl namespace */\n",
       "window.mpl = {};\n",
       "\n",
       "\n",
       "mpl.get_websocket_type = function() {\n",
       "    if (typeof(WebSocket) !== 'undefined') {\n",
       "        return WebSocket;\n",
       "    } else if (typeof(MozWebSocket) !== 'undefined') {\n",
       "        return MozWebSocket;\n",
       "    } else {\n",
       "        alert('Your browser does not have WebSocket support.' +\n",
       "              'Please try Chrome, Safari or Firefox ≥ 6. ' +\n",
       "              'Firefox 4 and 5 are also supported but you ' +\n",
       "              'have to enable WebSockets in about:config.');\n",
       "    };\n",
       "}\n",
       "\n",
       "mpl.figure = function(figure_id, websocket, ondownload, parent_element) {\n",
       "    this.id = figure_id;\n",
       "\n",
       "    this.ws = websocket;\n",
       "\n",
       "    this.supports_binary = (this.ws.binaryType != undefined);\n",
       "\n",
       "    if (!this.supports_binary) {\n",
       "        var warnings = document.getElementById(\"mpl-warnings\");\n",
       "        if (warnings) {\n",
       "            warnings.style.display = 'block';\n",
       "            warnings.textContent = (\n",
       "                \"This browser does not support binary websocket messages. \" +\n",
       "                    \"Performance may be slow.\");\n",
       "        }\n",
       "    }\n",
       "\n",
       "    this.imageObj = new Image();\n",
       "\n",
       "    this.context = undefined;\n",
       "    this.message = undefined;\n",
       "    this.canvas = undefined;\n",
       "    this.rubberband_canvas = undefined;\n",
       "    this.rubberband_context = undefined;\n",
       "    this.format_dropdown = undefined;\n",
       "\n",
       "    this.image_mode = 'full';\n",
       "\n",
       "    this.root = $('<div/>');\n",
       "    this._root_extra_style(this.root)\n",
       "    this.root.attr('style', 'display: inline-block');\n",
       "\n",
       "    $(parent_element).append(this.root);\n",
       "\n",
       "    this._init_header(this);\n",
       "    this._init_canvas(this);\n",
       "    this._init_toolbar(this);\n",
       "\n",
       "    var fig = this;\n",
       "\n",
       "    this.waiting = false;\n",
       "\n",
       "    this.ws.onopen =  function () {\n",
       "            fig.send_message(\"supports_binary\", {value: fig.supports_binary});\n",
       "            fig.send_message(\"send_image_mode\", {});\n",
       "            if (mpl.ratio != 1) {\n",
       "                fig.send_message(\"set_dpi_ratio\", {'dpi_ratio': mpl.ratio});\n",
       "            }\n",
       "            fig.send_message(\"refresh\", {});\n",
       "        }\n",
       "\n",
       "    this.imageObj.onload = function() {\n",
       "            if (fig.image_mode == 'full') {\n",
       "                // Full images could contain transparency (where diff images\n",
       "                // almost always do), so we need to clear the canvas so that\n",
       "                // there is no ghosting.\n",
       "                fig.context.clearRect(0, 0, fig.canvas.width, fig.canvas.height);\n",
       "            }\n",
       "            fig.context.drawImage(fig.imageObj, 0, 0);\n",
       "        };\n",
       "\n",
       "    this.imageObj.onunload = function() {\n",
       "        fig.ws.close();\n",
       "    }\n",
       "\n",
       "    this.ws.onmessage = this._make_on_message_function(this);\n",
       "\n",
       "    this.ondownload = ondownload;\n",
       "}\n",
       "\n",
       "mpl.figure.prototype._init_header = function() {\n",
       "    var titlebar = $(\n",
       "        '<div class=\"ui-dialog-titlebar ui-widget-header ui-corner-all ' +\n",
       "        'ui-helper-clearfix\"/>');\n",
       "    var titletext = $(\n",
       "        '<div class=\"ui-dialog-title\" style=\"width: 100%; ' +\n",
       "        'text-align: center; padding: 3px;\"/>');\n",
       "    titlebar.append(titletext)\n",
       "    this.root.append(titlebar);\n",
       "    this.header = titletext[0];\n",
       "}\n",
       "\n",
       "\n",
       "\n",
       "mpl.figure.prototype._canvas_extra_style = function(canvas_div) {\n",
       "\n",
       "}\n",
       "\n",
       "\n",
       "mpl.figure.prototype._root_extra_style = function(canvas_div) {\n",
       "\n",
       "}\n",
       "\n",
       "mpl.figure.prototype._init_canvas = function() {\n",
       "    var fig = this;\n",
       "\n",
       "    var canvas_div = $('<div/>');\n",
       "\n",
       "    canvas_div.attr('style', 'position: relative; clear: both; outline: 0');\n",
       "\n",
       "    function canvas_keyboard_event(event) {\n",
       "        return fig.key_event(event, event['data']);\n",
       "    }\n",
       "\n",
       "    canvas_div.keydown('key_press', canvas_keyboard_event);\n",
       "    canvas_div.keyup('key_release', canvas_keyboard_event);\n",
       "    this.canvas_div = canvas_div\n",
       "    this._canvas_extra_style(canvas_div)\n",
       "    this.root.append(canvas_div);\n",
       "\n",
       "    var canvas = $('<canvas/>');\n",
       "    canvas.addClass('mpl-canvas');\n",
       "    canvas.attr('style', \"left: 0; top: 0; z-index: 0; outline: 0\")\n",
       "\n",
       "    this.canvas = canvas[0];\n",
       "    this.context = canvas[0].getContext(\"2d\");\n",
       "\n",
       "    var backingStore = this.context.backingStorePixelRatio ||\n",
       "\tthis.context.webkitBackingStorePixelRatio ||\n",
       "\tthis.context.mozBackingStorePixelRatio ||\n",
       "\tthis.context.msBackingStorePixelRatio ||\n",
       "\tthis.context.oBackingStorePixelRatio ||\n",
       "\tthis.context.backingStorePixelRatio || 1;\n",
       "\n",
       "    mpl.ratio = (window.devicePixelRatio || 1) / backingStore;\n",
       "\n",
       "    var rubberband = $('<canvas/>');\n",
       "    rubberband.attr('style', \"position: absolute; left: 0; top: 0; z-index: 1;\")\n",
       "\n",
       "    var pass_mouse_events = true;\n",
       "\n",
       "    canvas_div.resizable({\n",
       "        start: function(event, ui) {\n",
       "            pass_mouse_events = false;\n",
       "        },\n",
       "        resize: function(event, ui) {\n",
       "            fig.request_resize(ui.size.width, ui.size.height);\n",
       "        },\n",
       "        stop: function(event, ui) {\n",
       "            pass_mouse_events = true;\n",
       "            fig.request_resize(ui.size.width, ui.size.height);\n",
       "        },\n",
       "    });\n",
       "\n",
       "    function mouse_event_fn(event) {\n",
       "        if (pass_mouse_events)\n",
       "            return fig.mouse_event(event, event['data']);\n",
       "    }\n",
       "\n",
       "    rubberband.mousedown('button_press', mouse_event_fn);\n",
       "    rubberband.mouseup('button_release', mouse_event_fn);\n",
       "    // Throttle sequential mouse events to 1 every 20ms.\n",
       "    rubberband.mousemove('motion_notify', mouse_event_fn);\n",
       "\n",
       "    rubberband.mouseenter('figure_enter', mouse_event_fn);\n",
       "    rubberband.mouseleave('figure_leave', mouse_event_fn);\n",
       "\n",
       "    canvas_div.on(\"wheel\", function (event) {\n",
       "        event = event.originalEvent;\n",
       "        event['data'] = 'scroll'\n",
       "        if (event.deltaY < 0) {\n",
       "            event.step = 1;\n",
       "        } else {\n",
       "            event.step = -1;\n",
       "        }\n",
       "        mouse_event_fn(event);\n",
       "    });\n",
       "\n",
       "    canvas_div.append(canvas);\n",
       "    canvas_div.append(rubberband);\n",
       "\n",
       "    this.rubberband = rubberband;\n",
       "    this.rubberband_canvas = rubberband[0];\n",
       "    this.rubberband_context = rubberband[0].getContext(\"2d\");\n",
       "    this.rubberband_context.strokeStyle = \"#000000\";\n",
       "\n",
       "    this._resize_canvas = function(width, height) {\n",
       "        // Keep the size of the canvas, canvas container, and rubber band\n",
       "        // canvas in synch.\n",
       "        canvas_div.css('width', width)\n",
       "        canvas_div.css('height', height)\n",
       "\n",
       "        canvas.attr('width', width * mpl.ratio);\n",
       "        canvas.attr('height', height * mpl.ratio);\n",
       "        canvas.attr('style', 'width: ' + width + 'px; height: ' + height + 'px;');\n",
       "\n",
       "        rubberband.attr('width', width);\n",
       "        rubberband.attr('height', height);\n",
       "    }\n",
       "\n",
       "    // Set the figure to an initial 600x600px, this will subsequently be updated\n",
       "    // upon first draw.\n",
       "    this._resize_canvas(600, 600);\n",
       "\n",
       "    // Disable right mouse context menu.\n",
       "    $(this.rubberband_canvas).bind(\"contextmenu\",function(e){\n",
       "        return false;\n",
       "    });\n",
       "\n",
       "    function set_focus () {\n",
       "        canvas.focus();\n",
       "        canvas_div.focus();\n",
       "    }\n",
       "\n",
       "    window.setTimeout(set_focus, 100);\n",
       "}\n",
       "\n",
       "mpl.figure.prototype._init_toolbar = function() {\n",
       "    var fig = this;\n",
       "\n",
       "    var nav_element = $('<div/>')\n",
       "    nav_element.attr('style', 'width: 100%');\n",
       "    this.root.append(nav_element);\n",
       "\n",
       "    // Define a callback function for later on.\n",
       "    function toolbar_event(event) {\n",
       "        return fig.toolbar_button_onclick(event['data']);\n",
       "    }\n",
       "    function toolbar_mouse_event(event) {\n",
       "        return fig.toolbar_button_onmouseover(event['data']);\n",
       "    }\n",
       "\n",
       "    for(var toolbar_ind in mpl.toolbar_items) {\n",
       "        var name = mpl.toolbar_items[toolbar_ind][0];\n",
       "        var tooltip = mpl.toolbar_items[toolbar_ind][1];\n",
       "        var image = mpl.toolbar_items[toolbar_ind][2];\n",
       "        var method_name = mpl.toolbar_items[toolbar_ind][3];\n",
       "\n",
       "        if (!name) {\n",
       "            // put a spacer in here.\n",
       "            continue;\n",
       "        }\n",
       "        var button = $('<button/>');\n",
       "        button.addClass('ui-button ui-widget ui-state-default ui-corner-all ' +\n",
       "                        'ui-button-icon-only');\n",
       "        button.attr('role', 'button');\n",
       "        button.attr('aria-disabled', 'false');\n",
       "        button.click(method_name, toolbar_event);\n",
       "        button.mouseover(tooltip, toolbar_mouse_event);\n",
       "\n",
       "        var icon_img = $('<span/>');\n",
       "        icon_img.addClass('ui-button-icon-primary ui-icon');\n",
       "        icon_img.addClass(image);\n",
       "        icon_img.addClass('ui-corner-all');\n",
       "\n",
       "        var tooltip_span = $('<span/>');\n",
       "        tooltip_span.addClass('ui-button-text');\n",
       "        tooltip_span.html(tooltip);\n",
       "\n",
       "        button.append(icon_img);\n",
       "        button.append(tooltip_span);\n",
       "\n",
       "        nav_element.append(button);\n",
       "    }\n",
       "\n",
       "    var fmt_picker_span = $('<span/>');\n",
       "\n",
       "    var fmt_picker = $('<select/>');\n",
       "    fmt_picker.addClass('mpl-toolbar-option ui-widget ui-widget-content');\n",
       "    fmt_picker_span.append(fmt_picker);\n",
       "    nav_element.append(fmt_picker_span);\n",
       "    this.format_dropdown = fmt_picker[0];\n",
       "\n",
       "    for (var ind in mpl.extensions) {\n",
       "        var fmt = mpl.extensions[ind];\n",
       "        var option = $(\n",
       "            '<option/>', {selected: fmt === mpl.default_extension}).html(fmt);\n",
       "        fmt_picker.append(option)\n",
       "    }\n",
       "\n",
       "    // Add hover states to the ui-buttons\n",
       "    $( \".ui-button\" ).hover(\n",
       "        function() { $(this).addClass(\"ui-state-hover\");},\n",
       "        function() { $(this).removeClass(\"ui-state-hover\");}\n",
       "    );\n",
       "\n",
       "    var status_bar = $('<span class=\"mpl-message\"/>');\n",
       "    nav_element.append(status_bar);\n",
       "    this.message = status_bar[0];\n",
       "}\n",
       "\n",
       "mpl.figure.prototype.request_resize = function(x_pixels, y_pixels) {\n",
       "    // Request matplotlib to resize the figure. Matplotlib will then trigger a resize in the client,\n",
       "    // which will in turn request a refresh of the image.\n",
       "    this.send_message('resize', {'width': x_pixels, 'height': y_pixels});\n",
       "}\n",
       "\n",
       "mpl.figure.prototype.send_message = function(type, properties) {\n",
       "    properties['type'] = type;\n",
       "    properties['figure_id'] = this.id;\n",
       "    this.ws.send(JSON.stringify(properties));\n",
       "}\n",
       "\n",
       "mpl.figure.prototype.send_draw_message = function() {\n",
       "    if (!this.waiting) {\n",
       "        this.waiting = true;\n",
       "        this.ws.send(JSON.stringify({type: \"draw\", figure_id: this.id}));\n",
       "    }\n",
       "}\n",
       "\n",
       "\n",
       "mpl.figure.prototype.handle_save = function(fig, msg) {\n",
       "    var format_dropdown = fig.format_dropdown;\n",
       "    var format = format_dropdown.options[format_dropdown.selectedIndex].value;\n",
       "    fig.ondownload(fig, format);\n",
       "}\n",
       "\n",
       "\n",
       "mpl.figure.prototype.handle_resize = function(fig, msg) {\n",
       "    var size = msg['size'];\n",
       "    if (size[0] != fig.canvas.width || size[1] != fig.canvas.height) {\n",
       "        fig._resize_canvas(size[0], size[1]);\n",
       "        fig.send_message(\"refresh\", {});\n",
       "    };\n",
       "}\n",
       "\n",
       "mpl.figure.prototype.handle_rubberband = function(fig, msg) {\n",
       "    var x0 = msg['x0'] / mpl.ratio;\n",
       "    var y0 = (fig.canvas.height - msg['y0']) / mpl.ratio;\n",
       "    var x1 = msg['x1'] / mpl.ratio;\n",
       "    var y1 = (fig.canvas.height - msg['y1']) / mpl.ratio;\n",
       "    x0 = Math.floor(x0) + 0.5;\n",
       "    y0 = Math.floor(y0) + 0.5;\n",
       "    x1 = Math.floor(x1) + 0.5;\n",
       "    y1 = Math.floor(y1) + 0.5;\n",
       "    var min_x = Math.min(x0, x1);\n",
       "    var min_y = Math.min(y0, y1);\n",
       "    var width = Math.abs(x1 - x0);\n",
       "    var height = Math.abs(y1 - y0);\n",
       "\n",
       "    fig.rubberband_context.clearRect(\n",
       "        0, 0, fig.canvas.width, fig.canvas.height);\n",
       "\n",
       "    fig.rubberband_context.strokeRect(min_x, min_y, width, height);\n",
       "}\n",
       "\n",
       "mpl.figure.prototype.handle_figure_label = function(fig, msg) {\n",
       "    // Updates the figure title.\n",
       "    fig.header.textContent = msg['label'];\n",
       "}\n",
       "\n",
       "mpl.figure.prototype.handle_cursor = function(fig, msg) {\n",
       "    var cursor = msg['cursor'];\n",
       "    switch(cursor)\n",
       "    {\n",
       "    case 0:\n",
       "        cursor = 'pointer';\n",
       "        break;\n",
       "    case 1:\n",
       "        cursor = 'default';\n",
       "        break;\n",
       "    case 2:\n",
       "        cursor = 'crosshair';\n",
       "        break;\n",
       "    case 3:\n",
       "        cursor = 'move';\n",
       "        break;\n",
       "    }\n",
       "    fig.rubberband_canvas.style.cursor = cursor;\n",
       "}\n",
       "\n",
       "mpl.figure.prototype.handle_message = function(fig, msg) {\n",
       "    fig.message.textContent = msg['message'];\n",
       "}\n",
       "\n",
       "mpl.figure.prototype.handle_draw = function(fig, msg) {\n",
       "    // Request the server to send over a new figure.\n",
       "    fig.send_draw_message();\n",
       "}\n",
       "\n",
       "mpl.figure.prototype.handle_image_mode = function(fig, msg) {\n",
       "    fig.image_mode = msg['mode'];\n",
       "}\n",
       "\n",
       "mpl.figure.prototype.updated_canvas_event = function() {\n",
       "    // Called whenever the canvas gets updated.\n",
       "    this.send_message(\"ack\", {});\n",
       "}\n",
       "\n",
       "// A function to construct a web socket function for onmessage handling.\n",
       "// Called in the figure constructor.\n",
       "mpl.figure.prototype._make_on_message_function = function(fig) {\n",
       "    return function socket_on_message(evt) {\n",
       "        if (evt.data instanceof Blob) {\n",
       "            /* FIXME: We get \"Resource interpreted as Image but\n",
       "             * transferred with MIME type text/plain:\" errors on\n",
       "             * Chrome.  But how to set the MIME type?  It doesn't seem\n",
       "             * to be part of the websocket stream */\n",
       "            evt.data.type = \"image/png\";\n",
       "\n",
       "            /* Free the memory for the previous frames */\n",
       "            if (fig.imageObj.src) {\n",
       "                (window.URL || window.webkitURL).revokeObjectURL(\n",
       "                    fig.imageObj.src);\n",
       "            }\n",
       "\n",
       "            fig.imageObj.src = (window.URL || window.webkitURL).createObjectURL(\n",
       "                evt.data);\n",
       "            fig.updated_canvas_event();\n",
       "            fig.waiting = false;\n",
       "            return;\n",
       "        }\n",
       "        else if (typeof evt.data === 'string' && evt.data.slice(0, 21) == \"data:image/png;base64\") {\n",
       "            fig.imageObj.src = evt.data;\n",
       "            fig.updated_canvas_event();\n",
       "            fig.waiting = false;\n",
       "            return;\n",
       "        }\n",
       "\n",
       "        var msg = JSON.parse(evt.data);\n",
       "        var msg_type = msg['type'];\n",
       "\n",
       "        // Call the  \"handle_{type}\" callback, which takes\n",
       "        // the figure and JSON message as its only arguments.\n",
       "        try {\n",
       "            var callback = fig[\"handle_\" + msg_type];\n",
       "        } catch (e) {\n",
       "            console.log(\"No handler for the '\" + msg_type + \"' message type: \", msg);\n",
       "            return;\n",
       "        }\n",
       "\n",
       "        if (callback) {\n",
       "            try {\n",
       "                // console.log(\"Handling '\" + msg_type + \"' message: \", msg);\n",
       "                callback(fig, msg);\n",
       "            } catch (e) {\n",
       "                console.log(\"Exception inside the 'handler_\" + msg_type + \"' callback:\", e, e.stack, msg);\n",
       "            }\n",
       "        }\n",
       "    };\n",
       "}\n",
       "\n",
       "// from http://stackoverflow.com/questions/1114465/getting-mouse-location-in-canvas\n",
       "mpl.findpos = function(e) {\n",
       "    //this section is from http://www.quirksmode.org/js/events_properties.html\n",
       "    var targ;\n",
       "    if (!e)\n",
       "        e = window.event;\n",
       "    if (e.target)\n",
       "        targ = e.target;\n",
       "    else if (e.srcElement)\n",
       "        targ = e.srcElement;\n",
       "    if (targ.nodeType == 3) // defeat Safari bug\n",
       "        targ = targ.parentNode;\n",
       "\n",
       "    // jQuery normalizes the pageX and pageY\n",
       "    // pageX,Y are the mouse positions relative to the document\n",
       "    // offset() returns the position of the element relative to the document\n",
       "    var x = e.pageX - $(targ).offset().left;\n",
       "    var y = e.pageY - $(targ).offset().top;\n",
       "\n",
       "    return {\"x\": x, \"y\": y};\n",
       "};\n",
       "\n",
       "/*\n",
       " * return a copy of an object with only non-object keys\n",
       " * we need this to avoid circular references\n",
       " * http://stackoverflow.com/a/24161582/3208463\n",
       " */\n",
       "function simpleKeys (original) {\n",
       "  return Object.keys(original).reduce(function (obj, key) {\n",
       "    if (typeof original[key] !== 'object')\n",
       "        obj[key] = original[key]\n",
       "    return obj;\n",
       "  }, {});\n",
       "}\n",
       "\n",
       "mpl.figure.prototype.mouse_event = function(event, name) {\n",
       "    var canvas_pos = mpl.findpos(event)\n",
       "\n",
       "    if (name === 'button_press')\n",
       "    {\n",
       "        this.canvas.focus();\n",
       "        this.canvas_div.focus();\n",
       "    }\n",
       "\n",
       "    var x = canvas_pos.x * mpl.ratio;\n",
       "    var y = canvas_pos.y * mpl.ratio;\n",
       "\n",
       "    this.send_message(name, {x: x, y: y, button: event.button,\n",
       "                             step: event.step,\n",
       "                             guiEvent: simpleKeys(event)});\n",
       "\n",
       "    /* This prevents the web browser from automatically changing to\n",
       "     * the text insertion cursor when the button is pressed.  We want\n",
       "     * to control all of the cursor setting manually through the\n",
       "     * 'cursor' event from matplotlib */\n",
       "    event.preventDefault();\n",
       "    return false;\n",
       "}\n",
       "\n",
       "mpl.figure.prototype._key_event_extra = function(event, name) {\n",
       "    // Handle any extra behaviour associated with a key event\n",
       "}\n",
       "\n",
       "mpl.figure.prototype.key_event = function(event, name) {\n",
       "\n",
       "    // Prevent repeat events\n",
       "    if (name == 'key_press')\n",
       "    {\n",
       "        if (event.which === this._key)\n",
       "            return;\n",
       "        else\n",
       "            this._key = event.which;\n",
       "    }\n",
       "    if (name == 'key_release')\n",
       "        this._key = null;\n",
       "\n",
       "    var value = '';\n",
       "    if (event.ctrlKey && event.which != 17)\n",
       "        value += \"ctrl+\";\n",
       "    if (event.altKey && event.which != 18)\n",
       "        value += \"alt+\";\n",
       "    if (event.shiftKey && event.which != 16)\n",
       "        value += \"shift+\";\n",
       "\n",
       "    value += 'k';\n",
       "    value += event.which.toString();\n",
       "\n",
       "    this._key_event_extra(event, name);\n",
       "\n",
       "    this.send_message(name, {key: value,\n",
       "                             guiEvent: simpleKeys(event)});\n",
       "    return false;\n",
       "}\n",
       "\n",
       "mpl.figure.prototype.toolbar_button_onclick = function(name) {\n",
       "    if (name == 'download') {\n",
       "        this.handle_save(this, null);\n",
       "    } else {\n",
       "        this.send_message(\"toolbar_button\", {name: name});\n",
       "    }\n",
       "};\n",
       "\n",
       "mpl.figure.prototype.toolbar_button_onmouseover = function(tooltip) {\n",
       "    this.message.textContent = tooltip;\n",
       "};\n",
       "mpl.toolbar_items = [[\"Home\", \"Reset original view\", \"fa fa-home icon-home\", \"home\"], [\"Back\", \"Back to previous view\", \"fa fa-arrow-left icon-arrow-left\", \"back\"], [\"Forward\", \"Forward to next view\", \"fa fa-arrow-right icon-arrow-right\", \"forward\"], [\"\", \"\", \"\", \"\"], [\"Pan\", \"Pan axes with left mouse, zoom with right\", \"fa fa-arrows icon-move\", \"pan\"], [\"Zoom\", \"Zoom to rectangle\", \"fa fa-square-o icon-check-empty\", \"zoom\"], [\"\", \"\", \"\", \"\"], [\"Download\", \"Download plot\", \"fa fa-floppy-o icon-save\", \"download\"]];\n",
       "\n",
       "mpl.extensions = [\"eps\", \"jpeg\", \"pdf\", \"png\", \"ps\", \"raw\", \"svg\", \"tif\"];\n",
       "\n",
       "mpl.default_extension = \"png\";var comm_websocket_adapter = function(comm) {\n",
       "    // Create a \"websocket\"-like object which calls the given IPython comm\n",
       "    // object with the appropriate methods. Currently this is a non binary\n",
       "    // socket, so there is still some room for performance tuning.\n",
       "    var ws = {};\n",
       "\n",
       "    ws.close = function() {\n",
       "        comm.close()\n",
       "    };\n",
       "    ws.send = function(m) {\n",
       "        //console.log('sending', m);\n",
       "        comm.send(m);\n",
       "    };\n",
       "    // Register the callback with on_msg.\n",
       "    comm.on_msg(function(msg) {\n",
       "        //console.log('receiving', msg['content']['data'], msg);\n",
       "        // Pass the mpl event to the overridden (by mpl) onmessage function.\n",
       "        ws.onmessage(msg['content']['data'])\n",
       "    });\n",
       "    return ws;\n",
       "}\n",
       "\n",
       "mpl.mpl_figure_comm = function(comm, msg) {\n",
       "    // This is the function which gets called when the mpl process\n",
       "    // starts-up an IPython Comm through the \"matplotlib\" channel.\n",
       "\n",
       "    var id = msg.content.data.id;\n",
       "    // Get hold of the div created by the display call when the Comm\n",
       "    // socket was opened in Python.\n",
       "    var element = $(\"#\" + id);\n",
       "    var ws_proxy = comm_websocket_adapter(comm)\n",
       "\n",
       "    function ondownload(figure, format) {\n",
       "        window.open(figure.imageObj.src);\n",
       "    }\n",
       "\n",
       "    var fig = new mpl.figure(id, ws_proxy,\n",
       "                           ondownload,\n",
       "                           element.get(0));\n",
       "\n",
       "    // Call onopen now - mpl needs it, as it is assuming we've passed it a real\n",
       "    // web socket which is closed, not our websocket->open comm proxy.\n",
       "    ws_proxy.onopen();\n",
       "\n",
       "    fig.parent_element = element.get(0);\n",
       "    fig.cell_info = mpl.find_output_cell(\"<div id='\" + id + \"'></div>\");\n",
       "    if (!fig.cell_info) {\n",
       "        console.error(\"Failed to find cell for figure\", id, fig);\n",
       "        return;\n",
       "    }\n",
       "\n",
       "    var output_index = fig.cell_info[2]\n",
       "    var cell = fig.cell_info[0];\n",
       "\n",
       "};\n",
       "\n",
       "mpl.figure.prototype.handle_close = function(fig, msg) {\n",
       "    var width = fig.canvas.width/mpl.ratio\n",
       "    fig.root.unbind('remove')\n",
       "\n",
       "    // Update the output cell to use the data from the current canvas.\n",
       "    fig.push_to_output();\n",
       "    var dataURL = fig.canvas.toDataURL();\n",
       "    // Re-enable the keyboard manager in IPython - without this line, in FF,\n",
       "    // the notebook keyboard shortcuts fail.\n",
       "    IPython.keyboard_manager.enable()\n",
       "    $(fig.parent_element).html('<img src=\"' + dataURL + '\" width=\"' + width + '\">');\n",
       "    fig.close_ws(fig, msg);\n",
       "}\n",
       "\n",
       "mpl.figure.prototype.close_ws = function(fig, msg){\n",
       "    fig.send_message('closing', msg);\n",
       "    // fig.ws.close()\n",
       "}\n",
       "\n",
       "mpl.figure.prototype.push_to_output = function(remove_interactive) {\n",
       "    // Turn the data on the canvas into data in the output cell.\n",
       "    var width = this.canvas.width/mpl.ratio\n",
       "    var dataURL = this.canvas.toDataURL();\n",
       "    this.cell_info[1]['text/html'] = '<img src=\"' + dataURL + '\" width=\"' + width + '\">';\n",
       "}\n",
       "\n",
       "mpl.figure.prototype.updated_canvas_event = function() {\n",
       "    // Tell IPython that the notebook contents must change.\n",
       "    IPython.notebook.set_dirty(true);\n",
       "    this.send_message(\"ack\", {});\n",
       "    var fig = this;\n",
       "    // Wait a second, then push the new image to the DOM so\n",
       "    // that it is saved nicely (might be nice to debounce this).\n",
       "    setTimeout(function () { fig.push_to_output() }, 1000);\n",
       "}\n",
       "\n",
       "mpl.figure.prototype._init_toolbar = function() {\n",
       "    var fig = this;\n",
       "\n",
       "    var nav_element = $('<div/>')\n",
       "    nav_element.attr('style', 'width: 100%');\n",
       "    this.root.append(nav_element);\n",
       "\n",
       "    // Define a callback function for later on.\n",
       "    function toolbar_event(event) {\n",
       "        return fig.toolbar_button_onclick(event['data']);\n",
       "    }\n",
       "    function toolbar_mouse_event(event) {\n",
       "        return fig.toolbar_button_onmouseover(event['data']);\n",
       "    }\n",
       "\n",
       "    for(var toolbar_ind in mpl.toolbar_items){\n",
       "        var name = mpl.toolbar_items[toolbar_ind][0];\n",
       "        var tooltip = mpl.toolbar_items[toolbar_ind][1];\n",
       "        var image = mpl.toolbar_items[toolbar_ind][2];\n",
       "        var method_name = mpl.toolbar_items[toolbar_ind][3];\n",
       "\n",
       "        if (!name) { continue; };\n",
       "\n",
       "        var button = $('<button class=\"btn btn-default\" href=\"#\" title=\"' + name + '\"><i class=\"fa ' + image + ' fa-lg\"></i></button>');\n",
       "        button.click(method_name, toolbar_event);\n",
       "        button.mouseover(tooltip, toolbar_mouse_event);\n",
       "        nav_element.append(button);\n",
       "    }\n",
       "\n",
       "    // Add the status bar.\n",
       "    var status_bar = $('<span class=\"mpl-message\" style=\"text-align:right; float: right;\"/>');\n",
       "    nav_element.append(status_bar);\n",
       "    this.message = status_bar[0];\n",
       "\n",
       "    // Add the close button to the window.\n",
       "    var buttongrp = $('<div class=\"btn-group inline pull-right\"></div>');\n",
       "    var button = $('<button class=\"btn btn-mini btn-primary\" href=\"#\" title=\"Stop Interaction\"><i class=\"fa fa-power-off icon-remove icon-large\"></i></button>');\n",
       "    button.click(function (evt) { fig.handle_close(fig, {}); } );\n",
       "    button.mouseover('Stop Interaction', toolbar_mouse_event);\n",
       "    buttongrp.append(button);\n",
       "    var titlebar = this.root.find($('.ui-dialog-titlebar'));\n",
       "    titlebar.prepend(buttongrp);\n",
       "}\n",
       "\n",
       "mpl.figure.prototype._root_extra_style = function(el){\n",
       "    var fig = this\n",
       "    el.on(\"remove\", function(){\n",
       "\tfig.close_ws(fig, {});\n",
       "    });\n",
       "}\n",
       "\n",
       "mpl.figure.prototype._canvas_extra_style = function(el){\n",
       "    // this is important to make the div 'focusable\n",
       "    el.attr('tabindex', 0)\n",
       "    // reach out to IPython and tell the keyboard manager to turn it's self\n",
       "    // off when our div gets focus\n",
       "\n",
       "    // location in version 3\n",
       "    if (IPython.notebook.keyboard_manager) {\n",
       "        IPython.notebook.keyboard_manager.register_events(el);\n",
       "    }\n",
       "    else {\n",
       "        // location in version 2\n",
       "        IPython.keyboard_manager.register_events(el);\n",
       "    }\n",
       "\n",
       "}\n",
       "\n",
       "mpl.figure.prototype._key_event_extra = function(event, name) {\n",
       "    var manager = IPython.notebook.keyboard_manager;\n",
       "    if (!manager)\n",
       "        manager = IPython.keyboard_manager;\n",
       "\n",
       "    // Check for shift+enter\n",
       "    if (event.shiftKey && event.which == 13) {\n",
       "        this.canvas_div.blur();\n",
       "        event.shiftKey = false;\n",
       "        // Send a \"J\" for go to next cell\n",
       "        event.which = 74;\n",
       "        event.keyCode = 74;\n",
       "        manager.command_mode();\n",
       "        manager.handle_keydown(event);\n",
       "    }\n",
       "}\n",
       "\n",
       "mpl.figure.prototype.handle_save = function(fig, msg) {\n",
       "    fig.ondownload(fig, null);\n",
       "}\n",
       "\n",
       "\n",
       "mpl.find_output_cell = function(html_output) {\n",
       "    // Return the cell and output element which can be found *uniquely* in the notebook.\n",
       "    // Note - this is a bit hacky, but it is done because the \"notebook_saving.Notebook\"\n",
       "    // IPython event is triggered only after the cells have been serialised, which for\n",
       "    // our purposes (turning an active figure into a static one), is too late.\n",
       "    var cells = IPython.notebook.get_cells();\n",
       "    var ncells = cells.length;\n",
       "    for (var i=0; i<ncells; i++) {\n",
       "        var cell = cells[i];\n",
       "        if (cell.cell_type === 'code'){\n",
       "            for (var j=0; j<cell.output_area.outputs.length; j++) {\n",
       "                var data = cell.output_area.outputs[j];\n",
       "                if (data.data) {\n",
       "                    // IPython >= 3 moved mimebundle to data attribute of output\n",
       "                    data = data.data;\n",
       "                }\n",
       "                if (data['text/html'] == html_output) {\n",
       "                    return [cell, data, j];\n",
       "                }\n",
       "            }\n",
       "        }\n",
       "    }\n",
       "}\n",
       "\n",
       "// Register the function which deals with the matplotlib target/channel.\n",
       "// The kernel may be null if the page has been refreshed.\n",
       "if (IPython.notebook.kernel != null) {\n",
       "    IPython.notebook.kernel.comm_manager.register_target('matplotlib', mpl.mpl_figure_comm);\n",
       "}\n"
      ],
      "text/plain": [
       "<IPython.core.display.Javascript object>"
      ]
     },
     "metadata": {},
     "output_type": "display_data"
    },
    {
     "data": {
      "text/html": [
       "<img src=\"data:image/png;base64,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\" width=\"720\">"
      ],
      "text/plain": [
       "<IPython.core.display.HTML object>"
      ]
     },
     "metadata": {},
     "output_type": "display_data"
    },
    {
     "name": "stdout",
     "output_type": "stream",
     "text": [
      "Start Portfolio value: 100000.00\n",
      "Final Portfolio Value: 99738.00\n",
      "Profit: -262.00\n",
      "\n",
      "MSFT\n",
      "Starting Portfolio Value: 100000.00\n",
      "2016-01-29, Previous Sentiment 0.01, New Sentiment 0.58 BUY CREATE, 50.52\n",
      "2016-02-01, BUY EXECUTED, Price: 50.33, Cost: 5033.00, Comm 0.00\n",
      "2016-02-04, Previous Sentiment 0.58, New Sentiment 0.01 SELL CREATE, 47.69\n",
      "2016-02-05, SELL EXECUTED, Price: 47.64, Cost: 5033.00, Comm 0.00\n",
      "2016-02-05, OPERATION PROFIT, GROSS -269.00, NET -269.00\n",
      "2016-04-21, Previous Sentiment -0.47, New Sentiment 0.90 BUY CREATE, 51.52\n",
      "2016-04-22, BUY EXECUTED, Price: 47.95, Cost: 4795.00, Comm 0.00\n",
      "2016-04-28, Previous Sentiment 0.90, New Sentiment 0.01 SELL CREATE, 46.09\n",
      "2016-04-29, SELL EXECUTED, Price: 45.59, Cost: 4795.00, Comm 0.00\n",
      "2016-04-29, OPERATION PROFIT, GROSS -236.00, NET -236.00\n",
      "2017-04-24, Previous Sentiment -0.08, New Sentiment 0.69 BUY CREATE, 64.02\n",
      "2017-04-25, BUY EXECUTED, Price: 64.37, Cost: 6437.00, Comm 0.00\n",
      "2017-12-05, Previous Sentiment 0.58, New Sentiment -0.19 SELL CREATE, 78.60\n",
      "2017-12-06, SELL EXECUTED, Price: 78.56, Cost: 6437.00, Comm 0.00\n",
      "2017-12-06, OPERATION PROFIT, GROSS 1419.00, NET 1419.00\n",
      "2018-01-04, Previous Sentiment -0.29, New Sentiment 0.37 BUY CREATE, 83.92\n",
      "2018-01-05, BUY EXECUTED, Price: 84.45, Cost: 8445.00, Comm 0.00\n",
      "2018-10-09, Previous Sentiment 0.71, New Sentiment 0.01 SELL CREATE, 109.54\n",
      "2018-10-10, SELL EXECUTED, Price: 108.55, Cost: 8445.00, Comm 0.00\n",
      "2018-10-10, OPERATION PROFIT, GROSS 2410.00, NET 2410.00\n",
      "2018-12-28, (MA Period 15) Ending Value 103324.00\n",
      "Start Portfolio value: 100000.00\n",
      "Final Portfolio Value: 103324.00\n",
      "Profit: 3324.00\n",
      "\n",
      "AMZN\n",
      "Starting Portfolio Value: 100000.00\n",
      "2016-02-29, Previous Sentiment 0.02, New Sentiment 0.88 BUY CREATE, 552.52\n",
      "2016-03-01, BUY EXECUTED, Price: 556.29, Cost: 55629.00, Comm 0.00\n",
      "2016-04-28, Previous Sentiment 0.96, New Sentiment 0.31 SELL CREATE, 602.00\n",
      "2016-04-29, SELL EXECUTED, Price: 666.00, Cost: 55629.00, Comm 0.00\n",
      "2016-04-29, OPERATION PROFIT, GROSS 10971.00, NET 10971.00\n",
      "2016-05-10, Previous Sentiment 0.02, New Sentiment 0.57 BUY CREATE, 703.07\n",
      "2016-05-11, BUY EXECUTED, Price: 705.79, Cost: 70579.00, Comm 0.00\n",
      "2016-06-15, Previous Sentiment 0.71, New Sentiment 0.07 SELL CREATE, 714.26\n",
      "2016-06-16, SELL EXECUTED, Price: 712.05, Cost: 70579.00, Comm 0.00\n",
      "2016-06-16, OPERATION PROFIT, GROSS 626.00, NET 626.00\n",
      "2016-07-13, Previous Sentiment 0.07, New Sentiment 0.60 BUY CREATE, 742.63\n",
      "2016-07-14, BUY EXECUTED, Price: 748.86, Cost: 74886.00, Comm 0.00\n",
      "2016-07-26, Previous Sentiment 0.46, New Sentiment -0.28 SELL CREATE, 735.59\n",
      "2016-07-27, SELL EXECUTED, Price: 737.97, Cost: 74886.00, Comm 0.00\n",
      "2016-07-27, OPERATION PROFIT, GROSS -1089.00, NET -1089.00\n",
      "2016-07-28, Previous Sentiment -0.18, New Sentiment 0.81 BUY CREATE, 752.61\n",
      "2016-07-29, BUY EXECUTED, Price: 765.00, Cost: 76500.00, Comm 0.00\n",
      "2016-11-02, Previous Sentiment 0.79, New Sentiment 0.02 SELL CREATE, 765.56\n",
      "2016-11-03, SELL EXECUTED, Price: 765.05, Cost: 76500.00, Comm 0.00\n",
      "2016-11-03, OPERATION PROFIT, GROSS 5.00, NET 5.00\n",
      "2017-02-01, Previous Sentiment -0.16, New Sentiment 0.52 BUY CREATE, 832.35\n",
      "2017-02-02, BUY EXECUTED, Price: 836.59, Cost: 83659.00, Comm 0.00\n",
      "2018-03-28, Previous Sentiment 0.87, New Sentiment -0.02 SELL CREATE, 1431.42\n",
      "2018-03-29, SELL EXECUTED, Price: 1406.00, Cost: 83659.00, Comm 0.00\n",
      "2018-03-29, OPERATION PROFIT, GROSS 56941.00, NET 56941.00\n",
      "2018-07-12, Previous Sentiment 0.36, New Sentiment 0.87 BUY CREATE, 1796.62\n",
      "2018-07-13, Order Canceled/Margin/Rejected\n",
      "2018-09-04, Previous Sentiment -0.24, New Sentiment 0.58 BUY CREATE, 2039.51\n",
      "2018-09-05, Order Canceled/Margin/Rejected\n",
      "2018-12-10, Previous Sentiment -0.11, New Sentiment 0.51 BUY CREATE, 1641.03\n",
      "2018-12-11, Order Canceled/Margin/Rejected\n",
      "2018-12-28, (MA Period 15) Ending Value 167454.00\n",
      "Start Portfolio value: 100000.00\n",
      "Final Portfolio Value: 167454.00\n",
      "Profit: 67454.00\n",
      "\n",
      "GOOG\n",
      "Starting Portfolio Value: 100000.00\n",
      "2016-02-03, Previous Sentiment 0.01, New Sentiment 0.73 BUY CREATE, 726.95\n",
      "2016-02-04, BUY EXECUTED, Price: 722.81, Cost: 72281.00, Comm 0.00\n",
      "2017-09-25, Previous Sentiment 0.69, New Sentiment 0.14 SELL CREATE, 920.97\n",
      "2017-09-26, SELL EXECUTED, Price: 923.72, Cost: 72281.00, Comm 0.00\n",
      "2017-09-26, OPERATION PROFIT, GROSS 20091.00, NET 20091.00\n",
      "2017-10-27, Previous Sentiment 0.01, New Sentiment 0.60 BUY CREATE, 1019.27\n",
      "2017-10-30, BUY EXECUTED, Price: 1014.00, Cost: 101400.00, Comm 0.00\n",
      "2018-04-09, Previous Sentiment 0.54, New Sentiment -0.45 SELL CREATE, 1015.45\n",
      "2018-04-10, SELL EXECUTED, Price: 1026.44, Cost: 101400.00, Comm 0.00\n",
      "2018-04-10, OPERATION PROFIT, GROSS 1244.00, NET 1244.00\n",
      "2018-04-23, Previous Sentiment 0.03, New Sentiment 0.87 BUY CREATE, 1067.45\n",
      "2018-04-24, BUY EXECUTED, Price: 1052.00, Cost: 105200.00, Comm 0.00\n",
      "2018-09-04, Previous Sentiment 0.76, New Sentiment 0.01 SELL CREATE, 1197.00\n",
      "2018-09-05, SELL EXECUTED, Price: 1193.80, Cost: 105200.00, Comm 0.00\n",
      "2018-09-05, OPERATION PROFIT, GROSS 14180.00, NET 14180.00\n",
      "2018-10-01, Previous Sentiment 0.01, New Sentiment 0.88 BUY CREATE, 1195.31\n",
      "2018-10-02, BUY EXECUTED, Price: 1190.96, Cost: 119096.00, Comm 0.00\n",
      "2018-10-05, Previous Sentiment 0.88, New Sentiment 0.31 SELL CREATE, 1157.35\n",
      "2018-10-08, SELL EXECUTED, Price: 1150.11, Cost: 119096.00, Comm 0.00\n",
      "2018-10-08, OPERATION PROFIT, GROSS -4085.00, NET -4085.00\n",
      "2018-12-28, (MA Period 15) Ending Value 131430.00\n",
      "Start Portfolio value: 100000.00\n",
      "Final Portfolio Value: 131430.00\n",
      "Profit: 31430.00\n",
      "\n",
      "FB\n",
      "Starting Portfolio Value: 100000.00\n",
      "2016-01-28, Previous Sentiment 0.01, New Sentiment 0.86 BUY CREATE, 109.11\n",
      "2016-01-29, BUY EXECUTED, Price: 108.99, Cost: 10899.00, Comm 0.00\n",
      "2016-04-27, Previous Sentiment 0.91, New Sentiment 0.01 SELL CREATE, 108.89\n",
      "2016-04-28, SELL EXECUTED, Price: 119.58, Cost: 10899.00, Comm 0.00\n",
      "2016-04-28, OPERATION PROFIT, GROSS 1059.00, NET 1059.00\n",
      "2016-07-06, Previous Sentiment -0.11, New Sentiment 0.81 BUY CREATE, 116.70\n",
      "2016-07-07, BUY EXECUTED, Price: 116.63, Cost: 11663.00, Comm 0.00\n",
      "2016-11-18, Previous Sentiment 0.78, New Sentiment -0.13 SELL CREATE, 117.02\n",
      "2016-11-21, SELL EXECUTED, Price: 118.20, Cost: 11663.00, Comm 0.00\n",
      "2016-11-21, OPERATION PROFIT, GROSS 157.00, NET 157.00\n",
      "2016-11-21, Previous Sentiment -0.13, New Sentiment 0.83 BUY CREATE, 121.77\n",
      "2016-11-22, BUY EXECUTED, Price: 122.40, Cost: 12240.00, Comm 0.00\n",
      "2016-12-01, Previous Sentiment 0.83, New Sentiment -0.01 SELL CREATE, 115.10\n",
      "2016-12-02, SELL EXECUTED, Price: 115.11, Cost: 12240.00, Comm 0.00\n",
      "2016-12-02, OPERATION PROFIT, GROSS -729.00, NET -729.00\n",
      "2018-04-10, Previous Sentiment 0.03, New Sentiment 0.55 BUY CREATE, 165.04\n",
      "2018-04-11, BUY EXECUTED, Price: 165.36, Cost: 16536.00, Comm 0.00\n",
      "2018-08-16, Previous Sentiment 0.80, New Sentiment -0.23 SELL CREATE, 174.70\n",
      "2018-08-17, SELL EXECUTED, Price: 174.50, Cost: 16536.00, Comm 0.00\n",
      "2018-08-17, OPERATION PROFIT, GROSS 914.00, NET 914.00\n",
      "2018-12-03, Previous Sentiment -0.63, New Sentiment 0.47 BUY CREATE, 141.09\n",
      "2018-12-04, BUY EXECUTED, Price: 140.73, Cost: 14073.00, Comm 0.00\n",
      "2018-12-28, (MA Period 15) Ending Value 100648.00\n",
      "Start Portfolio value: 100000.00\n",
      "Final Portfolio Value: 100648.00\n",
      "Profit: 648.00\n",
      "\n",
      "WMT\n",
      "Starting Portfolio Value: 100000.00\n",
      "2017-10-10, Previous Sentiment -0.48, New Sentiment 0.75 BUY CREATE, 79.01\n",
      "2017-10-11, BUY EXECUTED, Price: 79.43, Cost: 7943.00, Comm 0.00\n",
      "2018-05-07, Previous Sentiment 0.52, New Sentiment -0.10 SELL CREATE, 81.60\n",
      "2018-05-08, SELL EXECUTED, Price: 81.65, Cost: 7943.00, Comm 0.00\n",
      "2018-05-08, OPERATION PROFIT, GROSS 222.00, NET 222.00\n",
      "2018-07-26, Previous Sentiment -0.10, New Sentiment 0.51 BUY CREATE, 84.76\n",
      "2018-07-27, BUY EXECUTED, Price: 85.16, Cost: 8516.00, Comm 0.00\n",
      "2018-12-28, (MA Period 15) Ending Value 100657.00\n",
      "Start Portfolio value: 100000.00\n",
      "Final Portfolio Value: 100657.00\n",
      "Profit: 657.00\n",
      "\n",
      "JPM\n",
      "Starting Portfolio Value: 100000.00\n",
      "2018-12-28, (MA Period 15) Ending Value 100000.00\n",
      "Start Portfolio value: 100000.00\n",
      "Final Portfolio Value: 100000.00\n",
      "Profit: 0.00\n",
      "\n",
      "TSLA\n",
      "Starting Portfolio Value: 100000.00\n",
      "2016-03-03, Previous Sentiment 0.29, New Sentiment 0.83 BUY CREATE, 195.74\n",
      "2016-03-04, BUY EXECUTED, Price: 198.00, Cost: 19800.00, Comm 0.00\n",
      "2016-05-10, Previous Sentiment 0.33, New Sentiment -0.44 SELL CREATE, 208.69\n",
      "2016-05-11, SELL EXECUTED, Price: 207.59, Cost: 19800.00, Comm 0.00\n",
      "2016-05-11, OPERATION PROFIT, GROSS 959.00, NET 959.00\n",
      "2016-07-11, Previous Sentiment -0.85, New Sentiment 0.35 BUY CREATE, 224.78\n",
      "2016-07-12, BUY EXECUTED, Price: 224.10, Cost: 22410.00, Comm 0.00\n",
      "2016-08-03, Previous Sentiment 0.79, New Sentiment -0.22 SELL CREATE, 225.79\n",
      "2016-08-04, SELL EXECUTED, Price: 225.69, Cost: 22410.00, Comm 0.00\n",
      "2016-08-04, OPERATION PROFIT, GROSS 159.00, NET 159.00\n",
      "2016-08-04, Previous Sentiment -0.22, New Sentiment 0.47 BUY CREATE, 230.61\n",
      "2016-08-05, BUY EXECUTED, Price: 230.00, Cost: 23000.00, Comm 0.00\n",
      "2016-08-15, Previous Sentiment 0.47, New Sentiment -0.16 SELL CREATE, 225.59\n",
      "2016-08-16, SELL EXECUTED, Price: 225.49, Cost: 23000.00, Comm 0.00\n",
      "2016-08-16, OPERATION PROFIT, GROSS -451.00, NET -451.00\n",
      "2016-10-24, Previous Sentiment 0.18, New Sentiment 0.79 BUY CREATE, 202.76\n",
      "2016-10-25, BUY EXECUTED, Price: 202.90, Cost: 20290.00, Comm 0.00\n",
      "2016-11-09, Previous Sentiment 0.57, New Sentiment 0.01 SELL CREATE, 190.06\n",
      "2016-11-10, SELL EXECUTED, Price: 191.05, Cost: 20290.00, Comm 0.00\n",
      "2016-11-10, OPERATION PROFIT, GROSS -1185.00, NET -1185.00\n",
      "2017-02-09, Previous Sentiment -0.01, New Sentiment 0.64 BUY CREATE, 269.20\n",
      "2017-02-10, BUY EXECUTED, Price: 269.79, Cost: 26979.00, Comm 0.00\n",
      "2017-08-02, Previous Sentiment 0.77, New Sentiment 0.01 SELL CREATE, 325.89\n",
      "2017-08-03, SELL EXECUTED, Price: 345.33, Cost: 26979.00, Comm 0.00\n",
      "2017-08-03, OPERATION PROFIT, GROSS 7554.00, NET 7554.00\n",
      "2018-03-12, Previous Sentiment -0.36, New Sentiment 0.32 BUY CREATE, 345.51\n",
      "2018-03-13, BUY EXECUTED, Price: 328.61, Cost: 32861.00, Comm 0.00\n",
      "2018-03-19, Previous Sentiment 0.32, New Sentiment -0.40 SELL CREATE, 313.56\n",
      "2018-03-20, SELL EXECUTED, Price: 314.87, Cost: 32861.00, Comm 0.00\n",
      "2018-03-20, OPERATION PROFIT, GROSS -1374.00, NET -1374.00\n",
      "2018-06-01, Previous Sentiment -0.60, New Sentiment 0.43 BUY CREATE, 291.82\n",
      "2018-06-04, BUY EXECUTED, Price: 294.34, Cost: 29434.00, Comm 0.00\n",
      "2018-07-03, Previous Sentiment 0.75, New Sentiment -0.20 SELL CREATE, 310.86\n",
      "2018-07-05, SELL EXECUTED, Price: 313.76, Cost: 29434.00, Comm 0.00\n",
      "2018-07-05, OPERATION PROFIT, GROSS 1942.00, NET 1942.00\n",
      "2018-10-23, Previous Sentiment -0.17, New Sentiment 0.39 BUY CREATE, 294.14\n",
      "2018-10-24, BUY EXECUTED, Price: 301.05, Cost: 30105.00, Comm 0.00\n",
      "2018-12-28, (MA Period 15) Ending Value 110886.00\n",
      "Start Portfolio value: 100000.00\n",
      "Final Portfolio Value: 110886.00\n",
      "Profit: 10886.00\n",
      "\n",
      "NFLX\n",
      "Starting Portfolio Value: 100000.00\n",
      "2016-05-26, Previous Sentiment 0.04, New Sentiment 0.58 BUY CREATE, 102.81\n",
      "2016-05-27, BUY EXECUTED, Price: 102.44, Cost: 10244.00, Comm 0.00\n",
      "2016-06-13, Previous Sentiment 0.58, New Sentiment -0.32 SELL CREATE, 93.85\n",
      "2016-06-14, SELL EXECUTED, Price: 94.16, Cost: 10244.00, Comm 0.00\n",
      "2016-06-14, OPERATION PROFIT, GROSS -828.00, NET -828.00\n",
      "2016-07-11, Previous Sentiment -0.54, New Sentiment 0.71 BUY CREATE, 94.67\n",
      "2016-07-12, BUY EXECUTED, Price: 95.07, Cost: 9507.00, Comm 0.00\n",
      "2016-07-19, Previous Sentiment 0.61, New Sentiment -0.25 SELL CREATE, 85.84\n",
      "2016-07-20, SELL EXECUTED, Price: 86.67, Cost: 9507.00, Comm 0.00\n",
      "2016-07-20, OPERATION PROFIT, GROSS -840.00, NET -840.00\n",
      "2016-10-03, Previous Sentiment 0.09, New Sentiment 0.60 BUY CREATE, 102.63\n",
      "2016-10-04, BUY EXECUTED, Price: 103.19, Cost: 10319.00, Comm 0.00\n",
      "2016-11-09, Previous Sentiment 0.66, New Sentiment -0.52 SELL CREATE, 122.19\n",
      "2016-11-10, SELL EXECUTED, Price: 122.76, Cost: 10319.00, Comm 0.00\n",
      "2016-11-10, OPERATION PROFIT, GROSS 1957.00, NET 1957.00\n",
      "2017-01-12, Previous Sentiment -0.20, New Sentiment 0.47 BUY CREATE, 129.18\n",
      "2017-01-13, BUY EXECUTED, Price: 131.15, Cost: 13115.00, Comm 0.00\n",
      "2017-06-12, Previous Sentiment 0.89, New Sentiment 0.21 SELL CREATE, 151.44\n",
      "2017-06-13, SELL EXECUTED, Price: 154.38, Cost: 13115.00, Comm 0.00\n",
      "2017-06-13, OPERATION PROFIT, GROSS 2323.00, NET 2323.00\n",
      "2017-07-18, Previous Sentiment -0.22, New Sentiment 0.73 BUY CREATE, 183.60\n",
      "2017-07-19, BUY EXECUTED, Price: 182.97, Cost: 18297.00, Comm 0.00\n",
      "2018-07-13, Previous Sentiment 0.52, New Sentiment -0.37 SELL CREATE, 395.80\n",
      "2018-07-16, SELL EXECUTED, Price: 398.98, Cost: 18297.00, Comm 0.00\n",
      "2018-07-16, OPERATION PROFIT, GROSS 21601.00, NET 21601.00\n",
      "2018-09-19, Previous Sentiment -0.31, New Sentiment 0.43 BUY CREATE, 366.96\n",
      "2018-09-20, BUY EXECUTED, Price: 370.26, Cost: 37026.00, Comm 0.00\n",
      "2018-10-16, Previous Sentiment 0.60, New Sentiment 0.01 SELL CREATE, 346.40\n",
      "2018-10-17, SELL EXECUTED, Price: 378.33, Cost: 37026.00, Comm 0.00\n",
      "2018-10-17, OPERATION PROFIT, GROSS 807.00, NET 807.00\n",
      "2018-12-28, (MA Period 15) Ending Value 125020.00\n",
      "Start Portfolio value: 100000.00\n",
      "Final Portfolio Value: 125020.00\n",
      "Profit: 25020.00\n",
      "\n",
      "ADBE\n",
      "Starting Portfolio Value: 100000.00\n",
      "2017-03-17, Previous Sentiment -0.01, New Sentiment 0.76 BUY CREATE, 127.01\n",
      "2017-03-20, BUY EXECUTED, Price: 126.99, Cost: 12699.00, Comm 0.00\n",
      "2018-10-15, Previous Sentiment 0.71, New Sentiment 0.09 SELL CREATE, 238.01\n",
      "2018-10-16, SELL EXECUTED, Price: 252.50, Cost: 12699.00, Comm 0.00\n",
      "2018-10-16, OPERATION PROFIT, GROSS 12551.00, NET 12551.00\n",
      "2018-12-28, (MA Period 15) Ending Value 112551.00\n",
      "Start Portfolio value: 100000.00\n",
      "Final Portfolio Value: 112551.00\n",
      "Profit: 12551.00\n",
      "\n"
     ]
    },
    {
     "data": {
      "image/png": "[encoded data removed]",
      "text/plain": [
       "<Figure size 720x432 with 4 Axes>"
      ]
     },
     "metadata": {
      "needs_background": "light"
     },
     "output_type": "display_data"
    }
   ],
   "source": [
    "results_tickers = {}\n",
    "for ticker in tickers: \n",
    "    date_sentiment=data_df[data_df['ticker'].isin([ticker])]\n",
    "    date_sentiment=date_sentiment[['date','sentiment_lex']]\n",
    "    date_sentiment['date']=pd.to_datetime(date_sentiment['date'], format='%Y-%m-%d').dt.date\n",
    "    date_sentiment=date_sentiment.set_index('date')['sentiment_lex']\n",
    "    date_sentiment=date_sentiment.to_dict()\n",
    "    results_tickers[ticker] = run_strategy(ticker, start = '2016-01-01', end = '2018-12-31')"
   ]
  },
  {
   "cell_type": "code",
   "execution_count": 70,
   "metadata": {},
   "outputs": [
    {
     "data": {
      "text/html": [
       "<div>\n",
       "<style scoped>\n",
       "    .dataframe tbody tr th:only-of-type {\n",
       "        vertical-align: middle;\n",
       "    }\n",
       "\n",
       "    .dataframe tbody tr th {\n",
       "        vertical-align: top;\n",
       "    }\n",
       "\n",
       "    .dataframe thead th {\n",
       "        text-align: right;\n",
       "    }\n",
       "</style>\n",
       "<table border=\"1\" class=\"dataframe\">\n",
       "  <thead>\n",
       "    <tr style=\"text-align: right;\">\n",
       "      <th></th>\n",
       "      <th>AAPL</th>\n",
       "      <th>MSFT</th>\n",
       "      <th>AMZN</th>\n",
       "      <th>GOOG</th>\n",
       "      <th>FB</th>\n",
       "      <th>WMT</th>\n",
       "      <th>JPM</th>\n",
       "      <th>TSLA</th>\n",
       "      <th>NFLX</th>\n",
       "      <th>ADBE</th>\n",
       "    </tr>\n",
       "  </thead>\n",
       "  <tbody>\n",
       "    <tr>\n",
       "      <th>PerUnitStartPrice</th>\n",
       "      <td>97.95</td>\n",
       "      <td>50.26</td>\n",
       "      <td>636.99</td>\n",
       "      <td>741.84</td>\n",
       "      <td>102.22</td>\n",
       "      <td>54.97</td>\n",
       "      <td>55.84</td>\n",
       "      <td>223.41</td>\n",
       "      <td>109.96</td>\n",
       "      <td>91.97</td>\n",
       "    </tr>\n",
       "    <tr>\n",
       "      <th>StrategyProfit</th>\n",
       "      <td>-262.00</td>\n",
       "      <td>3324.00</td>\n",
       "      <td>67454.00</td>\n",
       "      <td>31430.00</td>\n",
       "      <td>648.00</td>\n",
       "      <td>657.00</td>\n",
       "      <td>0.00</td>\n",
       "      <td>10886.00</td>\n",
       "      <td>25020.00</td>\n",
       "      <td>12551.00</td>\n",
       "    </tr>\n",
       "  </tbody>\n",
       "</table>\n",
       "</div>"
      ],
      "text/plain": [
       "                     AAPL     MSFT      AMZN      GOOG      FB     WMT    JPM  \\\n",
       "PerUnitStartPrice   97.95    50.26    636.99    741.84  102.22   54.97  55.84   \n",
       "StrategyProfit    -262.00  3324.00  67454.00  31430.00  648.00  657.00   0.00   \n",
       "\n",
       "                       TSLA      NFLX      ADBE  \n",
       "PerUnitStartPrice    223.41    109.96     91.97  \n",
       "StrategyProfit     10886.00  25020.00  12551.00  "
      ]
     },
     "execution_count": 70,
     "metadata": {},
     "output_type": "execute_result"
    }
   ],
   "source": [
    "pd.DataFrame.from_dict(results_tickers).set_index([pd.Index([\"PerUnitStartPrice\", 'StrategyProfit'])])"
   ]
  },
  {
   "cell_type": "markdown",
   "metadata": {},
   "source": [
    "We see a good performance of the sentiment based strategy across all the stocks except AAPL and we can conclude that our sentiment based strategy performs quite well on different time period. The strategy can be further be tweaked to modify the threshold, order size. Additional metrics such as sharpe ratio and maximum drawdown can also be used to understand the performance of the stratefy. The sentiments can also be used along with the other features such as correlated variables and technical indicators for prediction.   "
   ]
  },
  {
   "cell_type": "markdown",
   "metadata": {},
   "source": [
    "**Conclusion**\n",
    "\n",
    " We performed a comparison of the models and concluded that one of the most important step is training the model for sentiment analysis is training it using the domain-specific vocabulary. \n",
    "\n",
    "We further used the sentiments as signals to develop different trading strategy. This initial result suggests that the model trained on a financial lexicon based sentiments could prove a viable model for a trading strategy. \n",
    "\n",
    "Additional improvements to this can be made by using more complex pre-trained sentiment analysis models such as Bert by google or diffeent pre-trained NLP models available in open source platforms. Existing NLP libraries fill in some of the pre-processing and encoding steps to allow us to focus on the inference step.\n"
   ]
  }
 ],
 "metadata": {
  "_change_revision": 206,
  "_is_fork": false,
  "kernelspec": {
   "display_name": "Python 3",
   "language": "python",
   "name": "python3"
  },
  "language_info": {
   "codemirror_mode": {
    "name": "ipython",
    "version": 3
   },
   "file_extension": ".py",
   "mimetype": "text/x-python",
   "name": "python",
   "nbconvert_exporter": "python",
   "pygments_lexer": "ipython3",
   "version": "3.8.17"
  }
 },
 "nbformat": 4,
 "nbformat_minor": 1
}
